{
  "nbformat": 4,
  "nbformat_minor": 0,
  "metadata": {
    "colab": {
      "name": "Sine Function Approximation in PyTorch.ipynb",
      "provenance": [],
      "collapsed_sections": [],
      "toc_visible": true,
      "authorship_tag": "ABX9TyMw1E2kKQXtqt3H4ylgtE0P",
      "include_colab_link": true
    },
    "kernelspec": {
      "name": "python3",
      "display_name": "Python 3"
    },
    "accelerator": "GPU"
  },
  "cells": [
    {
      "cell_type": "markdown",
      "metadata": {
        "id": "view-in-github",
        "colab_type": "text"
      },
      "source": [
        "<a href=\"https://colab.research.google.com/github/smlra-kjsce/PyTorch-101/blob/main/Sine%20Function%20Approximation%20in%20PyTorch.ipynb\" target=\"_parent\"><img src=\"https://colab.research.google.com/assets/colab-badge.svg\" alt=\"Open In Colab\"/></a>"
      ]
    },
    {
      "cell_type": "markdown",
      "metadata": {
        "id": "dR0RKxShTEiT"
      },
      "source": [
        "## Import Libraries"
      ]
    },
    {
      "cell_type": "code",
      "metadata": {
        "id": "pNssNOferi7B"
      },
      "source": [
        "import torch\n",
        "import numpy as np\n",
        "import matplotlib.pyplot as plt\n",
        "\n",
        "from torch import nn, optim\n",
        "from torch.nn import functional as F\n",
        "from torch.utils.data import TensorDataset, DataLoader\n",
        "\n",
        "from sklearn.model_selection import train_test_split\n",
        "\n",
        "device = torch.device(\"cuda\") if torch.cuda.is_available() else torch.device(\"cpu\")"
      ],
      "execution_count": null,
      "outputs": []
    },
    {
      "cell_type": "markdown",
      "metadata": {
        "id": "MAxg-qX-TIEO"
      },
      "source": [
        "## Define some hyperparameters"
      ]
    },
    {
      "cell_type": "code",
      "metadata": {
        "id": "Dw_J3We1XOl5"
      },
      "source": [
        "LR = 1e-6\n",
        "MAX_EPOCH = 10\n",
        "BATCH_SIZE = 512"
      ],
      "execution_count": null,
      "outputs": []
    },
    {
      "cell_type": "markdown",
      "metadata": {
        "id": "1Hrjs1vgTKf2"
      },
      "source": [
        "## Defining our model to approximate sine curve"
      ]
    },
    {
      "cell_type": "code",
      "metadata": {
        "id": "uOf7aGyEXSc5"
      },
      "source": [
        "class SineApproximator(nn.Module):\n",
        "    def __init__(self):\n",
        "        super(SineApproximator, self).__init__()\n",
        "        self.regressor = nn.Sequential(nn.Linear(1, 1024),\n",
        "                                       nn.ReLU(inplace=True),\n",
        "                                       nn.Linear(1024, 1024),\n",
        "                                       nn.ReLU(inplace=True),\n",
        "                                       nn.Linear(1024, 1))\n",
        "    def forward(self, x):\n",
        "        output = self.regressor(x)\n",
        "        return output\n",
        "\n",
        "    ## Since I have inherited nn.Module, backward() function is already implemented and I don't need to define it again."
      ],
      "execution_count": null,
      "outputs": []
    },
    {
      "cell_type": "code",
      "metadata": {
        "id": "KXgTdqUDXWu6"
      },
      "source": [
        "X = np.random.rand(10**6) * 2 * np.pi\n",
        "y = np.sin(X)\n",
        "\n",
        "X_train, X_val, y_train, y_val = map(torch.tensor, train_test_split(X, y, test_size=0.2))\n",
        "train_dataloader = DataLoader(TensorDataset(X_train.unsqueeze(1), y_train.unsqueeze(1)), batch_size=BATCH_SIZE,\n",
        "                              pin_memory=True, shuffle=True)\n",
        "val_dataloader = DataLoader(TensorDataset(X_val.unsqueeze(1), y_val.unsqueeze(1)), batch_size=BATCH_SIZE,\n",
        "                            pin_memory=True, shuffle=True)\n",
        "\n",
        "model = SineApproximator().to(device)\n",
        "optimizer = optim.Adam(model.parameters(), lr=LR)\n",
        "criterion = nn.MSELoss(reduction=\"mean\")"
      ],
      "execution_count": null,
      "outputs": []
    },
    {
      "cell_type": "code",
      "metadata": {
        "colab": {
          "base_uri": "https://localhost:8080/",
          "height": 281
        },
        "id": "_BjPn291YbNL",
        "outputId": "2c65a674-4a37-4408-9b51-e7f12fe66c66"
      },
      "source": [
        "plt.scatter(X,y)\n",
        "plt.title('Total Dataset for Sine Approximation');"
      ],
      "execution_count": null,
      "outputs": [
        {
          "output_type": "display_data",
          "data": {
            "image/png": "[encoded data removed]",
            "text/plain": [
              "<Figure size 432x288 with 1 Axes>"
            ]
          },
          "metadata": {
            "tags": [],
            "needs_background": "light"
          }
        }
      ]
    },
    {
      "cell_type": "code",
      "metadata": {
        "colab": {
          "base_uri": "https://localhost:8080/",
          "height": 281
        },
        "id": "M9Yil3aeYpdK",
        "outputId": "749eda5d-479b-42ef-9791-9fdba314500f"
      },
      "source": [
        "plt.scatter(X_train.cpu(),y_train.cpu())\n",
        "plt.title('train Dataset for Sine Approximation');"
      ],
      "execution_count": null,
      "outputs": [
        {
          "output_type": "display_data",
          "data": {
            "image/png": "[encoded data removed]",
            "text/plain": [
              "<Figure size 432x288 with 1 Axes>"
            ]
          },
          "metadata": {
            "tags": [],
            "needs_background": "light"
          }
        }
      ]
    },
    {
      "cell_type": "code",
      "metadata": {
        "colab": {
          "base_uri": "https://localhost:8080/",
          "height": 281
        },
        "id": "dV15m7-jYrEh",
        "outputId": "4d974912-ff68-4dd0-cb9e-cdab6967be62"
      },
      "source": [
        "plt.scatter(X_val.cpu(),y_val.cpu())\n",
        "plt.title('val Dataset for Sine Approximation');"
      ],
      "execution_count": null,
      "outputs": [
        {
          "output_type": "display_data",
          "data": {
            "image/png": "[encoded data removed]",
            "text/plain": [
              "<Figure size 432x288 with 1 Axes>"
            ]
          },
          "metadata": {
            "tags": [],
            "needs_background": "light"
          }
        }
      ]
    },
    {
      "cell_type": "markdown",
      "metadata": {
        "id": "Pbhp7wxOTQH8"
      },
      "source": [
        "## Training our model"
      ]
    },
    {
      "cell_type": "code",
      "metadata": {
        "colab": {
          "base_uri": "https://localhost:8080/"
        },
        "id": "vAwzbZ3-Xkid",
        "outputId": "8c322c26-8a54-4fcd-e3e3-2c6b7eb08449"
      },
      "source": [
        "train_loss_list = list()\n",
        "val_loss_list = list()\n",
        "for epoch in range(MAX_EPOCH):\n",
        "    print(\"epoch %d / %d\" % (epoch+1, MAX_EPOCH))\n",
        "    model.train()\n",
        "    # training loop\n",
        "    temp_loss_list = list()\n",
        "    for X_train, y_train in train_dataloader:\n",
        "        X_train = X_train.type(torch.float32).to(device)\n",
        "        y_train = y_train.type(torch.float32).to(device)\n",
        "\n",
        "        optimizer.zero_grad()\n",
        "\n",
        "        score = model(X_train)\n",
        "        loss = criterion(input=score, target=y_train)\n",
        "        loss.backward()\n",
        "\n",
        "        optimizer.step()\n",
        "\n",
        "        temp_loss_list.append(loss.detach().cpu().numpy())\n",
        "    \n",
        "    temp_loss_list = list()\n",
        "    for X_train, y_train in train_dataloader:\n",
        "        X_train = X_train.type(torch.float32).to(device)\n",
        "        y_train = y_train.type(torch.float32).to(device)\n",
        "\n",
        "        score = model(X_train)\n",
        "        loss = criterion(input=score, target=y_train)\n",
        "\n",
        "        temp_loss_list.append(loss.detach().cpu().numpy())\n",
        "    \n",
        "    train_loss_list.append(np.average(temp_loss_list))\n",
        "\n",
        "    # validation\n",
        "    model.eval()\n",
        "    \n",
        "    temp_loss_list = list()\n",
        "    for X_val, y_val in val_dataloader:\n",
        "        X_val = X_val.type(torch.float32).to(device)\n",
        "        y_val = y_val.type(torch.float32).to(device)\n",
        "\n",
        "        score = model(X_val)\n",
        "        loss = criterion(input=score, target=y_val)\n",
        "\n",
        "        temp_loss_list.append(loss.detach().cpu().numpy())\n",
        "    \n",
        "    val_loss_list.append(np.average(temp_loss_list))\n",
        "\n",
        "    print(\"\\ttrain loss: %.5f\" % train_loss_list[-1])\n",
        "    print(\"\\tval loss: %.5f\" % val_loss_list[-1])"
      ],
      "execution_count": null,
      "outputs": [
        {
          "output_type": "stream",
          "text": [
            "epoch 1 / 10\n",
            "\ttrain loss: 0.09842\n",
            "\tval loss: 0.09853\n",
            "epoch 2 / 10\n",
            "\ttrain loss: 0.07372\n",
            "\tval loss: 0.07380\n",
            "epoch 3 / 10\n",
            "\ttrain loss: 0.05159\n",
            "\tval loss: 0.05164\n",
            "epoch 4 / 10\n",
            "\ttrain loss: 0.03287\n",
            "\tval loss: 0.03290\n",
            "epoch 5 / 10\n",
            "\ttrain loss: 0.01913\n",
            "\tval loss: 0.01915\n",
            "epoch 6 / 10\n",
            "\ttrain loss: 0.01024\n",
            "\tval loss: 0.01024\n",
            "epoch 7 / 10\n",
            "\ttrain loss: 0.00516\n",
            "\tval loss: 0.00516\n",
            "epoch 8 / 10\n",
            "\ttrain loss: 0.00249\n",
            "\tval loss: 0.00250\n",
            "epoch 9 / 10\n",
            "\ttrain loss: 0.00116\n",
            "\tval loss: 0.00116\n",
            "epoch 10 / 10\n",
            "\ttrain loss: 0.00053\n",
            "\tval loss: 0.00053\n"
          ],
          "name": "stdout"
        }
      ]
    },
    {
      "cell_type": "markdown",
      "metadata": {
        "id": "Y60Ym2BsTWhr"
      },
      "source": [
        "## Plotting Loss"
      ]
    },
    {
      "cell_type": "code",
      "metadata": {
        "colab": {
          "base_uri": "https://localhost:8080/",
          "height": 265
        },
        "id": "G--C0PBRsNMx",
        "outputId": "f7c773e9-9f2d-4362-9e18-97c6227e8042"
      },
      "source": [
        "train_plot = plt.plot(train_loss_list, label=\"Training Loss\")\n",
        "val_plot = plt.plot(val_loss_list, label=\"Validation Loss\")\n",
        "plt.legend(loc=\"upper right\");"
      ],
      "execution_count": null,
      "outputs": [
        {
          "output_type": "display_data",
          "data": {
            "image/png": "[encoded data removed]",
            "text/plain": [
              "<Figure size 432x288 with 1 Axes>"
            ]
          },
          "metadata": {
            "tags": [],
            "needs_background": "light"
          }
        }
      ]
    },
    {
      "cell_type": "markdown",
      "metadata": {
        "id": "2l227HiFTZWF"
      },
      "source": [
        "## Time for prediction!"
      ]
    },
    {
      "cell_type": "code",
      "metadata": {
        "id": "VP5giYZ1tkWg"
      },
      "source": [
        "model.eval()\n",
        "prediction = model(X_val)"
      ],
      "execution_count": null,
      "outputs": []
    },
    {
      "cell_type": "code",
      "metadata": {
        "colab": {
          "base_uri": "https://localhost:8080/",
          "height": 265
        },
        "id": "81ZuTiguaWTN",
        "outputId": "aceb8bef-a300-4527-d84c-b117082294b8"
      },
      "source": [
        "predicted = plt.scatter(X_val.cpu(), prediction.detach().cpu())\n",
        "original = plt.scatter(X_train.cpu(), y_train.cpu())\n",
        "plt.legend((predicted, original), (\"Predicted\", \"Original\"));"
      ],
      "execution_count": null,
      "outputs": [
        {
          "output_type": "display_data",
          "data": {
            "image/png": "[encoded data removed]",
            "text/plain": [
              "<Figure size 432x288 with 1 Axes>"
            ]
          },
          "metadata": {
            "tags": [],
            "needs_background": "light"
          }
        }
      ]
    },
    {
      "cell_type": "markdown",
      "metadata": {
        "id": "Qb1A0VT_8af8"
      },
      "source": [
        "### So, here we can see that our neural network was able to approximate sine function very well."
      ]
    },
    {
      "cell_type": "markdown",
      "metadata": {
        "id": "Bj0RhPCZTfc5"
      },
      "source": [
        "## State_dict of model and optimizer"
      ]
    },
    {
      "cell_type": "code",
      "metadata": {
        "colab": {
          "base_uri": "https://localhost:8080/"
        },
        "id": "oQfpMzNHL2F3",
        "outputId": "b34d98df-371e-469d-8152-a165ad6bbe98"
      },
      "source": [
        "print(\"Model's state_dict:\")\n",
        "for param_tensor in model.state_dict():\n",
        "    print(param_tensor, \"\\t\", model.state_dict()[param_tensor].size())\n",
        "\n",
        "# Print optimizer's state_dict\n",
        "print(\"Optimizer's state_dict:\")\n",
        "for var_name in optimizer.state_dict():\n",
        "    print(var_name, \"\\t\", optimizer.state_dict()[var_name])"
      ],
      "execution_count": null,
      "outputs": [
        {
          "output_type": "stream",
          "text": [
            "Model's state_dict:\n",
            "regressor.0.weight \t torch.Size([1024, 1])\n",
            "regressor.0.bias \t torch.Size([1024])\n",
            "regressor.2.weight \t torch.Size([1024, 1024])\n",
            "regressor.2.bias \t torch.Size([1024])\n",
            "regressor.4.weight \t torch.Size([1, 1024])\n",
            "regressor.4.bias \t torch.Size([1])\n",
            "Optimizer's state_dict:\n",
            "state \t {0: {'step': 15630, 'exp_avg': tensor([[ 4.6025e-05],\n",
            "        [ 7.3237e-09],\n",
            "        [-1.8306e-05],\n",
            "        ...,\n",
            "        [ 2.3937e-05],\n",
            "        [-3.3443e-06],\n",
            "        [ 6.3547e-06]], device='cuda:0'), 'exp_avg_sq': tensor([[2.7239e-07],\n",
            "        [5.5221e-15],\n",
            "        [5.6076e-08],\n",
            "        ...,\n",
            "        [3.0065e-08],\n",
            "        [1.8366e-08],\n",
            "        [2.7159e-08]], device='cuda:0')}, 1: {'step': 15630, 'exp_avg': tensor([-2.0342e-05,  8.6167e-08,  1.3242e-05,  ..., -1.3676e-05,\n",
            "         2.4177e-06, -2.2390e-07], device='cuda:0'), 'exp_avg_sq': tensor([2.8005e-08, 6.9960e-13, 2.2978e-09,  ..., 3.1504e-09, 1.0814e-09,\n",
            "        1.8065e-09], device='cuda:0')}, 2: {'step': 15630, 'exp_avg': tensor([[-9.5109e-06, -1.2803e-08,  5.3582e-06,  ..., -2.6647e-06,\n",
            "          1.5737e-05,  3.9083e-06],\n",
            "        [-5.6517e-06, -7.6079e-09, -3.2443e-06,  ...,  5.3052e-06,\n",
            "         -5.8846e-06,  3.7642e-07],\n",
            "        [ 1.0314e-05,  1.3884e-08,  5.9208e-06,  ..., -9.6804e-06,\n",
            "          1.0741e-05, -6.8595e-07],\n",
            "        ...,\n",
            "        [-1.7069e-05, -2.2927e-08,  8.5206e-06,  ..., -8.1828e-06,\n",
            "          2.1549e-05,  3.4623e-06],\n",
            "        [-9.4069e-06, -1.2663e-08, -5.4000e-06,  ...,  8.8297e-06,\n",
            "         -9.7949e-06,  6.2621e-07],\n",
            "        [ 7.8935e-06,  0.0000e+00,  4.6802e-06,  ..., -7.8983e-06,\n",
            "          8.4953e-06, -6.1740e-07]], device='cuda:0'), 'exp_avg_sq': tensor([[8.7415e-10, 1.3410e-14, 3.3180e-10,  ..., 9.0307e-09, 1.8338e-08,\n",
            "         6.7497e-09],\n",
            "        [3.1673e-10, 4.9371e-15, 1.4868e-09,  ..., 1.4235e-08, 5.3265e-08,\n",
            "         1.5084e-08],\n",
            "        [1.0730e-09, 1.6643e-14, 5.0193e-09,  ..., 4.8027e-08, 1.7976e-07,\n",
            "         5.0900e-08],\n",
            "        ...,\n",
            "        [2.9070e-09, 4.4087e-14, 8.1732e-10,  ..., 2.4582e-08, 4.6013e-08,\n",
            "         1.7539e-08],\n",
            "        [8.6079e-10, 1.3500e-14, 4.0608e-09,  ..., 3.8907e-08, 1.4553e-07,\n",
            "         4.1221e-08],\n",
            "        [5.4460e-10, 0.0000e+00, 3.0548e-09,  ..., 2.8733e-08, 1.0944e-07,\n",
            "         3.0818e-08]], device='cuda:0')}, 3: {'step': 15630, 'exp_avg': tensor([-6.5970e-06,  6.7459e-06, -1.2310e-05,  ..., -1.3571e-05,\n",
            "         1.1228e-05, -9.9987e-06], device='cuda:0'), 'exp_avg_sq': tensor([3.9559e-09, 4.0460e-09, 1.3649e-08,  ..., 1.1347e-08, 1.1059e-08,\n",
            "        7.9782e-09], device='cuda:0')}, 4: {'step': 15630, 'exp_avg': tensor([[-0.0007, -0.0002,  0.0001,  ..., -0.0007, -0.0005,  0.0003]],\n",
            "       device='cuda:0'), 'exp_avg_sq': tensor([[4.5959e-06, 8.5489e-06, 4.6649e-05,  ..., 4.3342e-06, 5.8228e-06,\n",
            "         4.0915e-06]], device='cuda:0')}, 5: {'step': 15630, 'exp_avg': tensor([0.0005], device='cuda:0'), 'exp_avg_sq': tensor([2.4550e-05], device='cuda:0')}}\n",
            "param_groups \t [{'lr': 1e-06, 'betas': (0.9, 0.999), 'eps': 1e-08, 'weight_decay': 0, 'amsgrad': False, 'params': [0, 1, 2, 3, 4, 5]}]\n"
          ],
          "name": "stdout"
        }
      ]
    },
    {
      "cell_type": "markdown",
      "metadata": {
        "id": "70xKgSTyTlgh"
      },
      "source": [
        "## Saving model using save() and state_dict()"
      ]
    },
    {
      "cell_type": "code",
      "metadata": {
        "id": "L_zde1DiNSue"
      },
      "source": [
        "PATH = '/content/sine.pt'\n",
        "torch.save(model.state_dict(), PATH)"
      ],
      "execution_count": null,
      "outputs": []
    },
    {
      "cell_type": "markdown",
      "metadata": {
        "id": "3FYvrYEYTppk"
      },
      "source": [
        "## Loading model using load() and load_state_dict()"
      ]
    },
    {
      "cell_type": "code",
      "metadata": {
        "colab": {
          "base_uri": "https://localhost:8080/"
        },
        "id": "bwVb4kb_N7Q2",
        "outputId": "a78f572c-a62a-429e-8238-fb0fd900a8e9"
      },
      "source": [
        "device = torch.device(\"cuda\")\n",
        "model = SineApproximator()\n",
        "model.load_state_dict(torch.load(PATH))\n",
        "model.to(device)\n",
        "model.eval()"
      ],
      "execution_count": null,
      "outputs": [
        {
          "output_type": "execute_result",
          "data": {
            "text/plain": [
              "SineApproximator(\n",
              "  (regressor): Sequential(\n",
              "    (0): Linear(in_features=1, out_features=1024, bias=True)\n",
              "    (1): ReLU(inplace=True)\n",
              "    (2): Linear(in_features=1024, out_features=1024, bias=True)\n",
              "    (3): ReLU(inplace=True)\n",
              "    (4): Linear(in_features=1024, out_features=1, bias=True)\n",
              "  )\n",
              ")"
            ]
          },
          "metadata": {
            "tags": []
          },
          "execution_count": 49
        }
      ]
    },
    {
      "cell_type": "markdown",
      "metadata": {
        "id": "3DHdz13eTtl8"
      },
      "source": [
        "## Trying pre-trained model for inference/training"
      ]
    },
    {
      "cell_type": "code",
      "metadata": {
        "colab": {
          "base_uri": "https://localhost:8080/",
          "height": 265
        },
        "id": "jpBrFM3qOKzC",
        "outputId": "d5feedde-0f0c-45cb-a5c9-7fafec335a73"
      },
      "source": [
        "new_pred = model(X_val)\n",
        "pred = plt.scatter(X_val.cpu(), new_pred.detach().cpu())\n",
        "original = plt.scatter(X_train.cpu(), y_train.cpu())\n",
        "plt.legend((pred, original), (\"Predicted\", \"Original\"));"
      ],
      "execution_count": null,
      "outputs": [
        {
          "output_type": "display_data",
          "data": {
            "image/png": "[encoded data removed]",
            "text/plain": [
              "<Figure size 432x288 with 1 Axes>"
            ]
          },
          "metadata": {
            "tags": [],
            "needs_background": "light"
          }
        }
      ]
    }
  ]
}