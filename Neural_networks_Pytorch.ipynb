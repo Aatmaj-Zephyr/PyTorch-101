{
  "nbformat": 4,
  "nbformat_minor": 0,
  "metadata": {
    "kernelspec": {
      "display_name": "Python 3",
      "language": "python",
      "name": "python3"
    },
    "language_info": {
      "codemirror_mode": {
        "name": "ipython",
        "version": 3
      },
      "file_extension": ".py",
      "mimetype": "text/x-python",
      "name": "python",
      "nbconvert_exporter": "python",
      "pygments_lexer": "ipython3",
      "version": "3.6.12"
    },
    "colab": {
      "name": "Neural_networks_Pytorch.ipynb",
      "provenance": [],
      "collapsed_sections": [],
      "include_colab_link": true
    },
    "accelerator": "GPU",
    "widgets": {
      "application/vnd.jupyter.widget-state+json": {
        "bb9de04b0ba843b58586cf52ee8d3343": {
          "model_module": "@jupyter-widgets/controls",
          "model_name": "HBoxModel",
          "state": {
            "_view_name": "HBoxView",
            "_dom_classes": [],
            "_model_name": "HBoxModel",
            "_view_module": "@jupyter-widgets/controls",
            "_model_module_version": "1.5.0",
            "_view_count": null,
            "_view_module_version": "1.5.0",
            "box_style": "",
            "layout": "IPY_MODEL_6c42811e04c4402393cce868fa01fb7e",
            "_model_module": "@jupyter-widgets/controls",
            "children": [
              "IPY_MODEL_9d0523642f3743e3b8fa760a7fab9eaa",
              "IPY_MODEL_92cc2e78c69c4da79a29f348bd4fa278"
            ]
          }
        },
        "6c42811e04c4402393cce868fa01fb7e": {
          "model_module": "@jupyter-widgets/base",
          "model_name": "LayoutModel",
          "state": {
            "_view_name": "LayoutView",
            "grid_template_rows": null,
            "right": null,
            "justify_content": null,
            "_view_module": "@jupyter-widgets/base",
            "overflow": null,
            "_model_module_version": "1.2.0",
            "_view_count": null,
            "flex_flow": null,
            "width": null,
            "min_width": null,
            "border": null,
            "align_items": null,
            "bottom": null,
            "_model_module": "@jupyter-widgets/base",
            "top": null,
            "grid_column": null,
            "overflow_y": null,
            "overflow_x": null,
            "grid_auto_flow": null,
            "grid_area": null,
            "grid_template_columns": null,
            "flex": null,
            "_model_name": "LayoutModel",
            "justify_items": null,
            "grid_row": null,
            "max_height": null,
            "align_content": null,
            "visibility": null,
            "align_self": null,
            "height": null,
            "min_height": null,
            "padding": null,
            "grid_auto_rows": null,
            "grid_gap": null,
            "max_width": null,
            "order": null,
            "_view_module_version": "1.2.0",
            "grid_template_areas": null,
            "object_position": null,
            "object_fit": null,
            "grid_auto_columns": null,
            "margin": null,
            "display": null,
            "left": null
          }
        },
        "9d0523642f3743e3b8fa760a7fab9eaa": {
          "model_module": "@jupyter-widgets/controls",
          "model_name": "FloatProgressModel",
          "state": {
            "_view_name": "ProgressView",
            "style": "IPY_MODEL_fd2504925e3c49ebb717655cc51ae5a4",
            "_dom_classes": [],
            "description": "",
            "_model_name": "FloatProgressModel",
            "bar_style": "info",
            "max": 1,
            "_view_module": "@jupyter-widgets/controls",
            "_model_module_version": "1.5.0",
            "value": 1,
            "_view_count": null,
            "_view_module_version": "1.5.0",
            "orientation": "horizontal",
            "min": 0,
            "description_tooltip": null,
            "_model_module": "@jupyter-widgets/controls",
            "layout": "IPY_MODEL_02c0ba888b364242ab371373051ad1bf"
          }
        },
        "92cc2e78c69c4da79a29f348bd4fa278": {
          "model_module": "@jupyter-widgets/controls",
          "model_name": "HTMLModel",
          "state": {
            "_view_name": "HTMLView",
            "style": "IPY_MODEL_8af1a152c94648bca4660babdf9558ea",
            "_dom_classes": [],
            "description": "",
            "_model_name": "HTMLModel",
            "placeholder": "​",
            "_view_module": "@jupyter-widgets/controls",
            "_model_module_version": "1.5.0",
            "value": " 9920512/? [00:20&lt;00:00, 4592083.09it/s]",
            "_view_count": null,
            "_view_module_version": "1.5.0",
            "description_tooltip": null,
            "_model_module": "@jupyter-widgets/controls",
            "layout": "IPY_MODEL_bfdeaf0db8314a6ea30c83ef91c80659"
          }
        },
        "fd2504925e3c49ebb717655cc51ae5a4": {
          "model_module": "@jupyter-widgets/controls",
          "model_name": "ProgressStyleModel",
          "state": {
            "_view_name": "StyleView",
            "_model_name": "ProgressStyleModel",
            "description_width": "initial",
            "_view_module": "@jupyter-widgets/base",
            "_model_module_version": "1.5.0",
            "_view_count": null,
            "_view_module_version": "1.2.0",
            "bar_color": null,
            "_model_module": "@jupyter-widgets/controls"
          }
        },
        "02c0ba888b364242ab371373051ad1bf": {
          "model_module": "@jupyter-widgets/base",
          "model_name": "LayoutModel",
          "state": {
            "_view_name": "LayoutView",
            "grid_template_rows": null,
            "right": null,
            "justify_content": null,
            "_view_module": "@jupyter-widgets/base",
            "overflow": null,
            "_model_module_version": "1.2.0",
            "_view_count": null,
            "flex_flow": null,
            "width": null,
            "min_width": null,
            "border": null,
            "align_items": null,
            "bottom": null,
            "_model_module": "@jupyter-widgets/base",
            "top": null,
            "grid_column": null,
            "overflow_y": null,
            "overflow_x": null,
            "grid_auto_flow": null,
            "grid_area": null,
            "grid_template_columns": null,
            "flex": null,
            "_model_name": "LayoutModel",
            "justify_items": null,
            "grid_row": null,
            "max_height": null,
            "align_content": null,
            "visibility": null,
            "align_self": null,
            "height": null,
            "min_height": null,
            "padding": null,
            "grid_auto_rows": null,
            "grid_gap": null,
            "max_width": null,
            "order": null,
            "_view_module_version": "1.2.0",
            "grid_template_areas": null,
            "object_position": null,
            "object_fit": null,
            "grid_auto_columns": null,
            "margin": null,
            "display": null,
            "left": null
          }
        },
        "8af1a152c94648bca4660babdf9558ea": {
          "model_module": "@jupyter-widgets/controls",
          "model_name": "DescriptionStyleModel",
          "state": {
            "_view_name": "StyleView",
            "_model_name": "DescriptionStyleModel",
            "description_width": "",
            "_view_module": "@jupyter-widgets/base",
            "_model_module_version": "1.5.0",
            "_view_count": null,
            "_view_module_version": "1.2.0",
            "_model_module": "@jupyter-widgets/controls"
          }
        },
        "bfdeaf0db8314a6ea30c83ef91c80659": {
          "model_module": "@jupyter-widgets/base",
          "model_name": "LayoutModel",
          "state": {
            "_view_name": "LayoutView",
            "grid_template_rows": null,
            "right": null,
            "justify_content": null,
            "_view_module": "@jupyter-widgets/base",
            "overflow": null,
            "_model_module_version": "1.2.0",
            "_view_count": null,
            "flex_flow": null,
            "width": null,
            "min_width": null,
            "border": null,
            "align_items": null,
            "bottom": null,
            "_model_module": "@jupyter-widgets/base",
            "top": null,
            "grid_column": null,
            "overflow_y": null,
            "overflow_x": null,
            "grid_auto_flow": null,
            "grid_area": null,
            "grid_template_columns": null,
            "flex": null,
            "_model_name": "LayoutModel",
            "justify_items": null,
            "grid_row": null,
            "max_height": null,
            "align_content": null,
            "visibility": null,
            "align_self": null,
            "height": null,
            "min_height": null,
            "padding": null,
            "grid_auto_rows": null,
            "grid_gap": null,
            "max_width": null,
            "order": null,
            "_view_module_version": "1.2.0",
            "grid_template_areas": null,
            "object_position": null,
            "object_fit": null,
            "grid_auto_columns": null,
            "margin": null,
            "display": null,
            "left": null
          }
        },
        "d869bfe48dcd4e3aa58d4a62980d08b7": {
          "model_module": "@jupyter-widgets/controls",
          "model_name": "HBoxModel",
          "state": {
            "_view_name": "HBoxView",
            "_dom_classes": [],
            "_model_name": "HBoxModel",
            "_view_module": "@jupyter-widgets/controls",
            "_model_module_version": "1.5.0",
            "_view_count": null,
            "_view_module_version": "1.5.0",
            "box_style": "",
            "layout": "IPY_MODEL_8a6eca786ba347ea802b5ca27ca83b1b",
            "_model_module": "@jupyter-widgets/controls",
            "children": [
              "IPY_MODEL_9e591a0bdc694b49a86b7c05ea5f4f0c",
              "IPY_MODEL_4c872e5dcdce4aba9270560e66b29107"
            ]
          }
        },
        "8a6eca786ba347ea802b5ca27ca83b1b": {
          "model_module": "@jupyter-widgets/base",
          "model_name": "LayoutModel",
          "state": {
            "_view_name": "LayoutView",
            "grid_template_rows": null,
            "right": null,
            "justify_content": null,
            "_view_module": "@jupyter-widgets/base",
            "overflow": null,
            "_model_module_version": "1.2.0",
            "_view_count": null,
            "flex_flow": null,
            "width": null,
            "min_width": null,
            "border": null,
            "align_items": null,
            "bottom": null,
            "_model_module": "@jupyter-widgets/base",
            "top": null,
            "grid_column": null,
            "overflow_y": null,
            "overflow_x": null,
            "grid_auto_flow": null,
            "grid_area": null,
            "grid_template_columns": null,
            "flex": null,
            "_model_name": "LayoutModel",
            "justify_items": null,
            "grid_row": null,
            "max_height": null,
            "align_content": null,
            "visibility": null,
            "align_self": null,
            "height": null,
            "min_height": null,
            "padding": null,
            "grid_auto_rows": null,
            "grid_gap": null,
            "max_width": null,
            "order": null,
            "_view_module_version": "1.2.0",
            "grid_template_areas": null,
            "object_position": null,
            "object_fit": null,
            "grid_auto_columns": null,
            "margin": null,
            "display": null,
            "left": null
          }
        },
        "9e591a0bdc694b49a86b7c05ea5f4f0c": {
          "model_module": "@jupyter-widgets/controls",
          "model_name": "FloatProgressModel",
          "state": {
            "_view_name": "ProgressView",
            "style": "IPY_MODEL_c35561bfc1c14cc5ba8e49a161dd39d2",
            "_dom_classes": [],
            "description": "",
            "_model_name": "FloatProgressModel",
            "bar_style": "success",
            "max": 1,
            "_view_module": "@jupyter-widgets/controls",
            "_model_module_version": "1.5.0",
            "value": 1,
            "_view_count": null,
            "_view_module_version": "1.5.0",
            "orientation": "horizontal",
            "min": 0,
            "description_tooltip": null,
            "_model_module": "@jupyter-widgets/controls",
            "layout": "IPY_MODEL_b8393fd8ae5746198a0fce5f42cdabdb"
          }
        },
        "4c872e5dcdce4aba9270560e66b29107": {
          "model_module": "@jupyter-widgets/controls",
          "model_name": "HTMLModel",
          "state": {
            "_view_name": "HTMLView",
            "style": "IPY_MODEL_46e53fec6e864debb91ef950fbbc5e02",
            "_dom_classes": [],
            "description": "",
            "_model_name": "HTMLModel",
            "placeholder": "​",
            "_view_module": "@jupyter-widgets/controls",
            "_model_module_version": "1.5.0",
            "value": " 32768/? [00:00&lt;00:00, 43791.79it/s]",
            "_view_count": null,
            "_view_module_version": "1.5.0",
            "description_tooltip": null,
            "_model_module": "@jupyter-widgets/controls",
            "layout": "IPY_MODEL_d222d28fa01548948b2480c8f5d1624a"
          }
        },
        "c35561bfc1c14cc5ba8e49a161dd39d2": {
          "model_module": "@jupyter-widgets/controls",
          "model_name": "ProgressStyleModel",
          "state": {
            "_view_name": "StyleView",
            "_model_name": "ProgressStyleModel",
            "description_width": "initial",
            "_view_module": "@jupyter-widgets/base",
            "_model_module_version": "1.5.0",
            "_view_count": null,
            "_view_module_version": "1.2.0",
            "bar_color": null,
            "_model_module": "@jupyter-widgets/controls"
          }
        },
        "b8393fd8ae5746198a0fce5f42cdabdb": {
          "model_module": "@jupyter-widgets/base",
          "model_name": "LayoutModel",
          "state": {
            "_view_name": "LayoutView",
            "grid_template_rows": null,
            "right": null,
            "justify_content": null,
            "_view_module": "@jupyter-widgets/base",
            "overflow": null,
            "_model_module_version": "1.2.0",
            "_view_count": null,
            "flex_flow": null,
            "width": null,
            "min_width": null,
            "border": null,
            "align_items": null,
            "bottom": null,
            "_model_module": "@jupyter-widgets/base",
            "top": null,
            "grid_column": null,
            "overflow_y": null,
            "overflow_x": null,
            "grid_auto_flow": null,
            "grid_area": null,
            "grid_template_columns": null,
            "flex": null,
            "_model_name": "LayoutModel",
            "justify_items": null,
            "grid_row": null,
            "max_height": null,
            "align_content": null,
            "visibility": null,
            "align_self": null,
            "height": null,
            "min_height": null,
            "padding": null,
            "grid_auto_rows": null,
            "grid_gap": null,
            "max_width": null,
            "order": null,
            "_view_module_version": "1.2.0",
            "grid_template_areas": null,
            "object_position": null,
            "object_fit": null,
            "grid_auto_columns": null,
            "margin": null,
            "display": null,
            "left": null
          }
        },
        "46e53fec6e864debb91ef950fbbc5e02": {
          "model_module": "@jupyter-widgets/controls",
          "model_name": "DescriptionStyleModel",
          "state": {
            "_view_name": "StyleView",
            "_model_name": "DescriptionStyleModel",
            "description_width": "",
            "_view_module": "@jupyter-widgets/base",
            "_model_module_version": "1.5.0",
            "_view_count": null,
            "_view_module_version": "1.2.0",
            "_model_module": "@jupyter-widgets/controls"
          }
        },
        "d222d28fa01548948b2480c8f5d1624a": {
          "model_module": "@jupyter-widgets/base",
          "model_name": "LayoutModel",
          "state": {
            "_view_name": "LayoutView",
            "grid_template_rows": null,
            "right": null,
            "justify_content": null,
            "_view_module": "@jupyter-widgets/base",
            "overflow": null,
            "_model_module_version": "1.2.0",
            "_view_count": null,
            "flex_flow": null,
            "width": null,
            "min_width": null,
            "border": null,
            "align_items": null,
            "bottom": null,
            "_model_module": "@jupyter-widgets/base",
            "top": null,
            "grid_column": null,
            "overflow_y": null,
            "overflow_x": null,
            "grid_auto_flow": null,
            "grid_area": null,
            "grid_template_columns": null,
            "flex": null,
            "_model_name": "LayoutModel",
            "justify_items": null,
            "grid_row": null,
            "max_height": null,
            "align_content": null,
            "visibility": null,
            "align_self": null,
            "height": null,
            "min_height": null,
            "padding": null,
            "grid_auto_rows": null,
            "grid_gap": null,
            "max_width": null,
            "order": null,
            "_view_module_version": "1.2.0",
            "grid_template_areas": null,
            "object_position": null,
            "object_fit": null,
            "grid_auto_columns": null,
            "margin": null,
            "display": null,
            "left": null
          }
        },
        "5ff0071a21c847eaa6cf43bea5529b11": {
          "model_module": "@jupyter-widgets/controls",
          "model_name": "HBoxModel",
          "state": {
            "_view_name": "HBoxView",
            "_dom_classes": [],
            "_model_name": "HBoxModel",
            "_view_module": "@jupyter-widgets/controls",
            "_model_module_version": "1.5.0",
            "_view_count": null,
            "_view_module_version": "1.5.0",
            "box_style": "",
            "layout": "IPY_MODEL_6cd38c69091a4753afd5aaaf931a619f",
            "_model_module": "@jupyter-widgets/controls",
            "children": [
              "IPY_MODEL_35daaf6cc9c54ac780f72f1f12000585",
              "IPY_MODEL_a84af73c160d499384aa2caed47e58b1"
            ]
          }
        },
        "6cd38c69091a4753afd5aaaf931a619f": {
          "model_module": "@jupyter-widgets/base",
          "model_name": "LayoutModel",
          "state": {
            "_view_name": "LayoutView",
            "grid_template_rows": null,
            "right": null,
            "justify_content": null,
            "_view_module": "@jupyter-widgets/base",
            "overflow": null,
            "_model_module_version": "1.2.0",
            "_view_count": null,
            "flex_flow": null,
            "width": null,
            "min_width": null,
            "border": null,
            "align_items": null,
            "bottom": null,
            "_model_module": "@jupyter-widgets/base",
            "top": null,
            "grid_column": null,
            "overflow_y": null,
            "overflow_x": null,
            "grid_auto_flow": null,
            "grid_area": null,
            "grid_template_columns": null,
            "flex": null,
            "_model_name": "LayoutModel",
            "justify_items": null,
            "grid_row": null,
            "max_height": null,
            "align_content": null,
            "visibility": null,
            "align_self": null,
            "height": null,
            "min_height": null,
            "padding": null,
            "grid_auto_rows": null,
            "grid_gap": null,
            "max_width": null,
            "order": null,
            "_view_module_version": "1.2.0",
            "grid_template_areas": null,
            "object_position": null,
            "object_fit": null,
            "grid_auto_columns": null,
            "margin": null,
            "display": null,
            "left": null
          }
        },
        "35daaf6cc9c54ac780f72f1f12000585": {
          "model_module": "@jupyter-widgets/controls",
          "model_name": "FloatProgressModel",
          "state": {
            "_view_name": "ProgressView",
            "style": "IPY_MODEL_90fa0e37a5f64891be938cf2facba880",
            "_dom_classes": [],
            "description": "",
            "_model_name": "FloatProgressModel",
            "bar_style": "info",
            "max": 1,
            "_view_module": "@jupyter-widgets/controls",
            "_model_module_version": "1.5.0",
            "value": 1,
            "_view_count": null,
            "_view_module_version": "1.5.0",
            "orientation": "horizontal",
            "min": 0,
            "description_tooltip": null,
            "_model_module": "@jupyter-widgets/controls",
            "layout": "IPY_MODEL_589d236e3e8d4e42a96f6a1ef1faf73b"
          }
        },
        "a84af73c160d499384aa2caed47e58b1": {
          "model_module": "@jupyter-widgets/controls",
          "model_name": "HTMLModel",
          "state": {
            "_view_name": "HTMLView",
            "style": "IPY_MODEL_5c3292d82d3641f2956411e0cc426b74",
            "_dom_classes": [],
            "description": "",
            "_model_name": "HTMLModel",
            "placeholder": "​",
            "_view_module": "@jupyter-widgets/controls",
            "_model_module_version": "1.5.0",
            "value": " 1654784/? [00:15&lt;00:00, 300498.50it/s]",
            "_view_count": null,
            "_view_module_version": "1.5.0",
            "description_tooltip": null,
            "_model_module": "@jupyter-widgets/controls",
            "layout": "IPY_MODEL_5f9308e8f7564bdab7bda3d8b3d108b9"
          }
        },
        "90fa0e37a5f64891be938cf2facba880": {
          "model_module": "@jupyter-widgets/controls",
          "model_name": "ProgressStyleModel",
          "state": {
            "_view_name": "StyleView",
            "_model_name": "ProgressStyleModel",
            "description_width": "initial",
            "_view_module": "@jupyter-widgets/base",
            "_model_module_version": "1.5.0",
            "_view_count": null,
            "_view_module_version": "1.2.0",
            "bar_color": null,
            "_model_module": "@jupyter-widgets/controls"
          }
        },
        "589d236e3e8d4e42a96f6a1ef1faf73b": {
          "model_module": "@jupyter-widgets/base",
          "model_name": "LayoutModel",
          "state": {
            "_view_name": "LayoutView",
            "grid_template_rows": null,
            "right": null,
            "justify_content": null,
            "_view_module": "@jupyter-widgets/base",
            "overflow": null,
            "_model_module_version": "1.2.0",
            "_view_count": null,
            "flex_flow": null,
            "width": null,
            "min_width": null,
            "border": null,
            "align_items": null,
            "bottom": null,
            "_model_module": "@jupyter-widgets/base",
            "top": null,
            "grid_column": null,
            "overflow_y": null,
            "overflow_x": null,
            "grid_auto_flow": null,
            "grid_area": null,
            "grid_template_columns": null,
            "flex": null,
            "_model_name": "LayoutModel",
            "justify_items": null,
            "grid_row": null,
            "max_height": null,
            "align_content": null,
            "visibility": null,
            "align_self": null,
            "height": null,
            "min_height": null,
            "padding": null,
            "grid_auto_rows": null,
            "grid_gap": null,
            "max_width": null,
            "order": null,
            "_view_module_version": "1.2.0",
            "grid_template_areas": null,
            "object_position": null,
            "object_fit": null,
            "grid_auto_columns": null,
            "margin": null,
            "display": null,
            "left": null
          }
        },
        "5c3292d82d3641f2956411e0cc426b74": {
          "model_module": "@jupyter-widgets/controls",
          "model_name": "DescriptionStyleModel",
          "state": {
            "_view_name": "StyleView",
            "_model_name": "DescriptionStyleModel",
            "description_width": "",
            "_view_module": "@jupyter-widgets/base",
            "_model_module_version": "1.5.0",
            "_view_count": null,
            "_view_module_version": "1.2.0",
            "_model_module": "@jupyter-widgets/controls"
          }
        },
        "5f9308e8f7564bdab7bda3d8b3d108b9": {
          "model_module": "@jupyter-widgets/base",
          "model_name": "LayoutModel",
          "state": {
            "_view_name": "LayoutView",
            "grid_template_rows": null,
            "right": null,
            "justify_content": null,
            "_view_module": "@jupyter-widgets/base",
            "overflow": null,
            "_model_module_version": "1.2.0",
            "_view_count": null,
            "flex_flow": null,
            "width": null,
            "min_width": null,
            "border": null,
            "align_items": null,
            "bottom": null,
            "_model_module": "@jupyter-widgets/base",
            "top": null,
            "grid_column": null,
            "overflow_y": null,
            "overflow_x": null,
            "grid_auto_flow": null,
            "grid_area": null,
            "grid_template_columns": null,
            "flex": null,
            "_model_name": "LayoutModel",
            "justify_items": null,
            "grid_row": null,
            "max_height": null,
            "align_content": null,
            "visibility": null,
            "align_self": null,
            "height": null,
            "min_height": null,
            "padding": null,
            "grid_auto_rows": null,
            "grid_gap": null,
            "max_width": null,
            "order": null,
            "_view_module_version": "1.2.0",
            "grid_template_areas": null,
            "object_position": null,
            "object_fit": null,
            "grid_auto_columns": null,
            "margin": null,
            "display": null,
            "left": null
          }
        },
        "40265c156c254786a9eac695120af79b": {
          "model_module": "@jupyter-widgets/controls",
          "model_name": "HBoxModel",
          "state": {
            "_view_name": "HBoxView",
            "_dom_classes": [],
            "_model_name": "HBoxModel",
            "_view_module": "@jupyter-widgets/controls",
            "_model_module_version": "1.5.0",
            "_view_count": null,
            "_view_module_version": "1.5.0",
            "box_style": "",
            "layout": "IPY_MODEL_ad85c9061b7443deafa3f28b82b7bdd5",
            "_model_module": "@jupyter-widgets/controls",
            "children": [
              "IPY_MODEL_3ab9103967de4432afacd3e62a2cd0a4",
              "IPY_MODEL_b7c0b218fcbd47bc869ea82007224e94"
            ]
          }
        },
        "ad85c9061b7443deafa3f28b82b7bdd5": {
          "model_module": "@jupyter-widgets/base",
          "model_name": "LayoutModel",
          "state": {
            "_view_name": "LayoutView",
            "grid_template_rows": null,
            "right": null,
            "justify_content": null,
            "_view_module": "@jupyter-widgets/base",
            "overflow": null,
            "_model_module_version": "1.2.0",
            "_view_count": null,
            "flex_flow": null,
            "width": null,
            "min_width": null,
            "border": null,
            "align_items": null,
            "bottom": null,
            "_model_module": "@jupyter-widgets/base",
            "top": null,
            "grid_column": null,
            "overflow_y": null,
            "overflow_x": null,
            "grid_auto_flow": null,
            "grid_area": null,
            "grid_template_columns": null,
            "flex": null,
            "_model_name": "LayoutModel",
            "justify_items": null,
            "grid_row": null,
            "max_height": null,
            "align_content": null,
            "visibility": null,
            "align_self": null,
            "height": null,
            "min_height": null,
            "padding": null,
            "grid_auto_rows": null,
            "grid_gap": null,
            "max_width": null,
            "order": null,
            "_view_module_version": "1.2.0",
            "grid_template_areas": null,
            "object_position": null,
            "object_fit": null,
            "grid_auto_columns": null,
            "margin": null,
            "display": null,
            "left": null
          }
        },
        "3ab9103967de4432afacd3e62a2cd0a4": {
          "model_module": "@jupyter-widgets/controls",
          "model_name": "FloatProgressModel",
          "state": {
            "_view_name": "ProgressView",
            "style": "IPY_MODEL_2bcb458266274a8397d8e922bb5ca0e8",
            "_dom_classes": [],
            "description": "  0%",
            "_model_name": "FloatProgressModel",
            "bar_style": "info",
            "max": 1,
            "_view_module": "@jupyter-widgets/controls",
            "_model_module_version": "1.5.0",
            "value": 0,
            "_view_count": null,
            "_view_module_version": "1.5.0",
            "orientation": "horizontal",
            "min": 0,
            "description_tooltip": null,
            "_model_module": "@jupyter-widgets/controls",
            "layout": "IPY_MODEL_8b59a7e088da49ae8d3be12b313abdb3"
          }
        },
        "b7c0b218fcbd47bc869ea82007224e94": {
          "model_module": "@jupyter-widgets/controls",
          "model_name": "HTMLModel",
          "state": {
            "_view_name": "HTMLView",
            "style": "IPY_MODEL_90cb769f524c4b91a1ac3bf7b6ed0133",
            "_dom_classes": [],
            "description": "",
            "_model_name": "HTMLModel",
            "placeholder": "​",
            "_view_module": "@jupyter-widgets/controls",
            "_model_module_version": "1.5.0",
            "value": " 0/4542 [00:00&lt;?, ?it/s]",
            "_view_count": null,
            "_view_module_version": "1.5.0",
            "description_tooltip": null,
            "_model_module": "@jupyter-widgets/controls",
            "layout": "IPY_MODEL_e36fc091222246d7b79ed79859eecb1e"
          }
        },
        "2bcb458266274a8397d8e922bb5ca0e8": {
          "model_module": "@jupyter-widgets/controls",
          "model_name": "ProgressStyleModel",
          "state": {
            "_view_name": "StyleView",
            "_model_name": "ProgressStyleModel",
            "description_width": "initial",
            "_view_module": "@jupyter-widgets/base",
            "_model_module_version": "1.5.0",
            "_view_count": null,
            "_view_module_version": "1.2.0",
            "bar_color": null,
            "_model_module": "@jupyter-widgets/controls"
          }
        },
        "8b59a7e088da49ae8d3be12b313abdb3": {
          "model_module": "@jupyter-widgets/base",
          "model_name": "LayoutModel",
          "state": {
            "_view_name": "LayoutView",
            "grid_template_rows": null,
            "right": null,
            "justify_content": null,
            "_view_module": "@jupyter-widgets/base",
            "overflow": null,
            "_model_module_version": "1.2.0",
            "_view_count": null,
            "flex_flow": null,
            "width": null,
            "min_width": null,
            "border": null,
            "align_items": null,
            "bottom": null,
            "_model_module": "@jupyter-widgets/base",
            "top": null,
            "grid_column": null,
            "overflow_y": null,
            "overflow_x": null,
            "grid_auto_flow": null,
            "grid_area": null,
            "grid_template_columns": null,
            "flex": null,
            "_model_name": "LayoutModel",
            "justify_items": null,
            "grid_row": null,
            "max_height": null,
            "align_content": null,
            "visibility": null,
            "align_self": null,
            "height": null,
            "min_height": null,
            "padding": null,
            "grid_auto_rows": null,
            "grid_gap": null,
            "max_width": null,
            "order": null,
            "_view_module_version": "1.2.0",
            "grid_template_areas": null,
            "object_position": null,
            "object_fit": null,
            "grid_auto_columns": null,
            "margin": null,
            "display": null,
            "left": null
          }
        },
        "90cb769f524c4b91a1ac3bf7b6ed0133": {
          "model_module": "@jupyter-widgets/controls",
          "model_name": "DescriptionStyleModel",
          "state": {
            "_view_name": "StyleView",
            "_model_name": "DescriptionStyleModel",
            "description_width": "",
            "_view_module": "@jupyter-widgets/base",
            "_model_module_version": "1.5.0",
            "_view_count": null,
            "_view_module_version": "1.2.0",
            "_model_module": "@jupyter-widgets/controls"
          }
        },
        "e36fc091222246d7b79ed79859eecb1e": {
          "model_module": "@jupyter-widgets/base",
          "model_name": "LayoutModel",
          "state": {
            "_view_name": "LayoutView",
            "grid_template_rows": null,
            "right": null,
            "justify_content": null,
            "_view_module": "@jupyter-widgets/base",
            "overflow": null,
            "_model_module_version": "1.2.0",
            "_view_count": null,
            "flex_flow": null,
            "width": null,
            "min_width": null,
            "border": null,
            "align_items": null,
            "bottom": null,
            "_model_module": "@jupyter-widgets/base",
            "top": null,
            "grid_column": null,
            "overflow_y": null,
            "overflow_x": null,
            "grid_auto_flow": null,
            "grid_area": null,
            "grid_template_columns": null,
            "flex": null,
            "_model_name": "LayoutModel",
            "justify_items": null,
            "grid_row": null,
            "max_height": null,
            "align_content": null,
            "visibility": null,
            "align_self": null,
            "height": null,
            "min_height": null,
            "padding": null,
            "grid_auto_rows": null,
            "grid_gap": null,
            "max_width": null,
            "order": null,
            "_view_module_version": "1.2.0",
            "grid_template_areas": null,
            "object_position": null,
            "object_fit": null,
            "grid_auto_columns": null,
            "margin": null,
            "display": null,
            "left": null
          }
        }
      }
    }
  },
  "cells": [
    {
      "cell_type": "markdown",
      "metadata": {
        "id": "view-in-github",
        "colab_type": "text"
      },
      "source": [
        "<a href=\"https://colab.research.google.com/github/smlra-kjsce/PyTorch-101/blob/main/Neural_networks_Pytorch.ipynb\" target=\"_parent\"><img src=\"https://colab.research.google.com/assets/colab-badge.svg\" alt=\"Open In Colab\"/></a>"
      ]
    },
    {
      "cell_type": "code",
      "metadata": {
        "id": "5J2ISRtOjjZZ"
      },
      "source": [
        "%matplotlib inline"
      ],
      "execution_count": 1,
      "outputs": []
    },
    {
      "cell_type": "code",
      "metadata": {
        "colab": {
          "base_uri": "https://localhost:8080/"
        },
        "id": "pwvzNGvHsNQ7",
        "outputId": "9b5a9fab-6ce5-4844-fbe4-cfd5ef4c6b12"
      },
      "source": [
        "#@title Installing Pyorch\r\n",
        "\r\n",
        "!pip install torch\r\n",
        "!pip install torchvision"
      ],
      "execution_count": 2,
      "outputs": [
        {
          "output_type": "stream",
          "text": [
            "Requirement already satisfied: torch in /usr/local/lib/python3.7/dist-packages (1.7.1+cu101)\n",
            "Requirement already satisfied: typing-extensions in /usr/local/lib/python3.7/dist-packages (from torch) (3.7.4.3)\n",
            "Requirement already satisfied: numpy in /usr/local/lib/python3.7/dist-packages (from torch) (1.19.5)\n",
            "Requirement already satisfied: torchvision in /usr/local/lib/python3.7/dist-packages (0.8.2+cu101)\n",
            "Requirement already satisfied: numpy in /usr/local/lib/python3.7/dist-packages (from torchvision) (1.19.5)\n",
            "Requirement already satisfied: pillow>=4.1.1 in /usr/local/lib/python3.7/dist-packages (from torchvision) (7.0.0)\n",
            "Requirement already satisfied: torch==1.7.1 in /usr/local/lib/python3.7/dist-packages (from torchvision) (1.7.1+cu101)\n",
            "Requirement already satisfied: typing-extensions in /usr/local/lib/python3.7/dist-packages (from torch==1.7.1->torchvision) (3.7.4.3)\n"
          ],
          "name": "stdout"
        }
      ]
    },
    {
      "cell_type": "markdown",
      "metadata": {
        "id": "a8UXdyXrjjZt"
      },
      "source": [
        "\n",
        "Neural Networks\n",
        "===============\n",
        "\n",
        "Neural networks can be constructed using the ``torch.nn`` package.\n",
        "\n",
        "Now that you had a glimpse of ``autograd`` to define models and differentiate them along with ``nn``.\n",
        "An ``nn.Module`` contains layers, and a method ``forward(input)``\\ that\n",
        "returns the ``output``.\n",
        "\n",
        "For example, look at this network that classifies digit images:\n",
        "\n",
        ".. figure:: /_static/img/mnist.png\n",
        "   :alt: convnet\n",
        "\n",
        "   convnet\n",
        "\n",
        "It is a simple feed-forward network. It takes the input, feeds it\n",
        "through several layers one after the other, and then finally gives the\n",
        "output.\n",
        "\n",
        "A typical training procedure for a neural network is as follows:\n",
        "\n",
        "- Define the neural network that has some learnable parameters (or\n",
        "  weights)\n",
        "- Iterate over a dataset of inputs\n",
        "- Process input through the network\n",
        "- Compute the loss (how far is the output from being correct)\n",
        "- Propagate gradients back into the network’s parameters\n",
        "- Update the weights of the network, typically using a simple update rule:\n",
        "  ``weight = weight - learning_rate * gradient``\n",
        "\n",
        "Define the network\n",
        "------------------\n",
        "\n",
        "Let’s define this network:\n",
        "\n"
      ]
    },
    {
      "cell_type": "code",
      "metadata": {
        "id": "CXPqQj1DjjZw",
        "colab": {
          "base_uri": "https://localhost:8080/"
        },
        "outputId": "2bf65942-3a6d-43d3-cdf2-d4b3b472b31a"
      },
      "source": [
        "import torch\n",
        "import torch.nn as nn\n",
        "import torch.nn.functional as F\n",
        "\n",
        "class Net(nn.Module):\n",
        "    def __init__(self):\n",
        "        super(Net, self).__init__()\n",
        "        # 1 input image channel, 6 output channels, 3x3 square convolution\n",
        "        # kernel\n",
        "        self.conv1 = nn.Conv2d(1, 6, 3)\n",
        "        self.conv2 = nn.Conv2d(6, 16, 3)\n",
        "        # an affine operation: y = Wx + b\n",
        "        self.fc1 = nn.Linear(16 * 6 * 6, 120)  # 6*6 from image dimension \n",
        "        self.fc2 = nn.Linear(120, 84)\n",
        "        self.fc3 = nn.Linear(84, 10)\n",
        "    def forward(self, x):\n",
        "        # Max pooling over a (2, 2) window\n",
        "        x = F.max_pool2d(F.relu(self.conv1(x)), (2, 2))\n",
        "        # If the size is a square you can only specify a single number\n",
        "        x = F.max_pool2d(F.relu(self.conv2(x)), 2)\n",
        "        x = x.view(-1, self.num_flat_features(x))\n",
        "        x = F.relu(self.fc1(x))\n",
        "        x = F.relu(self.fc2(x))\n",
        "        x = self.fc3(x)\n",
        "        return x\n",
        "    def num_flat_features(self, x):\n",
        "        size = x.size()[1:]  # all dimensions except the batch dimension\n",
        "        num_features = 1\n",
        "        for s in size:\n",
        "            num_features *= s\n",
        "        return num_features\n",
        "net = Net()\n",
        "print(net)"
      ],
      "execution_count": 3,
      "outputs": [
        {
          "output_type": "stream",
          "text": [
            "Net(\n",
            "  (conv1): Conv2d(1, 6, kernel_size=(3, 3), stride=(1, 1))\n",
            "  (conv2): Conv2d(6, 16, kernel_size=(3, 3), stride=(1, 1))\n",
            "  (fc1): Linear(in_features=576, out_features=120, bias=True)\n",
            "  (fc2): Linear(in_features=120, out_features=84, bias=True)\n",
            "  (fc3): Linear(in_features=84, out_features=10, bias=True)\n",
            ")\n"
          ],
          "name": "stdout"
        }
      ]
    },
    {
      "cell_type": "markdown",
      "metadata": {
        "id": "0LlriHOMNRkU"
      },
      "source": [
        "## 1. The convolution step\r\n",
        "<figure>\r\n",
        "<center>\r\n",
        "\r\n",
        "\r\n",
        "<figure>\r\n",
        "<center>\r\n",
        "<img src='https://drive.google.com/uc?id=1QumoiRuwx-g4N-F4vLOyOUDWqt9OsxWP'/>\r\n",
        "  </center>\r\n",
        "  <center><figcaption><b>Some common filters</b></figcaption></center>\r\n",
        "</figure>\r\n",
        "\r\n",
        "<figure>\r\n",
        "<center>\r\n",
        "<img src='https://drive.google.com/uc?id=17Bk_CnB1VjimpkWP7q9tZKqQ-lK8XJun'/>\r\n",
        "  </center>\r\n",
        "  <center><figcaption><b>Generation of feature maps</b></figcaption></center>\r\n",
        "</figure>\r\n",
        "\r\n",
        "<figure>\r\n",
        "<center>\r\n",
        "<img src='https://drive.google.com/uc?id=1Te-E_r68MH6A_QGBDGLx1scADZ2_RfKz'/>\r\n",
        "  </center>\r\n",
        "  <center><figcaption><b>Stack of feature maps</b></figcaption></center>\r\n",
        "</figure>"
      ]
    },
    {
      "cell_type": "markdown",
      "metadata": {
        "id": "JMyN-2RfN_lg"
      },
      "source": [
        "## 3. Pooling or Sub Sampling\r\n",
        "\r\n",
        "Spatial Pooling (also called subsampling or downsampling) reduces the dimensionality of each feature map but retains the most important information. Spatial Pooling can be of different types: Max, Average, Sum etc.\r\n",
        "\r\n",
        "\r\n",
        "```\r\n",
        "# This is formatted as code\r\n",
        "```\r\n",
        "\r\n",
        "\r\n",
        "In case of Max Pooling, we define a spatial neighborhood (for example, a 2×2 window) and take the largest element from the rectified feature map within that window. Instead of taking the largest element we could also take the average (Average Pooling) or sum of all elements in that window. In practice, Max Pooling has been shown to work better.\r\n",
        "\r\n",
        "<figure>\r\n",
        "<center>\r\n",
        "<img src='https://drive.google.com/uc?id=1qZ7BIOC3VVt-4HVvpG0PJXTNdoLRY84g'/>\r\n",
        "  </center>\r\n",
        "  <center><figcaption><b>How max pooling works</b></figcaption></center>\r\n",
        "</figure>\r\n",
        "\r\n",
        "We slide our 2 x 2 window by 2 cells (also called ‘stride’) and take the maximum value in each region. This reduces the dimensionality of our feature map.\r\n",
        "\r\n",
        "In the network shown below, pooling operation is applied separately to each feature map (notice that, due to this, we get three output maps from three input maps).\r\n",
        "\r\n",
        "<figure>\r\n",
        "<center>\r\n",
        "<img src='https://drive.google.com/uc?id=1c1PLdRPkIeqFXZWytUDJpQX-uPcMUEVg'/>\r\n",
        "  </center>\r\n",
        "  <center><figcaption><b>Stack of pooled layers</b></figcaption></center>\r\n",
        "</figure>\r\n",
        "\r\n",
        "The function of Pooling is to progressively reduce the spatial size of the input representation. In particular, pooling:\r\n",
        "1. makes the input representations (feature dimension) smaller and more manageable \r\n",
        "2. reduces the number of parameters and computations in the network, therefore, controlling overfitting \r\n",
        "3. makes the network invariant to small transformations, distortions and translations in the input image (a small distortion in input will not change the output of Pooling – since we take the maximum / average value in a local neighborhood).\r\n",
        "4. helps us arrive at an almost scale invariant representation of our image (the exact term is “equivariant”). This is very powerful since we can detect objects in an image no matter where they are located.\r\n",
        "\r\n",
        "<figure>\r\n",
        "<center>\r\n",
        "<img src='https://drive.google.com/uc?id=1teXgbRKEY--9JfmbInHyeDXMVpQR0iks'/>\r\n",
        "  </center>\r\n",
        "  <center><figcaption><b>Result of pooling</b></figcaption></center>\r\n",
        "</figure>"
      ]
    },
    {
      "cell_type": "markdown",
      "metadata": {
        "id": "K3jxQbYUjjZy"
      },
      "source": [
        "You just have to define the ``forward`` function, and the ``backward``\n",
        "function (where gradients are computed) is automatically defined for you\n",
        "using ``autograd``.\n",
        "You can use any of the Tensor operations in the ``forward`` function.\n",
        "\n",
        "The learnable parameters of a model are returned by ``net.parameters()``\n",
        "\n"
      ]
    },
    {
      "cell_type": "code",
      "metadata": {
        "id": "EQnRC-mdjjZz",
        "colab": {
          "base_uri": "https://localhost:8080/"
        },
        "outputId": "53748f50-00f1-45ff-bb13-ec96a2726820"
      },
      "source": [
        "params = list(net.parameters())\n",
        "print(len(params))\n",
        "print(params[0].size())  # conv1's .weight\n",
        "print(params[0]) "
      ],
      "execution_count": 4,
      "outputs": [
        {
          "output_type": "stream",
          "text": [
            "10\n",
            "torch.Size([6, 1, 3, 3])\n",
            "Parameter containing:\n",
            "tensor([[[[ 0.0474,  0.0946, -0.0675],\n",
            "          [ 0.2038, -0.0255, -0.0489],\n",
            "          [ 0.0351,  0.0783,  0.1563]]],\n",
            "\n",
            "\n",
            "        [[[-0.0352, -0.1122,  0.2820],\n",
            "          [ 0.1492,  0.2132,  0.2717],\n",
            "          [ 0.0182,  0.1383, -0.0215]]],\n",
            "\n",
            "\n",
            "        [[[ 0.3038,  0.1818, -0.2401],\n",
            "          [-0.2929,  0.2214,  0.1073],\n",
            "          [ 0.2686, -0.3297, -0.1090]]],\n",
            "\n",
            "\n",
            "        [[[-0.3045,  0.0959, -0.1403],\n",
            "          [ 0.0825, -0.0408,  0.3136],\n",
            "          [-0.2863, -0.2857, -0.0604]]],\n",
            "\n",
            "\n",
            "        [[[-0.3324,  0.0296, -0.1600],\n",
            "          [ 0.1382,  0.1299,  0.0634],\n",
            "          [ 0.1363,  0.1455,  0.2431]]],\n",
            "\n",
            "\n",
            "        [[[ 0.2499, -0.0742, -0.1872],\n",
            "          [-0.1841, -0.2174, -0.2788],\n",
            "          [ 0.0447,  0.1743, -0.2125]]]], requires_grad=True)\n"
          ],
          "name": "stdout"
        }
      ]
    },
    {
      "cell_type": "markdown",
      "metadata": {
        "id": "sACm5RlVjjZ0"
      },
      "source": [
        "Let's try a random 32x32 input.\n",
        "Note: expected input size of this net (LeNet) is 32x32. To use this net on\n",
        "the MNIST dataset, please resize the images from the dataset to 32x32.\n",
        "\n"
      ]
    },
    {
      "cell_type": "code",
      "metadata": {
        "id": "7Bvh07QOjjZ1",
        "colab": {
          "base_uri": "https://localhost:8080/"
        },
        "outputId": "3c38f358-16f7-4ad6-ee43-f26a2e293c6b"
      },
      "source": [
        "input = torch.randn(1, 1, 32, 32)\n",
        "out = net(input)\n",
        "print(out)"
      ],
      "execution_count": 5,
      "outputs": [
        {
          "output_type": "stream",
          "text": [
            "tensor([[-0.0099,  0.1326, -0.0589,  0.0098, -0.1018, -0.0244,  0.0434,  0.0134,\n",
            "         -0.0312,  0.0175]], grad_fn=<AddmmBackward>)\n"
          ],
          "name": "stdout"
        }
      ]
    },
    {
      "cell_type": "markdown",
      "metadata": {
        "id": "_hifXSrMjjZ2"
      },
      "source": [
        "Zero the gradient buffers of all parameters and backprops with random\n",
        "\n",
        "> Indented block\n",
        "\n",
        "\n",
        "gradients:\n",
        "\n"
      ]
    },
    {
      "cell_type": "code",
      "metadata": {
        "id": "r1RLIwOzjjZ3"
      },
      "source": [
        "net.zero_grad()\n",
        "out.backward(torch.randn(1, 10))"
      ],
      "execution_count": 6,
      "outputs": []
    },
    {
      "cell_type": "markdown",
      "metadata": {
        "id": "5d24cHK9jjZ4"
      },
      "source": [
        "<div class=\"alert alert-info\"><h4>Note</h4><p>``torch.nn`` only supports mini-batches. The entire ``torch.nn``\n",
        "    package only supports inputs that are a mini-batch of samples, and not\n",
        "    a single sample.\n",
        "\n",
        "    For example, ``nn.Conv2d`` will take in a 4D Tensor of\n",
        "    ``nSamples x nChannels x Height x Width``.\n",
        "\n",
        "    If you have a single sample, just use ``input.unsqueeze(0)`` to add\n",
        "    a fake batch dimension.</p></div>\n",
        "\n",
        "Before proceeding further, let's recap all the classes you’ve seen so far.\n",
        "\n",
        "**Recap:**\n",
        "  -  ``torch.Tensor`` - A *multi-dimensional array* with support for autograd\n",
        "     operations like ``backward()``. Also *holds the gradient* w.r.t. the\n",
        "     tensor.\n",
        "  -  ``nn.Module`` - Neural network module. *Convenient way of\n",
        "     encapsulating parameters*, with helpers for moving them to GPU,\n",
        "     exporting, loading, etc.\n",
        "  -  ``nn.Parameter`` - A kind of Tensor, that is *automatically\n",
        "     registered as a parameter when assigned as an attribute to a*\n",
        "     ``Module``.\n",
        "  -  ``autograd.Function`` - Implements *forward and backward definitions\n",
        "     of an autograd operation*. Every ``Tensor`` operation creates at\n",
        "     least a single ``Function`` node that connects to functions that\n",
        "     created a ``Tensor`` and *encodes its history*.\n",
        "     Autograd is a PyTorch package for the differentiation for all operations on Tensors. It performs the backpropagation starting from a variable. In deep learning, this variable often holds the value of the cost function. backward executes the backward pass and computes all the backpropagation gradients automatically. We access indvidual gradient through the attributes grad of a variable.\n",
        "\n",
        "**At this point, we covered:**\n",
        "  -  Defining a neural network\n",
        "  -  Processing inputs and calling backward\n",
        "\n",
        "**Still Left:**\n",
        "  -  Computing the loss\n",
        "  -  Updating the weights of the network\n",
        "\n",
        "Loss Function\n",
        "-------------\n",
        "A loss function takes the (output, target) pair of inputs, and computes a\n",
        "value that estimates how far away the output is from the target.\n",
        "\n",
        "There are several different\n",
        "`loss functions <https://pytorch.org/docs/nn.html#loss-functions>`_ under the\n",
        "nn package .\n",
        "A simple loss is: ``nn.MSELoss`` which computes the mean-squared error\n",
        "between the input and the target.\n",
        "\n",
        "For example:\n",
        "\n"
      ]
    },
    {
      "cell_type": "code",
      "metadata": {
        "id": "E3jWbdeBjjZ6",
        "colab": {
          "base_uri": "https://localhost:8080/"
        },
        "outputId": "cc464378-a96e-4507-f489-a5b120caaa55"
      },
      "source": [
        "output = net(input)\n",
        "target = torch.randn(10)  # a dummy target, for example\n",
        "target = target.view(1, -1)  # make it the same shape as output\n",
        "criterion = nn.MSELoss()\n",
        "\n",
        "loss = criterion(output, target)\n",
        "print(loss)"
      ],
      "execution_count": 7,
      "outputs": [
        {
          "output_type": "stream",
          "text": [
            "tensor(0.5426, grad_fn=<MseLossBackward>)\n"
          ],
          "name": "stdout"
        }
      ]
    },
    {
      "cell_type": "markdown",
      "metadata": {
        "id": "2TircuBbjjZ6"
      },
      "source": [
        "Now, if you follow ``loss`` in the backward direction, using its\n",
        "``.grad_fn`` attribute, you will see a graph of computations that looks\n",
        "like this:\n",
        "\n",
        "::\n",
        "\n",
        "    input -> conv2d -> relu -> maxpool2d -> conv2d -> relu -> maxpool2d\n",
        "          -> view -> linear -> relu -> linear -> relu -> linear\n",
        "          -> MSELoss\n",
        "          -> loss\n",
        "\n",
        "So, when we call ``loss.backward()``, the whole graph is differentiated\n",
        "w.r.t. the loss, and all Tensors in the graph that has ``requires_grad=True``\n",
        "will have their ``.grad`` Tensor accumulated with the gradient.\n",
        "\n",
        "For illustration, let us follow a few steps backward:\n",
        "\n"
      ]
    },
    {
      "cell_type": "code",
      "metadata": {
        "id": "izGK5skBjjZ8",
        "colab": {
          "base_uri": "https://localhost:8080/"
        },
        "outputId": "5c66d56e-f542-4daa-8b3a-36a209094f06"
      },
      "source": [
        "print(loss.grad_fn)  # MSELoss\n",
        "print(loss.grad_fn.next_functions[0][0])  # Linear\n",
        "print(loss.grad_fn.next_functions[0][0].next_functions[0][0])  # ReLU"
      ],
      "execution_count": 8,
      "outputs": [
        {
          "output_type": "stream",
          "text": [
            "<MseLossBackward object at 0x7f2df4cebf90>\n",
            "<AddmmBackward object at 0x7f2df4cebf50>\n",
            "<AccumulateGrad object at 0x7f2df4cebf90>\n"
          ],
          "name": "stdout"
        }
      ]
    },
    {
      "cell_type": "markdown",
      "metadata": {
        "id": "JLIocPMEjjZ8"
      },
      "source": [
        "Backprop\n",
        "--------\n",
        "To backpropagate the error all we have to do is to ``loss.backward()``.\n",
        "You need to clear the existing gradients though, else gradients will be\n",
        "accumulated to existing gradients.\n",
        "\n",
        "\n",
        "Now we shall call ``loss.backward()``, and have a look at conv1's bias\n",
        "gradients before and after the backward.\n",
        "\n"
      ]
    },
    {
      "cell_type": "code",
      "metadata": {
        "id": "RoR76Jb9jjZ9",
        "colab": {
          "base_uri": "https://localhost:8080/"
        },
        "outputId": "24cf6bca-589f-410d-b250-3a7649b26e42"
      },
      "source": [
        "net.zero_grad()     # zeroes the gradient buffers of all parameters\n",
        "\n",
        "print('conv1.bias.grad before backward')\n",
        "print(net.conv1.bias.grad)\n",
        "\n",
        "loss.backward()\n",
        "\n",
        "print('conv1.bias.grad after backward')\n",
        "print(net.conv1.bias.grad)"
      ],
      "execution_count": 9,
      "outputs": [
        {
          "output_type": "stream",
          "text": [
            "conv1.bias.grad before backward\n",
            "tensor([0., 0., 0., 0., 0., 0.])\n",
            "conv1.bias.grad after backward\n",
            "tensor([ 0.0011, -0.0039,  0.0121,  0.0005, -0.0022,  0.0077])\n"
          ],
          "name": "stdout"
        }
      ]
    },
    {
      "cell_type": "markdown",
      "metadata": {
        "id": "UW51dswYjjZ_"
      },
      "source": [
        "Now, we have seen how to use loss functions.\n",
        "\n",
        "**Read Later:**\n",
        "\n",
        "  The neural network package contains various modules and loss functions\n",
        "  that form the building blocks of deep neural networks. A full list with\n",
        "  documentation is `here <https://pytorch.org/docs/nn>`_.\n",
        "\n",
        "**The only thing left to learn is:**\n",
        "\n",
        "  - Updating the weights of the network\n",
        "\n",
        "Update the weights\n",
        "------------------\n",
        "The simplest update rule used in practice is the Stochastic Gradient\n",
        "Descent (SGD):\n",
        "\n",
        "     ``weight = weight - learning_rate * gradient``\n",
        "\n",
        "We can implement this using simple Python code:\n",
        "\n",
        ".. code:: python\n",
        "\n",
        "    learning_rate = 0.01\n",
        "    for f in net.parameters():\n",
        "        f.data.sub_(f.grad.data * learning_rate)\n",
        "\n",
        "However, as you use neural networks, you want to use various different\n",
        "update rules such as SGD, Nesterov-SGD, Adam, RMSProp, etc.\n",
        "To enable this, we built a small package: ``torch.optim`` that\n",
        "implements all these methods. Using it is very simple:\n",
        "\n"
      ]
    },
    {
      "cell_type": "code",
      "metadata": {
        "id": "nopdb3CPjjaB"
      },
      "source": [
        "import torch.optim as optim\n",
        "\n",
        "# create your optimizer\n",
        "optimizer = optim.SGD(net.parameters(), lr=0.01)\n",
        "\n",
        "# in your training loop:\n",
        "optimizer.zero_grad()   # zero the gradient buffers\n",
        "output = net(input)\n",
        "loss = criterion(output, target)\n",
        "loss.backward()\n",
        "optimizer.step()    # Does the update"
      ],
      "execution_count": 10,
      "outputs": []
    },
    {
      "cell_type": "markdown",
      "metadata": {
        "id": "a_zEDoA4jjaC"
      },
      "source": [
        ".. Note::\n",
        "\n",
        "      Observe how gradient buffers had to be manually set to zero using\n",
        "      ``optimizer.zero_grad()``. This is because gradients are accumulated\n",
        "      as explained in the `Backprop`_ section.\n",
        "\n"
      ]
    },
    {
      "cell_type": "markdown",
      "metadata": {
        "id": "3sQDlvJ8tMKV"
      },
      "source": [
        "Let's Revise the concepts with an example"
      ]
    },
    {
      "cell_type": "code",
      "metadata": {
        "id": "9HELi2ELseJ4"
      },
      "source": [
        "#@title Import Dependencies\r\n",
        "\r\n",
        "import torch\r\n",
        "import torch.nn as nn\r\n",
        "import torchvision.datasets as dsets\r\n",
        "import torchvision.transforms as transforms\r\n",
        "from torch.autograd import Variable"
      ],
      "execution_count": 11,
      "outputs": []
    },
    {
      "cell_type": "code",
      "metadata": {
        "id": "C58_D1oFsgM8"
      },
      "source": [
        "#@title Define Hyperparameters\r\n",
        "\r\n",
        "input_size = 784 # img_size = (28,28) ---> 28*28=784 in total\r\n",
        "hidden_size = 500 # number of nodes at hidden layer\r\n",
        "num_classes = 10 # number of output classes discrete range [0,9]\r\n",
        "num_epochs = 20 # number of times which the entire dataset is passed throughout the model\r\n",
        "batch_size = 100 # the size of input data took for one iteration\r\n",
        "lr = 1e-3 # size of step "
      ],
      "execution_count": 12,
      "outputs": []
    },
    {
      "cell_type": "code",
      "metadata": {
        "colab": {
          "base_uri": "https://localhost:8080/",
          "height": 386,
          "referenced_widgets": [
            "bb9de04b0ba843b58586cf52ee8d3343",
            "6c42811e04c4402393cce868fa01fb7e",
            "9d0523642f3743e3b8fa760a7fab9eaa",
            "92cc2e78c69c4da79a29f348bd4fa278",
            "fd2504925e3c49ebb717655cc51ae5a4",
            "02c0ba888b364242ab371373051ad1bf",
            "8af1a152c94648bca4660babdf9558ea",
            "bfdeaf0db8314a6ea30c83ef91c80659",
            "d869bfe48dcd4e3aa58d4a62980d08b7",
            "8a6eca786ba347ea802b5ca27ca83b1b",
            "9e591a0bdc694b49a86b7c05ea5f4f0c",
            "4c872e5dcdce4aba9270560e66b29107",
            "c35561bfc1c14cc5ba8e49a161dd39d2",
            "b8393fd8ae5746198a0fce5f42cdabdb",
            "46e53fec6e864debb91ef950fbbc5e02",
            "d222d28fa01548948b2480c8f5d1624a",
            "5ff0071a21c847eaa6cf43bea5529b11",
            "6cd38c69091a4753afd5aaaf931a619f",
            "35daaf6cc9c54ac780f72f1f12000585",
            "a84af73c160d499384aa2caed47e58b1",
            "90fa0e37a5f64891be938cf2facba880",
            "589d236e3e8d4e42a96f6a1ef1faf73b",
            "5c3292d82d3641f2956411e0cc426b74",
            "5f9308e8f7564bdab7bda3d8b3d108b9",
            "40265c156c254786a9eac695120af79b",
            "ad85c9061b7443deafa3f28b82b7bdd5",
            "3ab9103967de4432afacd3e62a2cd0a4",
            "b7c0b218fcbd47bc869ea82007224e94",
            "2bcb458266274a8397d8e922bb5ca0e8",
            "8b59a7e088da49ae8d3be12b313abdb3",
            "90cb769f524c4b91a1ac3bf7b6ed0133",
            "e36fc091222246d7b79ed79859eecb1e"
          ]
        },
        "id": "cmr7ymEbsiJs",
        "outputId": "1474583e-c60e-41d6-875c-21ceca564d11"
      },
      "source": [
        "#@title Downloading MNIST data\r\n",
        "\r\n",
        "train_data = dsets.MNIST(root = './data', train = True,\r\n",
        "                        transform = transforms.ToTensor(), download = True)\r\n",
        "\r\n",
        "test_data = dsets.MNIST(root = './data', train = False,\r\n",
        "                       transform = transforms.ToTensor())"
      ],
      "execution_count": 13,
      "outputs": [
        {
          "output_type": "stream",
          "text": [
            "Downloading http://yann.lecun.com/exdb/mnist/train-images-idx3-ubyte.gz to ./data/MNIST/raw/train-images-idx3-ubyte.gz\n"
          ],
          "name": "stdout"
        },
        {
          "output_type": "display_data",
          "data": {
            "application/vnd.jupyter.widget-view+json": {
              "model_id": "bb9de04b0ba843b58586cf52ee8d3343",
              "version_minor": 0,
              "version_major": 2
            },
            "text/plain": [
              "HBox(children=(FloatProgress(value=1.0, bar_style='info', max=1.0), HTML(value='')))"
            ]
          },
          "metadata": {
            "tags": []
          }
        },
        {
          "output_type": "stream",
          "text": [
            "Extracting ./data/MNIST/raw/train-images-idx3-ubyte.gz to ./data/MNIST/raw\n",
            "Downloading http://yann.lecun.com/exdb/mnist/train-labels-idx1-ubyte.gz to ./data/MNIST/raw/train-labels-idx1-ubyte.gz\n"
          ],
          "name": "stdout"
        },
        {
          "output_type": "display_data",
          "data": {
            "application/vnd.jupyter.widget-view+json": {
              "model_id": "d869bfe48dcd4e3aa58d4a62980d08b7",
              "version_minor": 0,
              "version_major": 2
            },
            "text/plain": [
              "HBox(children=(FloatProgress(value=1.0, bar_style='info', max=1.0), HTML(value='')))"
            ]
          },
          "metadata": {
            "tags": []
          }
        },
        {
          "output_type": "stream",
          "text": [
            "Extracting ./data/MNIST/raw/train-labels-idx1-ubyte.gz to ./data/MNIST/raw\n",
            "Downloading http://yann.lecun.com/exdb/mnist/t10k-images-idx3-ubyte.gz to ./data/MNIST/raw/t10k-images-idx3-ubyte.gz\n",
            "\n"
          ],
          "name": "stdout"
        },
        {
          "output_type": "display_data",
          "data": {
            "application/vnd.jupyter.widget-view+json": {
              "model_id": "5ff0071a21c847eaa6cf43bea5529b11",
              "version_minor": 0,
              "version_major": 2
            },
            "text/plain": [
              "HBox(children=(FloatProgress(value=1.0, bar_style='info', max=1.0), HTML(value='')))"
            ]
          },
          "metadata": {
            "tags": []
          }
        },
        {
          "output_type": "stream",
          "text": [
            "Extracting ./data/MNIST/raw/t10k-images-idx3-ubyte.gz to ./data/MNIST/raw\n",
            "Downloading http://yann.lecun.com/exdb/mnist/t10k-labels-idx1-ubyte.gz to ./data/MNIST/raw/t10k-labels-idx1-ubyte.gz\n"
          ],
          "name": "stdout"
        },
        {
          "output_type": "display_data",
          "data": {
            "application/vnd.jupyter.widget-view+json": {
              "model_id": "40265c156c254786a9eac695120af79b",
              "version_minor": 0,
              "version_major": 2
            },
            "text/plain": [
              "HBox(children=(FloatProgress(value=1.0, bar_style='info', max=1.0), HTML(value='')))"
            ]
          },
          "metadata": {
            "tags": []
          }
        },
        {
          "output_type": "stream",
          "text": [
            "Extracting ./data/MNIST/raw/t10k-labels-idx1-ubyte.gz to ./data/MNIST/raw\n",
            "Processing...\n",
            "Done!\n"
          ],
          "name": "stdout"
        },
        {
          "output_type": "stream",
          "text": [
            "/usr/local/lib/python3.7/dist-packages/torchvision/datasets/mnist.py:480: UserWarning: The given NumPy array is not writeable, and PyTorch does not support non-writeable tensors. This means you can write to the underlying (supposedly non-writeable) NumPy array using the tensor. You may want to copy the array to protect its data or make it writeable before converting it to a tensor. This type of warning will be suppressed for the rest of this program. (Triggered internally at  /pytorch/torch/csrc/utils/tensor_numpy.cpp:141.)\n",
            "  return torch.from_numpy(parsed.astype(m[2], copy=False)).view(*s)\n"
          ],
          "name": "stderr"
        }
      ]
    },
    {
      "cell_type": "code",
      "metadata": {
        "id": "nHiGt_7eskB3"
      },
      "source": [
        "#@title Loading the data\r\n",
        "\r\n",
        "train_gen = torch.utils.data.DataLoader(dataset = train_data,\r\n",
        "                                             batch_size = batch_size,\r\n",
        "                                             shuffle = True)\r\n",
        "\r\n",
        "test_gen = torch.utils.data.DataLoader(dataset = test_data,\r\n",
        "                                      batch_size = batch_size, \r\n",
        "                                      shuffle = False)"
      ],
      "execution_count": 14,
      "outputs": []
    },
    {
      "cell_type": "code",
      "metadata": {
        "id": "YKn1XAsYslmt"
      },
      "source": [
        "#@title Define model class\r\n",
        "\r\n",
        "class Net(nn.Module):\r\n",
        "  def __init__(self, input_size, hidden_size, num_classes):\r\n",
        "    super(Net,self).__init__()\r\n",
        "    self.fc1 = nn.Linear(input_size, hidden_size)\r\n",
        "    self.relu = nn.ReLU()\r\n",
        "    self.fc2 = nn.Linear(hidden_size, num_classes)\r\n",
        "  \r\n",
        "  def forward(self,x):\r\n",
        "    out = self.fc1(x)\r\n",
        "    out = self.relu(out)\r\n",
        "    out = self.fc2(out)\r\n",
        "    return out"
      ],
      "execution_count": 15,
      "outputs": []
    },
    {
      "cell_type": "code",
      "metadata": {
        "id": "zygJY8SzsluZ"
      },
      "source": [
        "#@title Build the model\r\n",
        "\r\n",
        "net = Net(input_size, hidden_size, num_classes)\r\n",
        "if torch.cuda.is_available():\r\n",
        "  net.cuda()"
      ],
      "execution_count": 16,
      "outputs": []
    },
    {
      "cell_type": "code",
      "metadata": {
        "id": "G5SqVLPasl4A"
      },
      "source": [
        "#@title Define loss-function & optimizer\r\n",
        "\r\n",
        "loss_function = nn.CrossEntropyLoss()\r\n",
        "optimizer = torch.optim.Adam( net.parameters(), lr=lr)"
      ],
      "execution_count": 17,
      "outputs": []
    },
    {
      "cell_type": "code",
      "metadata": {
        "colab": {
          "base_uri": "https://localhost:8080/"
        },
        "id": "Mikh9SRrst5-",
        "outputId": "3b4271c5-fdf4-4157-81ef-5630e982d5b2"
      },
      "source": [
        "#@title Training the model\r\n",
        "cost=[]\r\n",
        "for epoch in range(num_epochs):\r\n",
        "  for i ,(images,labels) in enumerate(train_gen):\r\n",
        "    images = Variable(images.view(-1,28*28)).cuda()\r\n",
        "    labels = Variable(labels).cuda()\r\n",
        "    \r\n",
        "    optimizer.zero_grad()\r\n",
        "    outputs = net(images)\r\n",
        "    loss = loss_function(outputs, labels)\r\n",
        "    loss.backward()\r\n",
        "    optimizer.step()\r\n",
        "    \r\n",
        "    if (i+1) % 100 == 0:\r\n",
        "      cost.append(loss.data.cpu().numpy())\r\n",
        "      print('Epoch [%d/%d], Step [%d/%d], Loss: %.4f' %(epoch+1, num_epochs, i+1, len(train_data)//batch_size, loss.data))"
      ],
      "execution_count": 18,
      "outputs": [
        {
          "output_type": "stream",
          "text": [
            "Epoch [1/20], Step [100/600], Loss: 0.2689\n",
            "Epoch [1/20], Step [200/600], Loss: 0.2178\n",
            "Epoch [1/20], Step [300/600], Loss: 0.2176\n",
            "Epoch [1/20], Step [400/600], Loss: 0.3366\n",
            "Epoch [1/20], Step [500/600], Loss: 0.2319\n",
            "Epoch [1/20], Step [600/600], Loss: 0.1570\n",
            "Epoch [2/20], Step [100/600], Loss: 0.0936\n",
            "Epoch [2/20], Step [200/600], Loss: 0.0773\n",
            "Epoch [2/20], Step [300/600], Loss: 0.1080\n",
            "Epoch [2/20], Step [400/600], Loss: 0.1589\n",
            "Epoch [2/20], Step [500/600], Loss: 0.1089\n",
            "Epoch [2/20], Step [600/600], Loss: 0.0408\n",
            "Epoch [3/20], Step [100/600], Loss: 0.0843\n",
            "Epoch [3/20], Step [200/600], Loss: 0.0535\n",
            "Epoch [3/20], Step [300/600], Loss: 0.0315\n",
            "Epoch [3/20], Step [400/600], Loss: 0.0239\n",
            "Epoch [3/20], Step [500/600], Loss: 0.0237\n",
            "Epoch [3/20], Step [600/600], Loss: 0.0759\n",
            "Epoch [4/20], Step [100/600], Loss: 0.0569\n",
            "Epoch [4/20], Step [200/600], Loss: 0.1595\n",
            "Epoch [4/20], Step [300/600], Loss: 0.0492\n",
            "Epoch [4/20], Step [400/600], Loss: 0.0381\n",
            "Epoch [4/20], Step [500/600], Loss: 0.0537\n",
            "Epoch [4/20], Step [600/600], Loss: 0.0367\n",
            "Epoch [5/20], Step [100/600], Loss: 0.0305\n",
            "Epoch [5/20], Step [200/600], Loss: 0.0384\n",
            "Epoch [5/20], Step [300/600], Loss: 0.0621\n",
            "Epoch [5/20], Step [400/600], Loss: 0.0322\n",
            "Epoch [5/20], Step [500/600], Loss: 0.0202\n",
            "Epoch [5/20], Step [600/600], Loss: 0.0426\n",
            "Epoch [6/20], Step [100/600], Loss: 0.0166\n",
            "Epoch [6/20], Step [200/600], Loss: 0.0318\n",
            "Epoch [6/20], Step [300/600], Loss: 0.0271\n",
            "Epoch [6/20], Step [400/600], Loss: 0.0077\n",
            "Epoch [6/20], Step [500/600], Loss: 0.0154\n",
            "Epoch [6/20], Step [600/600], Loss: 0.0271\n",
            "Epoch [7/20], Step [100/600], Loss: 0.0197\n",
            "Epoch [7/20], Step [200/600], Loss: 0.0426\n",
            "Epoch [7/20], Step [300/600], Loss: 0.0298\n",
            "Epoch [7/20], Step [400/600], Loss: 0.0066\n",
            "Epoch [7/20], Step [500/600], Loss: 0.0446\n",
            "Epoch [7/20], Step [600/600], Loss: 0.0282\n",
            "Epoch [8/20], Step [100/600], Loss: 0.0102\n",
            "Epoch [8/20], Step [200/600], Loss: 0.0205\n",
            "Epoch [8/20], Step [300/600], Loss: 0.0461\n",
            "Epoch [8/20], Step [400/600], Loss: 0.0096\n",
            "Epoch [8/20], Step [500/600], Loss: 0.0111\n",
            "Epoch [8/20], Step [600/600], Loss: 0.0224\n",
            "Epoch [9/20], Step [100/600], Loss: 0.0167\n",
            "Epoch [9/20], Step [200/600], Loss: 0.0129\n",
            "Epoch [9/20], Step [300/600], Loss: 0.0335\n",
            "Epoch [9/20], Step [400/600], Loss: 0.0099\n",
            "Epoch [9/20], Step [500/600], Loss: 0.0023\n",
            "Epoch [9/20], Step [600/600], Loss: 0.0249\n",
            "Epoch [10/20], Step [100/600], Loss: 0.0027\n",
            "Epoch [10/20], Step [200/600], Loss: 0.0111\n",
            "Epoch [10/20], Step [300/600], Loss: 0.0223\n",
            "Epoch [10/20], Step [400/600], Loss: 0.0013\n",
            "Epoch [10/20], Step [500/600], Loss: 0.0052\n",
            "Epoch [10/20], Step [600/600], Loss: 0.0029\n",
            "Epoch [11/20], Step [100/600], Loss: 0.0014\n",
            "Epoch [11/20], Step [200/600], Loss: 0.0023\n",
            "Epoch [11/20], Step [300/600], Loss: 0.0058\n",
            "Epoch [11/20], Step [400/600], Loss: 0.0074\n",
            "Epoch [11/20], Step [500/600], Loss: 0.0046\n",
            "Epoch [11/20], Step [600/600], Loss: 0.0044\n",
            "Epoch [12/20], Step [100/600], Loss: 0.0012\n",
            "Epoch [12/20], Step [200/600], Loss: 0.0118\n",
            "Epoch [12/20], Step [300/600], Loss: 0.0038\n",
            "Epoch [12/20], Step [400/600], Loss: 0.0058\n",
            "Epoch [12/20], Step [500/600], Loss: 0.0016\n",
            "Epoch [12/20], Step [600/600], Loss: 0.0028\n",
            "Epoch [13/20], Step [100/600], Loss: 0.0018\n",
            "Epoch [13/20], Step [200/600], Loss: 0.0009\n",
            "Epoch [13/20], Step [300/600], Loss: 0.0010\n",
            "Epoch [13/20], Step [400/600], Loss: 0.0008\n",
            "Epoch [13/20], Step [500/600], Loss: 0.0055\n",
            "Epoch [13/20], Step [600/600], Loss: 0.0042\n",
            "Epoch [14/20], Step [100/600], Loss: 0.0033\n",
            "Epoch [14/20], Step [200/600], Loss: 0.0013\n",
            "Epoch [14/20], Step [300/600], Loss: 0.0032\n",
            "Epoch [14/20], Step [400/600], Loss: 0.0167\n",
            "Epoch [14/20], Step [500/600], Loss: 0.0044\n",
            "Epoch [14/20], Step [600/600], Loss: 0.0035\n",
            "Epoch [15/20], Step [100/600], Loss: 0.0089\n",
            "Epoch [15/20], Step [200/600], Loss: 0.0018\n",
            "Epoch [15/20], Step [300/600], Loss: 0.0182\n",
            "Epoch [15/20], Step [400/600], Loss: 0.0546\n",
            "Epoch [15/20], Step [500/600], Loss: 0.0035\n",
            "Epoch [15/20], Step [600/600], Loss: 0.0004\n",
            "Epoch [16/20], Step [100/600], Loss: 0.0014\n",
            "Epoch [16/20], Step [200/600], Loss: 0.0015\n",
            "Epoch [16/20], Step [300/600], Loss: 0.0025\n",
            "Epoch [16/20], Step [400/600], Loss: 0.0004\n",
            "Epoch [16/20], Step [500/600], Loss: 0.0009\n",
            "Epoch [16/20], Step [600/600], Loss: 0.0025\n",
            "Epoch [17/20], Step [100/600], Loss: 0.0007\n",
            "Epoch [17/20], Step [200/600], Loss: 0.0033\n",
            "Epoch [17/20], Step [300/600], Loss: 0.0009\n",
            "Epoch [17/20], Step [400/600], Loss: 0.0007\n",
            "Epoch [17/20], Step [500/600], Loss: 0.0004\n",
            "Epoch [17/20], Step [600/600], Loss: 0.0002\n",
            "Epoch [18/20], Step [100/600], Loss: 0.0002\n",
            "Epoch [18/20], Step [200/600], Loss: 0.0049\n",
            "Epoch [18/20], Step [300/600], Loss: 0.0083\n",
            "Epoch [18/20], Step [400/600], Loss: 0.0027\n",
            "Epoch [18/20], Step [500/600], Loss: 0.0092\n",
            "Epoch [18/20], Step [600/600], Loss: 0.0006\n",
            "Epoch [19/20], Step [100/600], Loss: 0.0007\n",
            "Epoch [19/20], Step [200/600], Loss: 0.0011\n",
            "Epoch [19/20], Step [300/600], Loss: 0.0034\n",
            "Epoch [19/20], Step [400/600], Loss: 0.0028\n",
            "Epoch [19/20], Step [500/600], Loss: 0.0024\n",
            "Epoch [19/20], Step [600/600], Loss: 0.0007\n",
            "Epoch [20/20], Step [100/600], Loss: 0.0001\n",
            "Epoch [20/20], Step [200/600], Loss: 0.0102\n",
            "Epoch [20/20], Step [300/600], Loss: 0.0007\n",
            "Epoch [20/20], Step [400/600], Loss: 0.0011\n",
            "Epoch [20/20], Step [500/600], Loss: 0.0004\n",
            "Epoch [20/20], Step [600/600], Loss: 0.0013\n"
          ],
          "name": "stdout"
        }
      ]
    },
    {
      "cell_type": "code",
      "metadata": {
        "colab": {
          "base_uri": "https://localhost:8080/",
          "height": 295
        },
        "id": "-1qZjfXkOgO2",
        "outputId": "21a01f4b-8fcc-44c4-d9b9-7c59b243d876"
      },
      "source": [
        "import numpy as np  \r\n",
        "import matplotlib.pyplot as plt  \r\n",
        "\r\n",
        "x=range(6*20)\r\n",
        "# plotting \r\n",
        "plt.title(\"Line graph\")  \r\n",
        "plt.xlabel(\"Steps axis\")  \r\n",
        "plt.ylabel(\"Loss axis\")  \r\n",
        "plt.scatter(x, cost, color =\"red\")  \r\n",
        "plt.show()"
      ],
      "execution_count": 19,
      "outputs": [
        {
          "output_type": "display_data",
          "data": {
            "image/png": "[encoded data removed]",
            "text/plain": [
              "<Figure size 432x288 with 1 Axes>"
            ]
          },
          "metadata": {
            "tags": [],
            "needs_background": "light"
          }
        }
      ]
    },
    {
      "cell_type": "code",
      "metadata": {
        "id": "bKtQpdSmQ5Ri"
      },
      "source": [
        ""
      ],
      "execution_count": 19,
      "outputs": []
    },
    {
      "cell_type": "code",
      "metadata": {
        "colab": {
          "base_uri": "https://localhost:8080/"
        },
        "id": "oYcchjjms1tC",
        "outputId": "8bb889e0-92fc-4223-9ea4-2532c5d6eaef"
      },
      "source": [
        "#@title Evaluating the accuracy of the model\r\n",
        "\r\n",
        "correct = 0\r\n",
        "total = 0\r\n",
        "for images,labels in test_gen:\r\n",
        "  images = Variable(images.view(-1,28*28)).cuda()\r\n",
        "  labels = labels.cuda()\r\n",
        "  \r\n",
        "  output = net(images)\r\n",
        "  _, predicted = torch.max(output,1)\r\n",
        "  correct += (predicted == labels).sum()\r\n",
        "  total += labels.size(0)\r\n",
        "\r\n",
        "print('Accuracy of the model: %.3f %%' %((100*correct)/(total+1)))"
      ],
      "execution_count": 20,
      "outputs": [
        {
          "output_type": "stream",
          "text": [
            "Accuracy of the model: 98.030 %\n"
          ],
          "name": "stdout"
        }
      ]
    },
    {
      "cell_type": "code",
      "metadata": {
        "id": "0d_RHQoqMHKP"
      },
      "source": [
        ""
      ],
      "execution_count": null,
      "outputs": []
    }
  ]
}