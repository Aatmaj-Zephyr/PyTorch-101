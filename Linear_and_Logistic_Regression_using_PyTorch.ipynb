{
  "nbformat": 4,
  "nbformat_minor": 0,
  "metadata": {
    "colab": {
      "name": "Linear and Logistic Regression using PyTorch.ipynb",
      "provenance": [],
      "collapsed_sections": [],
      "include_colab_link": true
    },
    "kernelspec": {
      "name": "python3",
      "display_name": "Python 3"
    }
  },
  "cells": [
    {
      "cell_type": "markdown",
      "metadata": {
        "id": "view-in-github",
        "colab_type": "text"
      },
      "source": [
        "<a href=\"https://colab.research.google.com/github/smlra-kjsce/PyTorch-101/blob/main/Linear_and_Logistic_Regression_using_PyTorch.ipynb\" target=\"_parent\"><img src=\"https://colab.research.google.com/assets/colab-badge.svg\" alt=\"Open In Colab\"/></a>"
      ]
    },
    {
      "cell_type": "code",
      "metadata": {
        "id": "GR57VDRKjGLX"
      },
      "source": [
        "# Importing necessary libraries\r\n",
        "\r\n",
        "import torch\r\n",
        "import torch.nn as nn\r\n",
        "import numpy as np\r\n",
        "from sklearn import datasets\r\n",
        "from sklearn.preprocessing import StandardScaler\r\n",
        "from sklearn.model_selection import train_test_split\r\n",
        "from sklearn.metrics import confusion_matrix\r\n",
        "import matplotlib.pyplot as plt"
      ],
      "execution_count": null,
      "outputs": []
    },
    {
      "cell_type": "markdown",
      "metadata": {
        "id": "TlhK-cQqoWgU"
      },
      "source": [
        "# Linear Regression \r\n"
      ]
    },
    {
      "cell_type": "markdown",
      "metadata": {
        "id": "FAansz0UrWOp"
      },
      "source": [
        "## Step 1 - Making Dataset"
      ]
    },
    {
      "cell_type": "code",
      "metadata": {
        "id": "pgtwp-hyk9ZV"
      },
      "source": [
        "# Making random dataset from sklearn.datsets\r\n",
        "x_np , y_np = datasets.make_regression(n_samples=100,n_features=1,noise=10,random_state=1)\r\n",
        "\r\n",
        "# Since the x_np and y_np are in numpy array form, we convert them to pytorch tensor\r\n",
        "x = torch.from_numpy(x_np.astype(np.float32))\r\n",
        "y = torch.from_numpy(y_np.astype(np.float32))"
      ],
      "execution_count": null,
      "outputs": []
    },
    {
      "cell_type": "code",
      "metadata": {
        "colab": {
          "base_uri": "https://localhost:8080/"
        },
        "id": "tDG48t3Bu2iU",
        "outputId": "636267a6-32d3-4c3a-c429-b3b7a0cb0c84"
      },
      "source": [
        "# We try to see the shape of the s and y tensor so that they are of valid dimension.\r\n",
        "\r\n",
        "print(x.shape)\r\n",
        "print(y.shape)"
      ],
      "execution_count": null,
      "outputs": [
        {
          "output_type": "stream",
          "text": [
            "torch.Size([100, 1])\n",
            "torch.Size([100])\n"
          ],
          "name": "stdout"
        }
      ]
    },
    {
      "cell_type": "markdown",
      "metadata": {
        "id": "5aZkp9umq3gE"
      },
      "source": [
        "We see that y is of shape [100] so we convert it to shape [100,1] so that we can easily feed it to the model. "
      ]
    },
    {
      "cell_type": "code",
      "metadata": {
        "colab": {
          "base_uri": "https://localhost:8080/"
        },
        "id": "ddOeupRfvdID",
        "outputId": "f676a4e5-191b-418f-9df9-2a41177f2d05"
      },
      "source": [
        "# We convert y of hsape 100 to (100,1) and see the shape \r\n",
        "\r\n",
        "y = y.view(y.shape[0],1)\r\n",
        "print(y.shape)"
      ],
      "execution_count": null,
      "outputs": [
        {
          "output_type": "stream",
          "text": [
            "torch.Size([100, 1])\n"
          ],
          "name": "stdout"
        }
      ]
    },
    {
      "cell_type": "markdown",
      "metadata": {
        "id": "wDRGJlBMrb90"
      },
      "source": [
        "## Step 2 - Designing Model\r\n"
      ]
    },
    {
      "cell_type": "code",
      "metadata": {
        "colab": {
          "base_uri": "https://localhost:8080/"
        },
        "id": "XnlDpd-xvlR0",
        "outputId": "9995d270-feb0-4336-dd58-9afc2d2aa5dd"
      },
      "source": [
        "# We try to understand the input and output size and make a model out of it\r\n",
        "\r\n",
        "# the no of featrues that each data-point has becomes out input size as any input will have that many values. \r\n",
        "# Eg. if no. of features is 2, we will have input of the form (a,b)\r\n",
        "no_of_samples, no_of_features = x.shape\r\n",
        "input_size = no_of_features\r\n",
        "\r\n",
        "# The ouput size will be the shape of each of the given y.\r\n",
        "output_size = y.shape[1]\r\n",
        "\r\n",
        "print(\"Input size is \" + str(input_size))\r\n",
        "print(\"Output size is \" + str(output_size))\r\n",
        "\r\n",
        "# We construct a linear model with the given input and output sizes\r\n",
        "model = nn.Linear(input_size,output_size)"
      ],
      "execution_count": null,
      "outputs": [
        {
          "output_type": "stream",
          "text": [
            "Input size is 1\n",
            "Output size is 1\n"
          ],
          "name": "stdout"
        }
      ]
    },
    {
      "cell_type": "markdown",
      "metadata": {
        "id": "0H54WX2hso-d"
      },
      "source": [
        "## Step 3 - Defining loss and optimizer "
      ]
    },
    {
      "cell_type": "code",
      "metadata": {
        "id": "qdqJAqhYwd6a"
      },
      "source": [
        "# Loss and Optimizer \r\n",
        "\r\n",
        "learning_rate = 0.01 \r\n",
        "epochs = 1000\r\n",
        "\r\n",
        "# We take the standard mean squared loss\r\n",
        "model_loss = nn.MSELoss()\r\n",
        "\r\n",
        "# We take the SGD (Stochastic Gradient Descent) \r\n",
        "optimizer = torch.optim.SGD(model.parameters(),lr=learning_rate)"
      ],
      "execution_count": null,
      "outputs": []
    },
    {
      "cell_type": "markdown",
      "metadata": {
        "id": "S4TfOtqCs53e"
      },
      "source": [
        "## Step 4 - Training Loop"
      ]
    },
    {
      "cell_type": "code",
      "metadata": {
        "colab": {
          "base_uri": "https://localhost:8080/"
        },
        "id": "S382rx0xxmQD",
        "outputId": "ab074f3c-4b6d-4873-af5a-7ba5b01ace02"
      },
      "source": [
        "# Here we take all the components together and put them in a training loop.\r\n",
        "\r\n",
        "for epoch in range(epochs):\r\n",
        "  # Forward pass\r\n",
        "  y_hat = model(x)\r\n",
        "  loss = model_loss(y_hat,y)\r\n",
        "\r\n",
        "  # Backward pass\r\n",
        "  loss.backward()\r\n",
        "\r\n",
        "  # Update weights\r\n",
        "  optimizer.step()\r\n",
        "  optimizer.zero_grad()\r\n",
        "\r\n",
        "  # Printing it at every 10 epochs\r\n",
        "  if (epoch%10 == 0):\r\n",
        "    print(\"Epoch \" + str(epoch))\r\n",
        "    print(\"Loss \" + str(loss.item()))\r\n"
      ],
      "execution_count": null,
      "outputs": [
        {
          "output_type": "stream",
          "text": [
            "Epoch 0\n",
            "Loss 5270.48876953125\n",
            "Epoch 10\n",
            "Loss 3848.965087890625\n",
            "Epoch 20\n",
            "Loss 2819.220947265625\n",
            "Epoch 30\n",
            "Loss 2072.54833984375\n",
            "Epoch 40\n",
            "Loss 1530.6400146484375\n",
            "Epoch 50\n",
            "Loss 1137.0137939453125\n",
            "Epoch 60\n",
            "Loss 850.8743896484375\n",
            "Epoch 70\n",
            "Loss 642.7232666015625\n",
            "Epoch 80\n",
            "Loss 491.2056579589844\n",
            "Epoch 90\n",
            "Loss 380.8469543457031\n",
            "Epoch 100\n",
            "Loss 300.4223327636719\n",
            "Epoch 110\n",
            "Loss 241.7830810546875\n",
            "Epoch 120\n",
            "Loss 199.00839233398438\n",
            "Epoch 130\n",
            "Loss 167.79331970214844\n",
            "Epoch 140\n",
            "Loss 145.00518798828125\n",
            "Epoch 150\n",
            "Loss 128.36312866210938\n",
            "Epoch 160\n",
            "Loss 116.2055892944336\n",
            "Epoch 170\n",
            "Loss 107.32167053222656\n",
            "Epoch 180\n",
            "Loss 100.82832336425781\n",
            "Epoch 190\n",
            "Loss 96.0808334350586\n",
            "Epoch 200\n",
            "Loss 92.60924530029297\n",
            "Epoch 210\n",
            "Loss 90.070068359375\n",
            "Epoch 220\n",
            "Loss 88.21258544921875\n",
            "Epoch 230\n",
            "Loss 86.85357666015625\n",
            "Epoch 240\n",
            "Loss 85.85906219482422\n",
            "Epoch 250\n",
            "Loss 85.13121032714844\n",
            "Epoch 260\n",
            "Loss 84.59845733642578\n",
            "Epoch 270\n",
            "Loss 84.20848846435547\n",
            "Epoch 280\n",
            "Loss 83.92294311523438\n",
            "Epoch 290\n",
            "Loss 83.71387481689453\n",
            "Epoch 300\n",
            "Loss 83.5608139038086\n",
            "Epoch 310\n",
            "Loss 83.44872283935547\n",
            "Epoch 320\n",
            "Loss 83.36663818359375\n",
            "Epoch 330\n",
            "Loss 83.30653381347656\n",
            "Epoch 340\n",
            "Loss 83.26251220703125\n",
            "Epoch 350\n",
            "Loss 83.23023223876953\n",
            "Epoch 360\n",
            "Loss 83.20661926269531\n",
            "Epoch 370\n",
            "Loss 83.18931579589844\n",
            "Epoch 380\n",
            "Loss 83.17664337158203\n",
            "Epoch 390\n",
            "Loss 83.16734313964844\n",
            "Epoch 400\n",
            "Loss 83.16053771972656\n",
            "Epoch 410\n",
            "Loss 83.15554809570312\n",
            "Epoch 420\n",
            "Loss 83.15190124511719\n",
            "Epoch 430\n",
            "Loss 83.14920806884766\n",
            "Epoch 440\n",
            "Loss 83.14725494384766\n",
            "Epoch 450\n",
            "Loss 83.14582061767578\n",
            "Epoch 460\n",
            "Loss 83.144775390625\n",
            "Epoch 470\n",
            "Loss 83.14400482177734\n",
            "Epoch 480\n",
            "Loss 83.14342498779297\n",
            "Epoch 490\n",
            "Loss 83.14302825927734\n",
            "Epoch 500\n",
            "Loss 83.1427230834961\n",
            "Epoch 510\n",
            "Loss 83.14250183105469\n",
            "Epoch 520\n",
            "Loss 83.142333984375\n",
            "Epoch 530\n",
            "Loss 83.14222717285156\n",
            "Epoch 540\n",
            "Loss 83.14212036132812\n",
            "Epoch 550\n",
            "Loss 83.1420669555664\n",
            "Epoch 560\n",
            "Loss 83.14202117919922\n",
            "Epoch 570\n",
            "Loss 83.1419906616211\n",
            "Epoch 580\n",
            "Loss 83.14196014404297\n",
            "Epoch 590\n",
            "Loss 83.14193725585938\n",
            "Epoch 600\n",
            "Loss 83.14192199707031\n",
            "Epoch 610\n",
            "Loss 83.14192199707031\n",
            "Epoch 620\n",
            "Loss 83.14190673828125\n",
            "Epoch 630\n",
            "Loss 83.14190673828125\n",
            "Epoch 640\n",
            "Loss 83.14189147949219\n",
            "Epoch 650\n",
            "Loss 83.14189147949219\n",
            "Epoch 660\n",
            "Loss 83.14189147949219\n",
            "Epoch 670\n",
            "Loss 83.14189147949219\n",
            "Epoch 680\n",
            "Loss 83.14189147949219\n",
            "Epoch 690\n",
            "Loss 83.14189147949219\n",
            "Epoch 700\n",
            "Loss 83.14189147949219\n",
            "Epoch 710\n",
            "Loss 83.14188385009766\n",
            "Epoch 720\n",
            "Loss 83.14189147949219\n",
            "Epoch 730\n",
            "Loss 83.14188385009766\n",
            "Epoch 740\n",
            "Loss 83.14189147949219\n",
            "Epoch 750\n",
            "Loss 83.14189147949219\n",
            "Epoch 760\n",
            "Loss 83.14189147949219\n",
            "Epoch 770\n",
            "Loss 83.14189147949219\n",
            "Epoch 780\n",
            "Loss 83.14188385009766\n",
            "Epoch 790\n",
            "Loss 83.14188385009766\n",
            "Epoch 800\n",
            "Loss 83.14189147949219\n",
            "Epoch 810\n",
            "Loss 83.14189147949219\n",
            "Epoch 820\n",
            "Loss 83.14189147949219\n",
            "Epoch 830\n",
            "Loss 83.14189147949219\n",
            "Epoch 840\n",
            "Loss 83.14189147949219\n",
            "Epoch 850\n",
            "Loss 83.14188385009766\n",
            "Epoch 860\n",
            "Loss 83.14188385009766\n",
            "Epoch 870\n",
            "Loss 83.14188385009766\n",
            "Epoch 880\n",
            "Loss 83.14189147949219\n",
            "Epoch 890\n",
            "Loss 83.14189147949219\n",
            "Epoch 900\n",
            "Loss 83.14189147949219\n",
            "Epoch 910\n",
            "Loss 83.14188385009766\n",
            "Epoch 920\n",
            "Loss 83.14189147949219\n",
            "Epoch 930\n",
            "Loss 83.14189147949219\n",
            "Epoch 940\n",
            "Loss 83.14189147949219\n",
            "Epoch 950\n",
            "Loss 83.14189147949219\n",
            "Epoch 960\n",
            "Loss 83.14189147949219\n",
            "Epoch 970\n",
            "Loss 83.14189147949219\n",
            "Epoch 980\n",
            "Loss 83.14189147949219\n",
            "Epoch 990\n",
            "Loss 83.14189147949219\n"
          ],
          "name": "stdout"
        }
      ]
    },
    {
      "cell_type": "markdown",
      "metadata": {
        "id": "U9z9R8yqtSGJ"
      },
      "source": [
        "## Step 5 - Plot the graph"
      ]
    },
    {
      "cell_type": "code",
      "metadata": {
        "colab": {
          "base_uri": "https://localhost:8080/",
          "height": 265
        },
        "id": "ne71GSJoyyty",
        "outputId": "7b9a9a39-07f5-4161-fb1e-21c30b441260"
      },
      "source": [
        "# We first unwrap the predictions into a array named y_predicted\r\n",
        "y_predicted = model(x).detach().numpy()\r\n",
        "\r\n",
        "# We plot the original points\r\n",
        "plt.scatter(x_np,y_np,color=\"red\")\r\n",
        "\r\n",
        "# We plot the predictions \r\n",
        "plt.plot(x_np,y_predicted,color=\"blue\")\r\n",
        "plt.show()"
      ],
      "execution_count": null,
      "outputs": [
        {
          "output_type": "display_data",
          "data": {
            "image/png": "[encoded data removed]",
            "text/plain": [
              "<Figure size 432x288 with 1 Axes>"
            ]
          },
          "metadata": {
            "tags": [],
            "needs_background": "light"
          }
        }
      ]
    },
    {
      "cell_type": "markdown",
      "metadata": {
        "id": "pN9THn8CwiHw"
      },
      "source": [
        "# Logistic Regression"
      ]
    },
    {
      "cell_type": "markdown",
      "metadata": {
        "id": "mHQ-vqpMsW1M"
      },
      "source": [
        "## Step 1 - Data Pre-processing "
      ]
    },
    {
      "cell_type": "code",
      "metadata": {
        "id": "gt687BC8zRLt",
        "colab": {
          "base_uri": "https://localhost:8080/"
        },
        "outputId": "3f6c4db3-6f36-43f2-9f98-fbab7b523f76"
      },
      "source": [
        "data = datasets.load_wine()\r\n",
        "\r\n",
        "print(data)"
      ],
      "execution_count": null,
      "outputs": [
        {
          "output_type": "stream",
          "text": [
            "{'data': array([[1.423e+01, 1.710e+00, 2.430e+00, ..., 1.040e+00, 3.920e+00,\n",
            "        1.065e+03],\n",
            "       [1.320e+01, 1.780e+00, 2.140e+00, ..., 1.050e+00, 3.400e+00,\n",
            "        1.050e+03],\n",
            "       [1.316e+01, 2.360e+00, 2.670e+00, ..., 1.030e+00, 3.170e+00,\n",
            "        1.185e+03],\n",
            "       ...,\n",
            "       [1.327e+01, 4.280e+00, 2.260e+00, ..., 5.900e-01, 1.560e+00,\n",
            "        8.350e+02],\n",
            "       [1.317e+01, 2.590e+00, 2.370e+00, ..., 6.000e-01, 1.620e+00,\n",
            "        8.400e+02],\n",
            "       [1.413e+01, 4.100e+00, 2.740e+00, ..., 6.100e-01, 1.600e+00,\n",
            "        5.600e+02]]), 'target': array([0, 0, 0, 0, 0, 0, 0, 0, 0, 0, 0, 0, 0, 0, 0, 0, 0, 0, 0, 0, 0, 0,\n",
            "       0, 0, 0, 0, 0, 0, 0, 0, 0, 0, 0, 0, 0, 0, 0, 0, 0, 0, 0, 0, 0, 0,\n",
            "       0, 0, 0, 0, 0, 0, 0, 0, 0, 0, 0, 0, 0, 0, 0, 1, 1, 1, 1, 1, 1, 1,\n",
            "       1, 1, 1, 1, 1, 1, 1, 1, 1, 1, 1, 1, 1, 1, 1, 1, 1, 1, 1, 1, 1, 1,\n",
            "       1, 1, 1, 1, 1, 1, 1, 1, 1, 1, 1, 1, 1, 1, 1, 1, 1, 1, 1, 1, 1, 1,\n",
            "       1, 1, 1, 1, 1, 1, 1, 1, 1, 1, 1, 1, 1, 1, 1, 1, 1, 1, 1, 1, 2, 2,\n",
            "       2, 2, 2, 2, 2, 2, 2, 2, 2, 2, 2, 2, 2, 2, 2, 2, 2, 2, 2, 2, 2, 2,\n",
            "       2, 2, 2, 2, 2, 2, 2, 2, 2, 2, 2, 2, 2, 2, 2, 2, 2, 2, 2, 2, 2, 2,\n",
            "       2, 2]), 'target_names': array(['class_0', 'class_1', 'class_2'], dtype='<U7'), 'DESCR': '.. _wine_dataset:\\n\\nWine recognition dataset\\n------------------------\\n\\n**Data Set Characteristics:**\\n\\n    :Number of Instances: 178 (50 in each of three classes)\\n    :Number of Attributes: 13 numeric, predictive attributes and the class\\n    :Attribute Information:\\n \\t\\t- Alcohol\\n \\t\\t- Malic acid\\n \\t\\t- Ash\\n\\t\\t- Alcalinity of ash  \\n \\t\\t- Magnesium\\n\\t\\t- Total phenols\\n \\t\\t- Flavanoids\\n \\t\\t- Nonflavanoid phenols\\n \\t\\t- Proanthocyanins\\n\\t\\t- Color intensity\\n \\t\\t- Hue\\n \\t\\t- OD280/OD315 of diluted wines\\n \\t\\t- Proline\\n\\n    - class:\\n            - class_0\\n            - class_1\\n            - class_2\\n\\t\\t\\n    :Summary Statistics:\\n    \\n    ============================= ==== ===== ======= =====\\n                                   Min   Max   Mean     SD\\n    ============================= ==== ===== ======= =====\\n    Alcohol:                      11.0  14.8    13.0   0.8\\n    Malic Acid:                   0.74  5.80    2.34  1.12\\n    Ash:                          1.36  3.23    2.36  0.27\\n    Alcalinity of Ash:            10.6  30.0    19.5   3.3\\n    Magnesium:                    70.0 162.0    99.7  14.3\\n    Total Phenols:                0.98  3.88    2.29  0.63\\n    Flavanoids:                   0.34  5.08    2.03  1.00\\n    Nonflavanoid Phenols:         0.13  0.66    0.36  0.12\\n    Proanthocyanins:              0.41  3.58    1.59  0.57\\n    Colour Intensity:              1.3  13.0     5.1   2.3\\n    Hue:                          0.48  1.71    0.96  0.23\\n    OD280/OD315 of diluted wines: 1.27  4.00    2.61  0.71\\n    Proline:                       278  1680     746   315\\n    ============================= ==== ===== ======= =====\\n\\n    :Missing Attribute Values: None\\n    :Class Distribution: class_0 (59), class_1 (71), class_2 (48)\\n    :Creator: R.A. Fisher\\n    :Donor: Michael Marshall (MARSHALL%PLU@io.arc.nasa.gov)\\n    :Date: July, 1988\\n\\nThis is a copy of UCI ML Wine recognition datasets.\\nhttps://archive.ics.uci.edu/ml/machine-learning-databases/wine/wine.data\\n\\nThe data is the results of a chemical analysis of wines grown in the same\\nregion in Italy by three different cultivators. There are thirteen different\\nmeasurements taken for different constituents found in the three types of\\nwine.\\n\\nOriginal Owners: \\n\\nForina, M. et al, PARVUS - \\nAn Extendible Package for Data Exploration, Classification and Correlation. \\nInstitute of Pharmaceutical and Food Analysis and Technologies,\\nVia Brigata Salerno, 16147 Genoa, Italy.\\n\\nCitation:\\n\\nLichman, M. (2013). UCI Machine Learning Repository\\n[https://archive.ics.uci.edu/ml]. Irvine, CA: University of California,\\nSchool of Information and Computer Science. \\n\\n.. topic:: References\\n\\n  (1) S. Aeberhard, D. Coomans and O. de Vel, \\n  Comparison of Classifiers in High Dimensional Settings, \\n  Tech. Rep. no. 92-02, (1992), Dept. of Computer Science and Dept. of  \\n  Mathematics and Statistics, James Cook University of North Queensland. \\n  (Also submitted to Technometrics). \\n\\n  The data was used with many others for comparing various \\n  classifiers. The classes are separable, though only RDA \\n  has achieved 100% correct classification. \\n  (RDA : 100%, QDA 99.4%, LDA 98.9%, 1NN 96.1% (z-transformed data)) \\n  (All results using the leave-one-out technique) \\n\\n  (2) S. Aeberhard, D. Coomans and O. de Vel, \\n  \"THE CLASSIFICATION PERFORMANCE OF RDA\" \\n  Tech. Rep. no. 92-01, (1992), Dept. of Computer Science and Dept. of \\n  Mathematics and Statistics, James Cook University of North Queensland. \\n  (Also submitted to Journal of Chemometrics).\\n', 'feature_names': ['alcohol', 'malic_acid', 'ash', 'alcalinity_of_ash', 'magnesium', 'total_phenols', 'flavanoids', 'nonflavanoid_phenols', 'proanthocyanins', 'color_intensity', 'hue', 'od280/od315_of_diluted_wines', 'proline']}\n"
          ],
          "name": "stdout"
        }
      ]
    },
    {
      "cell_type": "code",
      "metadata": {
        "colab": {
          "base_uri": "https://localhost:8080/"
        },
        "id": "DeulQ6wsnLJO",
        "outputId": "d55fe8fc-10a0-408c-87a6-57cec4bd9107"
      },
      "source": [
        "# We try to understand the size of out dataset\r\n",
        "\r\n",
        "# We first load the data and target\r\n",
        "x,y = data.data, data.target\r\n",
        "\r\n",
        "# We find the no. of features and data-points\r\n",
        "no_of_samples, no_of_features = x.shape\r\n",
        "print(x.shape)\r\n",
        "print(y.shape)"
      ],
      "execution_count": null,
      "outputs": [
        {
          "output_type": "stream",
          "text": [
            "(178, 13)\n",
            "(178,)\n"
          ],
          "name": "stdout"
        }
      ]
    },
    {
      "cell_type": "markdown",
      "metadata": {
        "id": "z71ssHfSoDgD"
      },
      "source": [
        "We can see that there are 178 datapoints having 13 features each. Since y is of zero dimesnions, we rehshape it to (178,1)"
      ]
    },
    {
      "cell_type": "code",
      "metadata": {
        "colab": {
          "base_uri": "https://localhost:8080/"
        },
        "id": "SoqYvIgUq6TL",
        "outputId": "4bd92fc8-9db2-4674-a18f-2216e39befbc"
      },
      "source": [
        "y = y.reshape(y.shape[0],1)\r\n",
        "print(y.shape)"
      ],
      "execution_count": null,
      "outputs": [
        {
          "output_type": "stream",
          "text": [
            "(178, 1)\n"
          ],
          "name": "stdout"
        }
      ]
    },
    {
      "cell_type": "markdown",
      "metadata": {
        "id": "XSBUzolAP8Kf"
      },
      "source": [
        "We see that our dataset contains 3 different values of 'y', 0,1 and 2. This will create a problem as logistic regression works well with only binary classification. So, we remove the data points having class '1' and rename the class '2' as class '1'  "
      ]
    },
    {
      "cell_type": "code",
      "metadata": {
        "colab": {
          "base_uri": "https://localhost:8080/"
        },
        "id": "66uDYVQbcmM1",
        "outputId": "1269350d-099a-4512-bde9-376a14a6e8cc"
      },
      "source": [
        "# We create an empty list consisting of all the indices that need to be deleted, i.e. all indices having y value as 1\r\n",
        "to_be_deleted = []\r\n",
        "\r\n",
        "# In the for loop, we append the indices having y=1 to the above list 'to_be_deleted' and replce those with y=2 as y=1\r\n",
        "for i in range (len(y)):\r\n",
        "  if y[i]==1:\r\n",
        "    to_be_deleted.append(i)\r\n",
        "  if y[i]==2:\r\n",
        "    y[i]=1\r\n",
        "\r\n",
        "# We delete the indices present in to_be_deleted from x and y using np.delete\r\n",
        "# Note that axis=0 means rowwise deletion and axis=1 means column wise\r\n",
        "x = np.delete(x,to_be_deleted,axis=0)\r\n",
        "y = np.delete(y,to_be_deleted,axis=0)\r\n",
        "print(y)"
      ],
      "execution_count": null,
      "outputs": [
        {
          "output_type": "stream",
          "text": [
            "[[0]\n",
            " [0]\n",
            " [0]\n",
            " [0]\n",
            " [0]\n",
            " [0]\n",
            " [0]\n",
            " [0]\n",
            " [0]\n",
            " [0]\n",
            " [0]\n",
            " [0]\n",
            " [0]\n",
            " [0]\n",
            " [0]\n",
            " [0]\n",
            " [0]\n",
            " [0]\n",
            " [0]\n",
            " [0]\n",
            " [0]\n",
            " [0]\n",
            " [0]\n",
            " [0]\n",
            " [0]\n",
            " [0]\n",
            " [0]\n",
            " [0]\n",
            " [0]\n",
            " [0]\n",
            " [0]\n",
            " [0]\n",
            " [0]\n",
            " [0]\n",
            " [0]\n",
            " [0]\n",
            " [0]\n",
            " [0]\n",
            " [0]\n",
            " [0]\n",
            " [0]\n",
            " [0]\n",
            " [0]\n",
            " [0]\n",
            " [0]\n",
            " [0]\n",
            " [0]\n",
            " [0]\n",
            " [0]\n",
            " [0]\n",
            " [0]\n",
            " [0]\n",
            " [0]\n",
            " [0]\n",
            " [0]\n",
            " [0]\n",
            " [0]\n",
            " [0]\n",
            " [0]\n",
            " [1]\n",
            " [1]\n",
            " [1]\n",
            " [1]\n",
            " [1]\n",
            " [1]\n",
            " [1]\n",
            " [1]\n",
            " [1]\n",
            " [1]\n",
            " [1]\n",
            " [1]\n",
            " [1]\n",
            " [1]\n",
            " [1]\n",
            " [1]\n",
            " [1]\n",
            " [1]\n",
            " [1]\n",
            " [1]\n",
            " [1]\n",
            " [1]\n",
            " [1]\n",
            " [1]\n",
            " [1]\n",
            " [1]\n",
            " [1]\n",
            " [1]\n",
            " [1]\n",
            " [1]\n",
            " [1]\n",
            " [1]\n",
            " [1]\n",
            " [1]\n",
            " [1]\n",
            " [1]\n",
            " [1]\n",
            " [1]\n",
            " [1]\n",
            " [1]\n",
            " [1]\n",
            " [1]\n",
            " [1]\n",
            " [1]\n",
            " [1]\n",
            " [1]\n",
            " [1]\n",
            " [1]]\n"
          ],
          "name": "stdout"
        }
      ]
    },
    {
      "cell_type": "code",
      "metadata": {
        "colab": {
          "base_uri": "https://localhost:8080/"
        },
        "id": "x6qZdUDmuRPn",
        "outputId": "658e5ad7-3d34-4da1-d0d2-e8e79974dab9"
      },
      "source": [
        "print(y.shape)\r\n",
        "print(x.shape)"
      ],
      "execution_count": null,
      "outputs": [
        {
          "output_type": "stream",
          "text": [
            "(107, 1)\n",
            "(107, 13)\n"
          ],
          "name": "stdout"
        }
      ]
    },
    {
      "cell_type": "code",
      "metadata": {
        "colab": {
          "base_uri": "https://localhost:8080/"
        },
        "id": "y6Sdz1yEnstQ",
        "outputId": "46fa8765-9fd8-48ce-d450-6ee2a5fee125"
      },
      "source": [
        "# We split the dataset into training and testing with the help of sklearn library\r\n",
        "\r\n",
        "# Note: Do not change the order of x_train,x_test,t_train,y_test as the function returns it in that order itself\r\n",
        "x_train, x_test, y_train, y_test = train_test_split(x,y,test_size=0.1)\r\n",
        "\r\n",
        "print(x_train.shape)\r\n",
        "print(x_test.shape)\r\n",
        "print(y_train.shape)\r\n",
        "print(y_test.shape)"
      ],
      "execution_count": null,
      "outputs": [
        {
          "output_type": "stream",
          "text": [
            "(96, 13)\n",
            "(11, 13)\n",
            "(96, 1)\n",
            "(11, 1)\n"
          ],
          "name": "stdout"
        }
      ]
    },
    {
      "cell_type": "markdown",
      "metadata": {
        "id": "lMp1i7BCqIX2"
      },
      "source": [
        "Since we are dealing with logistic regression, it is recommened to scale our data. We use standard scaler which will scale the data such that the mean of the data points is zero and the standard deviation is one. "
      ]
    },
    {
      "cell_type": "code",
      "metadata": {
        "id": "8IY8sOcPpfwl"
      },
      "source": [
        "sc = StandardScaler()\r\n",
        "x_train = sc.fit_transform(x_train)\r\n",
        "x_test = sc.fit_transform(x_test)"
      ],
      "execution_count": null,
      "outputs": []
    },
    {
      "cell_type": "code",
      "metadata": {
        "colab": {
          "base_uri": "https://localhost:8080/"
        },
        "id": "Up2Qd5fzre_j",
        "outputId": "f4e51eef-f504-4469-a0f9-effe2d8c90af"
      },
      "source": [
        "# Having completed the preprocessing, we convert the numpy arrays to torch tensors so that we can use pytorch models. \r\n",
        "\r\n",
        "x_train = torch.from_numpy(x_train.astype(np.float32))\r\n",
        "x_test = torch.from_numpy(x_test.astype(np.float32))\r\n",
        "y_train = torch.from_numpy(y_train.astype(np.float32))\r\n",
        "y_test = torch.from_numpy(y_test.astype(np.float32))\r\n",
        "\r\n",
        "print(y_test.shape)"
      ],
      "execution_count": null,
      "outputs": [
        {
          "output_type": "stream",
          "text": [
            "torch.Size([11, 1])\n"
          ],
          "name": "stdout"
        }
      ]
    },
    {
      "cell_type": "markdown",
      "metadata": {
        "id": "7zCKX-9zsb0F"
      },
      "source": [
        "## Step 2 - Model\r\n",
        "\r\n",
        "Logistic Regression is essentially Linear regression with a sigmoid layer in it. \r\n",
        "\r\n",
        "As shown, torch.nn.Linear layer is a single neuron. "
      ]
    },
    {
      "cell_type": "markdown",
      "metadata": {
        "id": "zrKZ96xEtWb-"
      },
      "source": [
        "![image.png](data:image/png;base64,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)"
      ]
    },
    {
      "cell_type": "markdown",
      "metadata": {
        "id": "w36SWv8XtvSr"
      },
      "source": [
        "The sigmoid function is shown as follows. In logistic regression, the sigmoid function is applied to the output of linear layer. \r\n",
        "![image.png](data:image/png;base64,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)"
      ]
    },
    {
      "cell_type": "markdown",
      "metadata": {
        "id": "UJmdt-V4xCkp"
      },
      "source": [
        "Before diving in t the model, lets understand the __ init __ and self used exensively in pytorch models. \r\n"
      ]
    },
    {
      "cell_type": "code",
      "metadata": {
        "colab": {
          "base_uri": "https://localhost:8080/"
        },
        "id": "6VoL850FwEc8",
        "outputId": "50b9406c-4ec1-494a-9524-b373cecfbffe"
      },
      "source": [
        "# We define a class named smlra and the __init__ function in it.  \r\n",
        "class smlra(object):\r\n",
        "  x = 100\r\n",
        "  def __init__(self):\r\n",
        "    self.x = 200\r\n",
        "\r\n",
        "# We import the class variables directly without initializing the class\r\n",
        "print(smlra.x)\r\n",
        "\r\n",
        "# When the object of the class is created i.e., here A is object and smlra is the class, then __init__ gets automatically called\r\n",
        "# __init__ is similar to class constructors in other object oriented programming languages\r\n",
        "A = smlra()\r\n",
        "print(A.x)\r\n",
        "\r\n",
        "# self is a hidden parameter which is passed evrytime the methods of the object are called.\r\n",
        "# In other programming languages, self is automatically passed, while in python, we have to declare it. "
      ],
      "execution_count": null,
      "outputs": [
        {
          "output_type": "stream",
          "text": [
            "100\n",
            "200\n"
          ],
          "name": "stdout"
        }
      ]
    },
    {
      "cell_type": "code",
      "metadata": {
        "id": "94532jSfsS9C"
      },
      "source": [
        "# We define our logistic regression class here\r\n",
        "\r\n",
        "class LogisticRegression(nn.Module): \r\n",
        "\r\n",
        "  # __init__ method of our LogisticRegression class is the simple linear regression layer \r\n",
        "  def __init__(self,no_of_input_features):\r\n",
        "    super(LogisticRegression, self).__init__()\r\n",
        "    self.linear = nn.Linear(no_of_input_features,1)              #This is because the output size is 1 (essentially between 0 and 1 as it is Logistic)\r\n",
        "  \r\n",
        "  # The forward method of our LogisticRegression class is built on the top of __init__ and is essentailly applies sigmoid layer on the linear layer\r\n",
        "  def forward(self,x):\r\n",
        "    y_predicted = torch.sigmoid(self.linear(x))\r\n",
        "    return y_predicted"
      ],
      "execution_count": null,
      "outputs": []
    },
    {
      "cell_type": "code",
      "metadata": {
        "id": "9BYFPCVl0G-j"
      },
      "source": [
        "model = LogisticRegression(no_of_features)"
      ],
      "execution_count": null,
      "outputs": []
    },
    {
      "cell_type": "markdown",
      "metadata": {
        "id": "S9H3V2rAD-w_"
      },
      "source": [
        "## Step 3 - Optimizer and Loss"
      ]
    },
    {
      "cell_type": "markdown",
      "metadata": {
        "id": "s4EuP_dKEFGe"
      },
      "source": [
        "Since it is a logistic regression, we take the binary cross-entropy loss for back-propagation "
      ]
    },
    {
      "cell_type": "code",
      "metadata": {
        "id": "k6ejogio0Qpp"
      },
      "source": [
        "# We first define the learning rate and the number of epochs\r\n",
        "learning_rate = 0.01\r\n",
        "epochs = 100\r\n",
        "\r\n",
        "# We then define the loss and the optimizer function\r\n",
        "loss = nn.BCELoss()\r\n",
        "optimizer = torch.optim.SGD(model.parameters(), lr=learning_rate)"
      ],
      "execution_count": null,
      "outputs": []
    },
    {
      "cell_type": "markdown",
      "metadata": {
        "id": "0c59Czt8Eu1g"
      },
      "source": [
        "## Step 4 - Training"
      ]
    },
    {
      "cell_type": "code",
      "metadata": {
        "colab": {
          "base_uri": "https://localhost:8080/"
        },
        "id": "2GGn_EvREuHk",
        "outputId": "62a93051-c1c0-4eef-ad4a-3e0f3af853fb"
      },
      "source": [
        "for epoch in range(epochs):\r\n",
        "\r\n",
        "  # Forward pass\r\n",
        "  y_predicted = model(x_train)\r\n",
        "\r\n",
        "  # Backward pass\r\n",
        "  l = loss(y_predicted,y_train)\r\n",
        "  l.backward()\r\n",
        "\r\n",
        "  # Weights updated\r\n",
        "  optimizer.step()\r\n",
        "  optimizer.zero_grad()\r\n",
        "\r\n",
        "  if (epoch%10==0):\r\n",
        "    print(l)\r\n",
        "  "
      ],
      "execution_count": null,
      "outputs": [
        {
          "output_type": "stream",
          "text": [
            "tensor(0.6294, grad_fn=<BinaryCrossEntropyBackward>)\n",
            "tensor(0.5163, grad_fn=<BinaryCrossEntropyBackward>)\n",
            "tensor(0.4333, grad_fn=<BinaryCrossEntropyBackward>)\n",
            "tensor(0.3711, grad_fn=<BinaryCrossEntropyBackward>)\n",
            "tensor(0.3235, grad_fn=<BinaryCrossEntropyBackward>)\n",
            "tensor(0.2863, grad_fn=<BinaryCrossEntropyBackward>)\n",
            "tensor(0.2565, grad_fn=<BinaryCrossEntropyBackward>)\n",
            "tensor(0.2323, grad_fn=<BinaryCrossEntropyBackward>)\n",
            "tensor(0.2123, grad_fn=<BinaryCrossEntropyBackward>)\n",
            "tensor(0.1955, grad_fn=<BinaryCrossEntropyBackward>)\n"
          ],
          "name": "stdout"
        }
      ]
    },
    {
      "cell_type": "markdown",
      "metadata": {
        "id": "mr5HlrWYHafK"
      },
      "source": [
        "## Step 5 - Test and Plotting"
      ]
    },
    {
      "cell_type": "code",
      "metadata": {
        "colab": {
          "base_uri": "https://localhost:8080/"
        },
        "id": "2jCW8kgjHibD",
        "outputId": "af54aee8-ce9f-47b1-a610-0999dbe708e6"
      },
      "source": [
        "# We predict the x_test things and since the sigmoid function gives a vale between 0 and 1, we round it off to get the desired classes\r\n",
        "with torch.no_grad():\r\n",
        "  y_pred = model(x_test)\r\n",
        "  y_predicted_classes = y_pred.round()\r\n",
        "\r\n",
        "# We print the actual classes and the predicted classes and see that the accuracy is 100% (due to small dataset)\r\n",
        "print(y_test)\r\n",
        "print(y_predicted_classes)"
      ],
      "execution_count": null,
      "outputs": [
        {
          "output_type": "stream",
          "text": [
            "tensor([[0.],\n",
            "        [1.],\n",
            "        [0.],\n",
            "        [1.],\n",
            "        [1.],\n",
            "        [1.],\n",
            "        [1.],\n",
            "        [0.],\n",
            "        [0.],\n",
            "        [0.],\n",
            "        [0.]])\n",
            "tensor([[0.],\n",
            "        [1.],\n",
            "        [0.],\n",
            "        [1.],\n",
            "        [1.],\n",
            "        [1.],\n",
            "        [1.],\n",
            "        [0.],\n",
            "        [0.],\n",
            "        [0.],\n",
            "        [0.]])\n"
          ],
          "name": "stdout"
        }
      ]
    },
    {
      "cell_type": "code",
      "metadata": {
        "colab": {
          "base_uri": "https://localhost:8080/"
        },
        "id": "sO-jcKSQPDI0",
        "outputId": "015259b1-ebe3-45d2-b481-a73ef0feb3f2"
      },
      "source": [
        "# We print the confusion matrix.\r\n",
        "# In confusion matrix, the values along the diagonal are correctly predicted and others are wrongly predicted, which in our case is 0.\r\n",
        "print(confusion_matrix(y_test,y_predicted_classes))"
      ],
      "execution_count": null,
      "outputs": [
        {
          "output_type": "stream",
          "text": [
            "[[6 0]\n",
            " [0 5]]\n"
          ],
          "name": "stdout"
        }
      ]
    }
  ]
}