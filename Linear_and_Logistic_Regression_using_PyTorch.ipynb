{
  "nbformat": 4,
  "nbformat_minor": 0,
  "metadata": {
    "colab": {
      "name": "Linear and Logistic Regression using PyTorch.ipynb",
      "provenance": [],
      "collapsed_sections": [],
      "toc_visible": true,
      "include_colab_link": true
    },
    "kernelspec": {
      "name": "python3",
      "display_name": "Python 3"
    }
  },
  "cells": [
    {
      "cell_type": "markdown",
      "metadata": {
        "id": "view-in-github",
        "colab_type": "text"
      },
      "source": [
        "<a href=\"https://colab.research.google.com/github/smlra-kjsce/Pytorch-101/blob/main/Linear_and_Logistic_Regression_using_PyTorch.ipynb\" target=\"_parent\"><img src=\"https://colab.research.google.com/assets/colab-badge.svg\" alt=\"Open In Colab\"/></a>"
      ]
    },
    {
      "cell_type": "code",
      "metadata": {
        "id": "GR57VDRKjGLX"
      },
      "source": [
        "# Importing necessary libraries\r\n",
        "\r\n",
        "import torch\r\n",
        "import torch.nn as nn\r\n",
        "import numpy as np\r\n",
        "from sklearn import datasets\r\n",
        "from sklearn.preprocessing import StandardScaler\r\n",
        "from sklearn.model_selection import train_test_split\r\n",
        "from sklearn.metrics import confusion_matrix\r\n",
        "import matplotlib.pyplot as plt"
      ],
      "execution_count": null,
      "outputs": []
    },
    {
      "cell_type": "markdown",
      "metadata": {
        "id": "TlhK-cQqoWgU"
      },
      "source": [
        "# Linear Regression \r\n"
      ]
    },
    {
      "cell_type": "markdown",
      "metadata": {
        "id": "FAansz0UrWOp"
      },
      "source": [
        "## Step 1 - Making Dataset"
      ]
    },
    {
      "cell_type": "code",
      "metadata": {
        "id": "pgtwp-hyk9ZV"
      },
      "source": [
        "# Making random dataset from sklearn.datsets\r\n",
        "x_np , y_np = datasets.make_regression(n_samples=100,n_features=1,noise=10,random_state=1)\r\n",
        "\r\n",
        "# Since the x_np and y_np are in numpy array form, we convert them to pytorch tensor\r\n",
        "x = torch.from_numpy(x_np.astype(np.float32))\r\n",
        "y = torch.from_numpy(y_np.astype(np.float32))"
      ],
      "execution_count": null,
      "outputs": []
    },
    {
      "cell_type": "code",
      "metadata": {
        "colab": {
          "base_uri": "https://localhost:8080/"
        },
        "id": "tDG48t3Bu2iU",
        "outputId": "636267a6-32d3-4c3a-c429-b3b7a0cb0c84"
      },
      "source": [
        "# We try to see the shape of the s and y tensor so that they are of valid dimension.\r\n",
        "\r\n",
        "print(x.shape)\r\n",
        "print(y.shape)"
      ],
      "execution_count": null,
      "outputs": [
        {
          "output_type": "stream",
          "text": [
            "torch.Size([100, 1])\n",
            "torch.Size([100])\n"
          ],
          "name": "stdout"
        }
      ]
    },
    {
      "cell_type": "markdown",
      "metadata": {
        "id": "5aZkp9umq3gE"
      },
      "source": [
        "We see that y is of shape [100] so we convert it to shape [100,1] so that we can easily feed it to the model. "
      ]
    },
    {
      "cell_type": "code",
      "metadata": {
        "colab": {
          "base_uri": "https://localhost:8080/"
        },
        "id": "ddOeupRfvdID",
        "outputId": "f676a4e5-191b-418f-9df9-2a41177f2d05"
      },
      "source": [
        "# We convert y of hsape 100 to (100,1) and see the shape \r\n",
        "\r\n",
        "y = y.view(y.shape[0],1)\r\n",
        "print(y.shape)"
      ],
      "execution_count": null,
      "outputs": [
        {
          "output_type": "stream",
          "text": [
            "torch.Size([100, 1])\n"
          ],
          "name": "stdout"
        }
      ]
    },
    {
      "cell_type": "markdown",
      "metadata": {
        "id": "wDRGJlBMrb90"
      },
      "source": [
        "## Step 2 - Designing Model\r\n"
      ]
    },
    {
      "cell_type": "code",
      "metadata": {
        "colab": {
          "base_uri": "https://localhost:8080/"
        },
        "id": "XnlDpd-xvlR0",
        "outputId": "9995d270-feb0-4336-dd58-9afc2d2aa5dd"
      },
      "source": [
        "# We try to understand the input and output size and make a model out of it\r\n",
        "\r\n",
        "# the no of featrues that each data-point has becomes out input size as any input will have that many values. \r\n",
        "# Eg. if no. of features is 2, we will have input of the form (a,b)\r\n",
        "no_of_samples, no_of_features = x.shape\r\n",
        "input_size = no_of_features\r\n",
        "\r\n",
        "# The ouput size will be the shape of each of the given y.\r\n",
        "output_size = y.shape[1]\r\n",
        "\r\n",
        "print(\"Input size is \" + str(input_size))\r\n",
        "print(\"Output size is \" + str(output_size))\r\n",
        "\r\n",
        "# We construct a linear model with the given input and output sizes\r\n",
        "model = nn.Linear(input_size,output_size)"
      ],
      "execution_count": null,
      "outputs": [
        {
          "output_type": "stream",
          "text": [
            "Input size is 1\n",
            "Output size is 1\n"
          ],
          "name": "stdout"
        }
      ]
    },
    {
      "cell_type": "markdown",
      "metadata": {
        "id": "0H54WX2hso-d"
      },
      "source": [
        "## Step 3 - Defining loss and optimizer "
      ]
    },
    {
      "cell_type": "code",
      "metadata": {
        "id": "qdqJAqhYwd6a"
      },
      "source": [
        "# Loss and Optimizer \r\n",
        "\r\n",
        "learning_rate = 0.01 \r\n",
        "epochs = 1000\r\n",
        "\r\n",
        "# We take the standard mean squared loss\r\n",
        "model_loss = nn.MSELoss()\r\n",
        "\r\n",
        "# We take the SGD (Stochastic Gradient Descent) \r\n",
        "optimizer = torch.optim.SGD(model.parameters(),lr=learning_rate)"
      ],
      "execution_count": null,
      "outputs": []
    },
    {
      "cell_type": "markdown",
      "metadata": {
        "id": "S4TfOtqCs53e"
      },
      "source": [
        "## Step 4 - Training Loop"
      ]
    },
    {
      "cell_type": "code",
      "metadata": {
        "colab": {
          "base_uri": "https://localhost:8080/"
        },
        "id": "S382rx0xxmQD",
        "outputId": "ab074f3c-4b6d-4873-af5a-7ba5b01ace02"
      },
      "source": [
        "# Here we take all the components together and put them in a training loop.\r\n",
        "\r\n",
        "for epoch in range(epochs):\r\n",
        "  # Forward pass\r\n",
        "  y_hat = model(x)\r\n",
        "  loss = model_loss(y_hat,y)\r\n",
        "\r\n",
        "  # Backward pass\r\n",
        "  loss.backward()\r\n",
        "\r\n",
        "  # Update weights\r\n",
        "  optimizer.step()\r\n",
        "  optimizer.zero_grad()\r\n",
        "\r\n",
        "  # Printing it at every 10 epochs\r\n",
        "  if (epoch%10 == 0):\r\n",
        "    print(\"Epoch \" + str(epoch))\r\n",
        "    print(\"Loss \" + str(loss.item()))\r\n"
      ],
      "execution_count": null,
      "outputs": [
        {
          "output_type": "stream",
          "text": [
            "Epoch 0\n",
            "Loss 5270.48876953125\n",
            "Epoch 10\n",
            "Loss 3848.965087890625\n",
            "Epoch 20\n",
            "Loss 2819.220947265625\n",
            "Epoch 30\n",
            "Loss 2072.54833984375\n",
            "Epoch 40\n",
            "Loss 1530.6400146484375\n",
            "Epoch 50\n",
            "Loss 1137.0137939453125\n",
            "Epoch 60\n",
            "Loss 850.8743896484375\n",
            "Epoch 70\n",
            "Loss 642.7232666015625\n",
            "Epoch 80\n",
            "Loss 491.2056579589844\n",
            "Epoch 90\n",
            "Loss 380.8469543457031\n",
            "Epoch 100\n",
            "Loss 300.4223327636719\n",
            "Epoch 110\n",
            "Loss 241.7830810546875\n",
            "Epoch 120\n",
            "Loss 199.00839233398438\n",
            "Epoch 130\n",
            "Loss 167.79331970214844\n",
            "Epoch 140\n",
            "Loss 145.00518798828125\n",
            "Epoch 150\n",
            "Loss 128.36312866210938\n",
            "Epoch 160\n",
            "Loss 116.2055892944336\n",
            "Epoch 170\n",
            "Loss 107.32167053222656\n",
            "Epoch 180\n",
            "Loss 100.82832336425781\n",
            "Epoch 190\n",
            "Loss 96.0808334350586\n",
            "Epoch 200\n",
            "Loss 92.60924530029297\n",
            "Epoch 210\n",
            "Loss 90.070068359375\n",
            "Epoch 220\n",
            "Loss 88.21258544921875\n",
            "Epoch 230\n",
            "Loss 86.85357666015625\n",
            "Epoch 240\n",
            "Loss 85.85906219482422\n",
            "Epoch 250\n",
            "Loss 85.13121032714844\n",
            "Epoch 260\n",
            "Loss 84.59845733642578\n",
            "Epoch 270\n",
            "Loss 84.20848846435547\n",
            "Epoch 280\n",
            "Loss 83.92294311523438\n",
            "Epoch 290\n",
            "Loss 83.71387481689453\n",
            "Epoch 300\n",
            "Loss 83.5608139038086\n",
            "Epoch 310\n",
            "Loss 83.44872283935547\n",
            "Epoch 320\n",
            "Loss 83.36663818359375\n",
            "Epoch 330\n",
            "Loss 83.30653381347656\n",
            "Epoch 340\n",
            "Loss 83.26251220703125\n",
            "Epoch 350\n",
            "Loss 83.23023223876953\n",
            "Epoch 360\n",
            "Loss 83.20661926269531\n",
            "Epoch 370\n",
            "Loss 83.18931579589844\n",
            "Epoch 380\n",
            "Loss 83.17664337158203\n",
            "Epoch 390\n",
            "Loss 83.16734313964844\n",
            "Epoch 400\n",
            "Loss 83.16053771972656\n",
            "Epoch 410\n",
            "Loss 83.15554809570312\n",
            "Epoch 420\n",
            "Loss 83.15190124511719\n",
            "Epoch 430\n",
            "Loss 83.14920806884766\n",
            "Epoch 440\n",
            "Loss 83.14725494384766\n",
            "Epoch 450\n",
            "Loss 83.14582061767578\n",
            "Epoch 460\n",
            "Loss 83.144775390625\n",
            "Epoch 470\n",
            "Loss 83.14400482177734\n",
            "Epoch 480\n",
            "Loss 83.14342498779297\n",
            "Epoch 490\n",
            "Loss 83.14302825927734\n",
            "Epoch 500\n",
            "Loss 83.1427230834961\n",
            "Epoch 510\n",
            "Loss 83.14250183105469\n",
            "Epoch 520\n",
            "Loss 83.142333984375\n",
            "Epoch 530\n",
            "Loss 83.14222717285156\n",
            "Epoch 540\n",
            "Loss 83.14212036132812\n",
            "Epoch 550\n",
            "Loss 83.1420669555664\n",
            "Epoch 560\n",
            "Loss 83.14202117919922\n",
            "Epoch 570\n",
            "Loss 83.1419906616211\n",
            "Epoch 580\n",
            "Loss 83.14196014404297\n",
            "Epoch 590\n",
            "Loss 83.14193725585938\n",
            "Epoch 600\n",
            "Loss 83.14192199707031\n",
            "Epoch 610\n",
            "Loss 83.14192199707031\n",
            "Epoch 620\n",
            "Loss 83.14190673828125\n",
            "Epoch 630\n",
            "Loss 83.14190673828125\n",
            "Epoch 640\n",
            "Loss 83.14189147949219\n",
            "Epoch 650\n",
            "Loss 83.14189147949219\n",
            "Epoch 660\n",
            "Loss 83.14189147949219\n",
            "Epoch 670\n",
            "Loss 83.14189147949219\n",
            "Epoch 680\n",
            "Loss 83.14189147949219\n",
            "Epoch 690\n",
            "Loss 83.14189147949219\n",
            "Epoch 700\n",
            "Loss 83.14189147949219\n",
            "Epoch 710\n",
            "Loss 83.14188385009766\n",
            "Epoch 720\n",
            "Loss 83.14189147949219\n",
            "Epoch 730\n",
            "Loss 83.14188385009766\n",
            "Epoch 740\n",
            "Loss 83.14189147949219\n",
            "Epoch 750\n",
            "Loss 83.14189147949219\n",
            "Epoch 760\n",
            "Loss 83.14189147949219\n",
            "Epoch 770\n",
            "Loss 83.14189147949219\n",
            "Epoch 780\n",
            "Loss 83.14188385009766\n",
            "Epoch 790\n",
            "Loss 83.14188385009766\n",
            "Epoch 800\n",
            "Loss 83.14189147949219\n",
            "Epoch 810\n",
            "Loss 83.14189147949219\n",
            "Epoch 820\n",
            "Loss 83.14189147949219\n",
            "Epoch 830\n",
            "Loss 83.14189147949219\n",
            "Epoch 840\n",
            "Loss 83.14189147949219\n",
            "Epoch 850\n",
            "Loss 83.14188385009766\n",
            "Epoch 860\n",
            "Loss 83.14188385009766\n",
            "Epoch 870\n",
            "Loss 83.14188385009766\n",
            "Epoch 880\n",
            "Loss 83.14189147949219\n",
            "Epoch 890\n",
            "Loss 83.14189147949219\n",
            "Epoch 900\n",
            "Loss 83.14189147949219\n",
            "Epoch 910\n",
            "Loss 83.14188385009766\n",
            "Epoch 920\n",
            "Loss 83.14189147949219\n",
            "Epoch 930\n",
            "Loss 83.14189147949219\n",
            "Epoch 940\n",
            "Loss 83.14189147949219\n",
            "Epoch 950\n",
            "Loss 83.14189147949219\n",
            "Epoch 960\n",
            "Loss 83.14189147949219\n",
            "Epoch 970\n",
            "Loss 83.14189147949219\n",
            "Epoch 980\n",
            "Loss 83.14189147949219\n",
            "Epoch 990\n",
            "Loss 83.14189147949219\n"
          ],
          "name": "stdout"
        }
      ]
    },
    {
      "cell_type": "markdown",
      "metadata": {
        "id": "U9z9R8yqtSGJ"
      },
      "source": [
        "## Step 5 - Plot the graph"
      ]
    },
    {
      "cell_type": "code",
      "metadata": {
        "colab": {
          "base_uri": "https://localhost:8080/",
          "height": 265
        },
        "id": "ne71GSJoyyty",
        "outputId": "7b9a9a39-07f5-4161-fb1e-21c30b441260"
      },
      "source": [
        "# We first unwrap the predictions into a array named y_predicted\r\n",
        "y_predicted = model(x).detach().numpy()\r\n",
        "\r\n",
        "# We plot the original points\r\n",
        "plt.scatter(x_np,y_np,color=\"red\")\r\n",
        "\r\n",
        "# We plot the predictions \r\n",
        "plt.plot(x_np,y_predicted,color=\"blue\")\r\n",
        "plt.show()"
      ],
      "execution_count": null,
      "outputs": [
        {
          "output_type": "display_data",
          "data": {
            "image/png": "[encoded data removed]",
            "text/plain": [
              "<Figure size 432x288 with 1 Axes>"
            ]
          },
          "metadata": {
            "tags": [],
            "needs_background": "light"
          }
        }
      ]
    },
    {
      "cell_type": "markdown",
      "metadata": {
        "id": "pN9THn8CwiHw"
      },
      "source": [
        "# Logistic Regression"
      ]
    },
    {
      "cell_type": "markdown",
      "metadata": {
        "id": "mHQ-vqpMsW1M"
      },
      "source": [
        "## Step 1 - Data Pre-processing "
      ]
    },
    {
      "cell_type": "code",
      "metadata": {
        "id": "gt687BC8zRLt",
        "colab": {
          "base_uri": "https://localhost:8080/"
        },
        "outputId": "188103e8-6fbb-413c-efd2-dec2f4f69b58"
      },
      "source": [
        "data = datasets.load_wine()\r\n",
        "\r\n",
        "print(data)"
      ],
      "execution_count": null,
      "outputs": [
        {
          "output_type": "stream",
          "text": [
            "{'data': array([[1.423e+01, 1.710e+00, 2.430e+00, ..., 1.040e+00, 3.920e+00,\n",
            "        1.065e+03],\n",
            "       [1.320e+01, 1.780e+00, 2.140e+00, ..., 1.050e+00, 3.400e+00,\n",
            "        1.050e+03],\n",
            "       [1.316e+01, 2.360e+00, 2.670e+00, ..., 1.030e+00, 3.170e+00,\n",
            "        1.185e+03],\n",
            "       ...,\n",
            "       [1.327e+01, 4.280e+00, 2.260e+00, ..., 5.900e-01, 1.560e+00,\n",
            "        8.350e+02],\n",
            "       [1.317e+01, 2.590e+00, 2.370e+00, ..., 6.000e-01, 1.620e+00,\n",
            "        8.400e+02],\n",
            "       [1.413e+01, 4.100e+00, 2.740e+00, ..., 6.100e-01, 1.600e+00,\n",
            "        5.600e+02]]), 'target': array([0, 0, 0, 0, 0, 0, 0, 0, 0, 0, 0, 0, 0, 0, 0, 0, 0, 0, 0, 0, 0, 0,\n",
            "       0, 0, 0, 0, 0, 0, 0, 0, 0, 0, 0, 0, 0, 0, 0, 0, 0, 0, 0, 0, 0, 0,\n",
            "       0, 0, 0, 0, 0, 0, 0, 0, 0, 0, 0, 0, 0, 0, 0, 1, 1, 1, 1, 1, 1, 1,\n",
            "       1, 1, 1, 1, 1, 1, 1, 1, 1, 1, 1, 1, 1, 1, 1, 1, 1, 1, 1, 1, 1, 1,\n",
            "       1, 1, 1, 1, 1, 1, 1, 1, 1, 1, 1, 1, 1, 1, 1, 1, 1, 1, 1, 1, 1, 1,\n",
            "       1, 1, 1, 1, 1, 1, 1, 1, 1, 1, 1, 1, 1, 1, 1, 1, 1, 1, 1, 1, 2, 2,\n",
            "       2, 2, 2, 2, 2, 2, 2, 2, 2, 2, 2, 2, 2, 2, 2, 2, 2, 2, 2, 2, 2, 2,\n",
            "       2, 2, 2, 2, 2, 2, 2, 2, 2, 2, 2, 2, 2, 2, 2, 2, 2, 2, 2, 2, 2, 2,\n",
            "       2, 2]), 'target_names': array(['class_0', 'class_1', 'class_2'], dtype='<U7'), 'DESCR': '.. _wine_dataset:\\n\\nWine recognition dataset\\n------------------------\\n\\n**Data Set Characteristics:**\\n\\n    :Number of Instances: 178 (50 in each of three classes)\\n    :Number of Attributes: 13 numeric, predictive attributes and the class\\n    :Attribute Information:\\n \\t\\t- Alcohol\\n \\t\\t- Malic acid\\n \\t\\t- Ash\\n\\t\\t- Alcalinity of ash  \\n \\t\\t- Magnesium\\n\\t\\t- Total phenols\\n \\t\\t- Flavanoids\\n \\t\\t- Nonflavanoid phenols\\n \\t\\t- Proanthocyanins\\n\\t\\t- Color intensity\\n \\t\\t- Hue\\n \\t\\t- OD280/OD315 of diluted wines\\n \\t\\t- Proline\\n\\n    - class:\\n            - class_0\\n            - class_1\\n            - class_2\\n\\t\\t\\n    :Summary Statistics:\\n    \\n    ============================= ==== ===== ======= =====\\n                                   Min   Max   Mean     SD\\n    ============================= ==== ===== ======= =====\\n    Alcohol:                      11.0  14.8    13.0   0.8\\n    Malic Acid:                   0.74  5.80    2.34  1.12\\n    Ash:                          1.36  3.23    2.36  0.27\\n    Alcalinity of Ash:            10.6  30.0    19.5   3.3\\n    Magnesium:                    70.0 162.0    99.7  14.3\\n    Total Phenols:                0.98  3.88    2.29  0.63\\n    Flavanoids:                   0.34  5.08    2.03  1.00\\n    Nonflavanoid Phenols:         0.13  0.66    0.36  0.12\\n    Proanthocyanins:              0.41  3.58    1.59  0.57\\n    Colour Intensity:              1.3  13.0     5.1   2.3\\n    Hue:                          0.48  1.71    0.96  0.23\\n    OD280/OD315 of diluted wines: 1.27  4.00    2.61  0.71\\n    Proline:                       278  1680     746   315\\n    ============================= ==== ===== ======= =====\\n\\n    :Missing Attribute Values: None\\n    :Class Distribution: class_0 (59), class_1 (71), class_2 (48)\\n    :Creator: R.A. Fisher\\n    :Donor: Michael Marshall (MARSHALL%PLU@io.arc.nasa.gov)\\n    :Date: July, 1988\\n\\nThis is a copy of UCI ML Wine recognition datasets.\\nhttps://archive.ics.uci.edu/ml/machine-learning-databases/wine/wine.data\\n\\nThe data is the results of a chemical analysis of wines grown in the same\\nregion in Italy by three different cultivators. There are thirteen different\\nmeasurements taken for different constituents found in the three types of\\nwine.\\n\\nOriginal Owners: \\n\\nForina, M. et al, PARVUS - \\nAn Extendible Package for Data Exploration, Classification and Correlation. \\nInstitute of Pharmaceutical and Food Analysis and Technologies,\\nVia Brigata Salerno, 16147 Genoa, Italy.\\n\\nCitation:\\n\\nLichman, M. (2013). UCI Machine Learning Repository\\n[https://archive.ics.uci.edu/ml]. Irvine, CA: University of California,\\nSchool of Information and Computer Science. \\n\\n.. topic:: References\\n\\n  (1) S. Aeberhard, D. Coomans and O. de Vel, \\n  Comparison of Classifiers in High Dimensional Settings, \\n  Tech. Rep. no. 92-02, (1992), Dept. of Computer Science and Dept. of  \\n  Mathematics and Statistics, James Cook University of North Queensland. \\n  (Also submitted to Technometrics). \\n\\n  The data was used with many others for comparing various \\n  classifiers. The classes are separable, though only RDA \\n  has achieved 100% correct classification. \\n  (RDA : 100%, QDA 99.4%, LDA 98.9%, 1NN 96.1% (z-transformed data)) \\n  (All results using the leave-one-out technique) \\n\\n  (2) S. Aeberhard, D. Coomans and O. de Vel, \\n  \"THE CLASSIFICATION PERFORMANCE OF RDA\" \\n  Tech. Rep. no. 92-01, (1992), Dept. of Computer Science and Dept. of \\n  Mathematics and Statistics, James Cook University of North Queensland. \\n  (Also submitted to Journal of Chemometrics).\\n', 'feature_names': ['alcohol', 'malic_acid', 'ash', 'alcalinity_of_ash', 'magnesium', 'total_phenols', 'flavanoids', 'nonflavanoid_phenols', 'proanthocyanins', 'color_intensity', 'hue', 'od280/od315_of_diluted_wines', 'proline']}\n"
          ],
          "name": "stdout"
        }
      ]
    },
    {
      "cell_type": "code",
      "metadata": {
        "colab": {
          "base_uri": "https://localhost:8080/"
        },
        "id": "DeulQ6wsnLJO",
        "outputId": "d89c55a9-4765-4e99-81df-845af0329404"
      },
      "source": [
        "# We try to understand the size of out dataset\r\n",
        "\r\n",
        "# We first load the data and target\r\n",
        "x,y = data.data, data.target\r\n",
        "\r\n",
        "# We find the no. of features and data-points\r\n",
        "no_of_samples, no_of_features = x.shape\r\n",
        "print(x.shape)\r\n",
        "print(y.shape)"
      ],
      "execution_count": null,
      "outputs": [
        {
          "output_type": "stream",
          "text": [
            "(178, 13)\n",
            "(178,)\n"
          ],
          "name": "stdout"
        }
      ]
    },
    {
      "cell_type": "markdown",
      "metadata": {
        "id": "z71ssHfSoDgD"
      },
      "source": [
        "We can see that there are 178 datapoints having 13 features each. Since y is of zero dimesnions, we rehshape it to (178,1)"
      ]
    },
    {
      "cell_type": "code",
      "metadata": {
        "colab": {
          "base_uri": "https://localhost:8080/"
        },
        "id": "SoqYvIgUq6TL",
        "outputId": "c9aa4c6f-4d34-4f64-bf38-1c08a3efc9fb"
      },
      "source": [
        "y = y.reshape(y.shape[0],1)\r\n",
        "print(y.shape)"
      ],
      "execution_count": null,
      "outputs": [
        {
          "output_type": "stream",
          "text": [
            "(178, 1)\n"
          ],
          "name": "stdout"
        }
      ]
    },
    {
      "cell_type": "markdown",
      "metadata": {
        "id": "XSBUzolAP8Kf"
      },
      "source": [
        "We see that our dataset contains 3 different values of 'y', 0,1 and 2. This will create a problem as logistic regression works well with only binary classification. So, we remove the data points having class '1' and rename the class '2' as class '1'  "
      ]
    },
    {
      "cell_type": "code",
      "metadata": {
        "colab": {
          "base_uri": "https://localhost:8080/"
        },
        "id": "66uDYVQbcmM1",
        "outputId": "1269350d-099a-4512-bde9-376a14a6e8cc"
      },
      "source": [
        "# We create an empty list consisting of all the indices that need to be deleted, i.e. all indices having y value as 1\r\n",
        "to_be_deleted = []\r\n",
        "\r\n",
        "# In the for loop, we append the indices having y=1 to the above list 'to_be_deleted' and replce those with y=2 as y=1\r\n",
        "for i in range (len(y)):\r\n",
        "  if y[i]==1:\r\n",
        "    to_be_deleted.append(i)\r\n",
        "  if y[i]==2:\r\n",
        "    y[i]=1\r\n",
        "\r\n",
        "# We delete the indices present in to_be_deleted from x and y using np.delete\r\n",
        "# Note that axis=0 means rowwise deletion and axis=1 means column wise\r\n",
        "x = np.delete(x,to_be_deleted,axis=0)\r\n",
        "y = np.delete(y,to_be_deleted,axis=0)\r\n",
        "print(y)"
      ],
      "execution_count": null,
      "outputs": [
        {
          "output_type": "stream",
          "text": [
            "[[0]\n",
            " [0]\n",
            " [0]\n",
            " [0]\n",
            " [0]\n",
            " [0]\n",
            " [0]\n",
            " [0]\n",
            " [0]\n",
            " [0]\n",
            " [0]\n",
            " [0]\n",
            " [0]\n",
            " [0]\n",
            " [0]\n",
            " [0]\n",
            " [0]\n",
            " [0]\n",
            " [0]\n",
            " [0]\n",
            " [0]\n",
            " [0]\n",
            " [0]\n",
            " [0]\n",
            " [0]\n",
            " [0]\n",
            " [0]\n",
            " [0]\n",
            " [0]\n",
            " [0]\n",
            " [0]\n",
            " [0]\n",
            " [0]\n",
            " [0]\n",
            " [0]\n",
            " [0]\n",
            " [0]\n",
            " [0]\n",
            " [0]\n",
            " [0]\n",
            " [0]\n",
            " [0]\n",
            " [0]\n",
            " [0]\n",
            " [0]\n",
            " [0]\n",
            " [0]\n",
            " [0]\n",
            " [0]\n",
            " [0]\n",
            " [0]\n",
            " [0]\n",
            " [0]\n",
            " [0]\n",
            " [0]\n",
            " [0]\n",
            " [0]\n",
            " [0]\n",
            " [0]\n",
            " [1]\n",
            " [1]\n",
            " [1]\n",
            " [1]\n",
            " [1]\n",
            " [1]\n",
            " [1]\n",
            " [1]\n",
            " [1]\n",
            " [1]\n",
            " [1]\n",
            " [1]\n",
            " [1]\n",
            " [1]\n",
            " [1]\n",
            " [1]\n",
            " [1]\n",
            " [1]\n",
            " [1]\n",
            " [1]\n",
            " [1]\n",
            " [1]\n",
            " [1]\n",
            " [1]\n",
            " [1]\n",
            " [1]\n",
            " [1]\n",
            " [1]\n",
            " [1]\n",
            " [1]\n",
            " [1]\n",
            " [1]\n",
            " [1]\n",
            " [1]\n",
            " [1]\n",
            " [1]\n",
            " [1]\n",
            " [1]\n",
            " [1]\n",
            " [1]\n",
            " [1]\n",
            " [1]\n",
            " [1]\n",
            " [1]\n",
            " [1]\n",
            " [1]\n",
            " [1]\n",
            " [1]]\n"
          ],
          "name": "stdout"
        }
      ]
    },
    {
      "cell_type": "code",
      "metadata": {
        "colab": {
          "base_uri": "https://localhost:8080/"
        },
        "id": "x6qZdUDmuRPn",
        "outputId": "658e5ad7-3d34-4da1-d0d2-e8e79974dab9"
      },
      "source": [
        "print(y.shape)\r\n",
        "print(x.shape)"
      ],
      "execution_count": null,
      "outputs": [
        {
          "output_type": "stream",
          "text": [
            "(107, 1)\n",
            "(107, 13)\n"
          ],
          "name": "stdout"
        }
      ]
    },
    {
      "cell_type": "code",
      "metadata": {
        "colab": {
          "base_uri": "https://localhost:8080/"
        },
        "id": "y6Sdz1yEnstQ",
        "outputId": "46fa8765-9fd8-48ce-d450-6ee2a5fee125"
      },
      "source": [
        "# We split the dataset into training and testing with the help of sklearn library\r\n",
        "\r\n",
        "# Note: Do not change the order of x_train,x_test,t_train,y_test as the function returns it in that order itself\r\n",
        "x_train, x_test, y_train, y_test = train_test_split(x,y,test_size=0.1)\r\n",
        "\r\n",
        "print(x_train.shape)\r\n",
        "print(x_test.shape)\r\n",
        "print(y_train.shape)\r\n",
        "print(y_test.shape)"
      ],
      "execution_count": null,
      "outputs": [
        {
          "output_type": "stream",
          "text": [
            "(96, 13)\n",
            "(11, 13)\n",
            "(96, 1)\n",
            "(11, 1)\n"
          ],
          "name": "stdout"
        }
      ]
    },
    {
      "cell_type": "markdown",
      "metadata": {
        "id": "lMp1i7BCqIX2"
      },
      "source": [
        "Since we are dealing with logistic regression, it is recommened to scale our data. We use standard scaler which will scale the data such that the mean of the data points is zero and the standard deviation is one. "
      ]
    },
    {
      "cell_type": "code",
      "metadata": {
        "id": "8IY8sOcPpfwl"
      },
      "source": [
        "sc = StandardScaler()\r\n",
        "x_train = sc.fit_transform(x_train)\r\n",
        "x_test = sc.fit_transform(x_test)"
      ],
      "execution_count": null,
      "outputs": []
    },
    {
      "cell_type": "code",
      "metadata": {
        "colab": {
          "base_uri": "https://localhost:8080/"
        },
        "id": "Up2Qd5fzre_j",
        "outputId": "f4e51eef-f504-4469-a0f9-effe2d8c90af"
      },
      "source": [
        "# Having completed the preprocessing, we convert the numpy arrays to torch tensors so that we can use pytorch models. \r\n",
        "\r\n",
        "x_train = torch.from_numpy(x_train.astype(np.float32))\r\n",
        "x_test = torch.from_numpy(x_test.astype(np.float32))\r\n",
        "y_train = torch.from_numpy(y_train.astype(np.float32))\r\n",
        "y_test = torch.from_numpy(y_test.astype(np.float32))\r\n",
        "\r\n",
        "print(y_test.shape)"
      ],
      "execution_count": null,
      "outputs": [
        {
          "output_type": "stream",
          "text": [
            "torch.Size([11, 1])\n"
          ],
          "name": "stdout"
        }
      ]
    },
    {
      "cell_type": "markdown",
      "metadata": {
        "id": "7zCKX-9zsb0F"
      },
      "source": [
        "## Step 2 - Model\r\n",
        "\r\n",
        "Logistic Regression is essentially Linear regression with a sigmoid layer in it. "
      ]
    },
    {
      "cell_type": "markdown",
      "metadata": {
        "id": "UJmdt-V4xCkp"
      },
      "source": [
        "Before diving in t the model, lets understand the __ init __ and self used exensively in pytorch models. \r\n"
      ]
    },
    {
      "cell_type": "code",
      "metadata": {
        "colab": {
          "base_uri": "https://localhost:8080/"
        },
        "id": "6VoL850FwEc8",
        "outputId": "50b9406c-4ec1-494a-9524-b373cecfbffe"
      },
      "source": [
        "# We define a class named smlra and the __init__ function in it.  \r\n",
        "class smlra(object):\r\n",
        "  x = 100\r\n",
        "  def __init__(self):\r\n",
        "    self.x = 200\r\n",
        "\r\n",
        "# We import the class variables directly without initializing the class\r\n",
        "print(smlra.x)\r\n",
        "\r\n",
        "# When the object of the class is created i.e., here A is object and smlra is the class, then __init__ gets automatically called\r\n",
        "# __init__ is similar to class constructors in other object oriented programming languages\r\n",
        "A = smlra()\r\n",
        "print(A.x)\r\n",
        "\r\n",
        "# self is a hidden parameter which is passed evrytime the methods of the object are called.\r\n",
        "# In other programming languages, self is automatically passed, while in python, we have to declare it. "
      ],
      "execution_count": null,
      "outputs": [
        {
          "output_type": "stream",
          "text": [
            "100\n",
            "200\n"
          ],
          "name": "stdout"
        }
      ]
    },
    {
      "cell_type": "code",
      "metadata": {
        "id": "94532jSfsS9C"
      },
      "source": [
        "# We define our logistic regression class here\r\n",
        "\r\n",
        "class LogisticRegression(nn.Module): \r\n",
        "\r\n",
        "  # __init__ method of our LogisticRegression class is the simple linear regression layer \r\n",
        "  def __init__(self,no_of_input_features):\r\n",
        "    super(LogisticRegression, self).__init__()\r\n",
        "    self.linear = nn.Linear(no_of_input_features,1)              #This is because the output size is 1 (essentially between 0 and 1 as it is Logistic)\r\n",
        "  \r\n",
        "  # The forward method of our LogisticRegression class is built on the top of __init__ and is essentailly applies sigmoid layer on the linear layer\r\n",
        "  def forward(self,x):\r\n",
        "    y_predicted = torch.sigmoid(self.linear(x))\r\n",
        "    return y_predicted"
      ],
      "execution_count": null,
      "outputs": []
    },
    {
      "cell_type": "code",
      "metadata": {
        "id": "9BYFPCVl0G-j"
      },
      "source": [
        "model = LogisticRegression(no_of_features)"
      ],
      "execution_count": null,
      "outputs": []
    },
    {
      "cell_type": "markdown",
      "metadata": {
        "id": "S9H3V2rAD-w_"
      },
      "source": [
        "## Step 3 - Optimizer and Loss"
      ]
    },
    {
      "cell_type": "markdown",
      "metadata": {
        "id": "s4EuP_dKEFGe"
      },
      "source": [
        "Since it is a logistic regression, we take the binary cross-entropy loss for back-propagation "
      ]
    },
    {
      "cell_type": "code",
      "metadata": {
        "id": "k6ejogio0Qpp"
      },
      "source": [
        "# We first define the learning rate and the number of epochs\r\n",
        "learning_rate = 0.01\r\n",
        "epochs = 100\r\n",
        "\r\n",
        "# We then define the loss and the optimizer function\r\n",
        "loss = nn.BCELoss()\r\n",
        "optimizer = torch.optim.SGD(model.parameters(), lr=learning_rate)"
      ],
      "execution_count": null,
      "outputs": []
    },
    {
      "cell_type": "markdown",
      "metadata": {
        "id": "0c59Czt8Eu1g"
      },
      "source": [
        "## Step 4 - Training"
      ]
    },
    {
      "cell_type": "code",
      "metadata": {
        "colab": {
          "base_uri": "https://localhost:8080/"
        },
        "id": "2GGn_EvREuHk",
        "outputId": "62a93051-c1c0-4eef-ad4a-3e0f3af853fb"
      },
      "source": [
        "for epoch in range(epochs):\r\n",
        "\r\n",
        "  # Forward pass\r\n",
        "  y_predicted = model(x_train)\r\n",
        "\r\n",
        "  # Backward pass\r\n",
        "  l = loss(y_predicted,y_train)\r\n",
        "  l.backward()\r\n",
        "\r\n",
        "  # Weights updated\r\n",
        "  optimizer.step()\r\n",
        "  optimizer.zero_grad()\r\n",
        "\r\n",
        "  if (epoch%10==0):\r\n",
        "    print(l)\r\n",
        "  "
      ],
      "execution_count": null,
      "outputs": [
        {
          "output_type": "stream",
          "text": [
            "tensor(0.6294, grad_fn=<BinaryCrossEntropyBackward>)\n",
            "tensor(0.5163, grad_fn=<BinaryCrossEntropyBackward>)\n",
            "tensor(0.4333, grad_fn=<BinaryCrossEntropyBackward>)\n",
            "tensor(0.3711, grad_fn=<BinaryCrossEntropyBackward>)\n",
            "tensor(0.3235, grad_fn=<BinaryCrossEntropyBackward>)\n",
            "tensor(0.2863, grad_fn=<BinaryCrossEntropyBackward>)\n",
            "tensor(0.2565, grad_fn=<BinaryCrossEntropyBackward>)\n",
            "tensor(0.2323, grad_fn=<BinaryCrossEntropyBackward>)\n",
            "tensor(0.2123, grad_fn=<BinaryCrossEntropyBackward>)\n",
            "tensor(0.1955, grad_fn=<BinaryCrossEntropyBackward>)\n"
          ],
          "name": "stdout"
        }
      ]
    },
    {
      "cell_type": "markdown",
      "metadata": {
        "id": "mr5HlrWYHafK"
      },
      "source": [
        "## Step 5 - Test and Plotting"
      ]
    },
    {
      "cell_type": "code",
      "metadata": {
        "colab": {
          "base_uri": "https://localhost:8080/"
        },
        "id": "2jCW8kgjHibD",
        "outputId": "af54aee8-ce9f-47b1-a610-0999dbe708e6"
      },
      "source": [
        "# We predict the x_test things and since the sigmoid function gives a vale between 0 and 1, we round it off to get the desired classes\r\n",
        "with torch.no_grad():\r\n",
        "  y_pred = model(x_test)\r\n",
        "  y_predicted_classes = y_pred.round()\r\n",
        "\r\n",
        "# We print the actual classes and the predicted classes and see that the accuracy is 100% (due to small dataset)\r\n",
        "print(y_test)\r\n",
        "print(y_predicted_classes)"
      ],
      "execution_count": null,
      "outputs": [
        {
          "output_type": "stream",
          "text": [
            "tensor([[0.],\n",
            "        [1.],\n",
            "        [0.],\n",
            "        [1.],\n",
            "        [1.],\n",
            "        [1.],\n",
            "        [1.],\n",
            "        [0.],\n",
            "        [0.],\n",
            "        [0.],\n",
            "        [0.]])\n",
            "tensor([[0.],\n",
            "        [1.],\n",
            "        [0.],\n",
            "        [1.],\n",
            "        [1.],\n",
            "        [1.],\n",
            "        [1.],\n",
            "        [0.],\n",
            "        [0.],\n",
            "        [0.],\n",
            "        [0.]])\n"
          ],
          "name": "stdout"
        }
      ]
    },
    {
      "cell_type": "code",
      "metadata": {
        "colab": {
          "base_uri": "https://localhost:8080/"
        },
        "id": "sO-jcKSQPDI0",
        "outputId": "015259b1-ebe3-45d2-b481-a73ef0feb3f2"
      },
      "source": [
        "# We print the confusion matrix.\r\n",
        "# In confusion matrix, the values along the diagonal are correctly predicted and others are wrongly predicted, which in our case is 0.\r\n",
        "print(confusion_matrix(y_test,y_predicted_classes))"
      ],
      "execution_count": null,
      "outputs": [
        {
          "output_type": "stream",
          "text": [
            "[[6 0]\n",
            " [0 5]]\n"
          ],
          "name": "stdout"
        }
      ]
    }
  ]
}