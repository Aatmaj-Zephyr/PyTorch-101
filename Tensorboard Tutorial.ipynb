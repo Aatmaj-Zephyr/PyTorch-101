{
  "nbformat": 4,
  "nbformat_minor": 0,
  "metadata": {
    "colab": {
      "name": "Tensorboard_Tutorial.ipynb",
      "provenance": [],
      "collapsed_sections": [
        "aQVw5e8gKpKI"
      ],
      "include_colab_link": true
    },
    "kernelspec": {
      "name": "python3",
      "display_name": "Python 3"
    },
    "widgets": {
      "application/vnd.jupyter.widget-state+json": {
        "3cad51b1b7464c93a5c9ccb71e75616f": {
          "model_module": "@jupyter-widgets/controls",
          "model_name": "HBoxModel",
          "state": {
            "_view_name": "HBoxView",
            "_dom_classes": [],
            "_model_name": "HBoxModel",
            "_view_module": "@jupyter-widgets/controls",
            "_model_module_version": "1.5.0",
            "_view_count": null,
            "_view_module_version": "1.5.0",
            "box_style": "",
            "layout": "IPY_MODEL_887d7f90943c4bdfaf90b7956e563cee",
            "_model_module": "@jupyter-widgets/controls",
            "children": [
              "IPY_MODEL_c2819eaa681b49369e81a4aa901a6090",
              "IPY_MODEL_a104fe78542e4a75a3ed4bd0f89be130"
            ]
          }
        },
        "887d7f90943c4bdfaf90b7956e563cee": {
          "model_module": "@jupyter-widgets/base",
          "model_name": "LayoutModel",
          "state": {
            "_view_name": "LayoutView",
            "grid_template_rows": null,
            "right": null,
            "justify_content": null,
            "_view_module": "@jupyter-widgets/base",
            "overflow": null,
            "_model_module_version": "1.2.0",
            "_view_count": null,
            "flex_flow": null,
            "width": null,
            "min_width": null,
            "border": null,
            "align_items": null,
            "bottom": null,
            "_model_module": "@jupyter-widgets/base",
            "top": null,
            "grid_column": null,
            "overflow_y": null,
            "overflow_x": null,
            "grid_auto_flow": null,
            "grid_area": null,
            "grid_template_columns": null,
            "flex": null,
            "_model_name": "LayoutModel",
            "justify_items": null,
            "grid_row": null,
            "max_height": null,
            "align_content": null,
            "visibility": null,
            "align_self": null,
            "height": null,
            "min_height": null,
            "padding": null,
            "grid_auto_rows": null,
            "grid_gap": null,
            "max_width": null,
            "order": null,
            "_view_module_version": "1.2.0",
            "grid_template_areas": null,
            "object_position": null,
            "object_fit": null,
            "grid_auto_columns": null,
            "margin": null,
            "display": null,
            "left": null
          }
        },
        "c2819eaa681b49369e81a4aa901a6090": {
          "model_module": "@jupyter-widgets/controls",
          "model_name": "FloatProgressModel",
          "state": {
            "_view_name": "ProgressView",
            "style": "IPY_MODEL_e94277c1bfab4f32aa62b7564c798fe8",
            "_dom_classes": [],
            "description": "",
            "_model_name": "FloatProgressModel",
            "bar_style": "success",
            "max": 1,
            "_view_module": "@jupyter-widgets/controls",
            "_model_module_version": "1.5.0",
            "value": 1,
            "_view_count": null,
            "_view_module_version": "1.5.0",
            "orientation": "horizontal",
            "min": 0,
            "description_tooltip": null,
            "_model_module": "@jupyter-widgets/controls",
            "layout": "IPY_MODEL_b9b5cd0c596d4e1a9be7c2372064ed81"
          }
        },
        "a104fe78542e4a75a3ed4bd0f89be130": {
          "model_module": "@jupyter-widgets/controls",
          "model_name": "HTMLModel",
          "state": {
            "_view_name": "HTMLView",
            "style": "IPY_MODEL_be719c6ff9054614b5f9a69487eb0648",
            "_dom_classes": [],
            "description": "",
            "_model_name": "HTMLModel",
            "placeholder": "​",
            "_view_module": "@jupyter-widgets/controls",
            "_model_module_version": "1.5.0",
            "value": " 26427392/? [00:03&lt;00:00, 6948261.82it/s]",
            "_view_count": null,
            "_view_module_version": "1.5.0",
            "description_tooltip": null,
            "_model_module": "@jupyter-widgets/controls",
            "layout": "IPY_MODEL_75e20763699a4845afeea5b64f7b9231"
          }
        },
        "e94277c1bfab4f32aa62b7564c798fe8": {
          "model_module": "@jupyter-widgets/controls",
          "model_name": "ProgressStyleModel",
          "state": {
            "_view_name": "StyleView",
            "_model_name": "ProgressStyleModel",
            "description_width": "initial",
            "_view_module": "@jupyter-widgets/base",
            "_model_module_version": "1.5.0",
            "_view_count": null,
            "_view_module_version": "1.2.0",
            "bar_color": null,
            "_model_module": "@jupyter-widgets/controls"
          }
        },
        "b9b5cd0c596d4e1a9be7c2372064ed81": {
          "model_module": "@jupyter-widgets/base",
          "model_name": "LayoutModel",
          "state": {
            "_view_name": "LayoutView",
            "grid_template_rows": null,
            "right": null,
            "justify_content": null,
            "_view_module": "@jupyter-widgets/base",
            "overflow": null,
            "_model_module_version": "1.2.0",
            "_view_count": null,
            "flex_flow": null,
            "width": null,
            "min_width": null,
            "border": null,
            "align_items": null,
            "bottom": null,
            "_model_module": "@jupyter-widgets/base",
            "top": null,
            "grid_column": null,
            "overflow_y": null,
            "overflow_x": null,
            "grid_auto_flow": null,
            "grid_area": null,
            "grid_template_columns": null,
            "flex": null,
            "_model_name": "LayoutModel",
            "justify_items": null,
            "grid_row": null,
            "max_height": null,
            "align_content": null,
            "visibility": null,
            "align_self": null,
            "height": null,
            "min_height": null,
            "padding": null,
            "grid_auto_rows": null,
            "grid_gap": null,
            "max_width": null,
            "order": null,
            "_view_module_version": "1.2.0",
            "grid_template_areas": null,
            "object_position": null,
            "object_fit": null,
            "grid_auto_columns": null,
            "margin": null,
            "display": null,
            "left": null
          }
        },
        "be719c6ff9054614b5f9a69487eb0648": {
          "model_module": "@jupyter-widgets/controls",
          "model_name": "DescriptionStyleModel",
          "state": {
            "_view_name": "StyleView",
            "_model_name": "DescriptionStyleModel",
            "description_width": "",
            "_view_module": "@jupyter-widgets/base",
            "_model_module_version": "1.5.0",
            "_view_count": null,
            "_view_module_version": "1.2.0",
            "_model_module": "@jupyter-widgets/controls"
          }
        },
        "75e20763699a4845afeea5b64f7b9231": {
          "model_module": "@jupyter-widgets/base",
          "model_name": "LayoutModel",
          "state": {
            "_view_name": "LayoutView",
            "grid_template_rows": null,
            "right": null,
            "justify_content": null,
            "_view_module": "@jupyter-widgets/base",
            "overflow": null,
            "_model_module_version": "1.2.0",
            "_view_count": null,
            "flex_flow": null,
            "width": null,
            "min_width": null,
            "border": null,
            "align_items": null,
            "bottom": null,
            "_model_module": "@jupyter-widgets/base",
            "top": null,
            "grid_column": null,
            "overflow_y": null,
            "overflow_x": null,
            "grid_auto_flow": null,
            "grid_area": null,
            "grid_template_columns": null,
            "flex": null,
            "_model_name": "LayoutModel",
            "justify_items": null,
            "grid_row": null,
            "max_height": null,
            "align_content": null,
            "visibility": null,
            "align_self": null,
            "height": null,
            "min_height": null,
            "padding": null,
            "grid_auto_rows": null,
            "grid_gap": null,
            "max_width": null,
            "order": null,
            "_view_module_version": "1.2.0",
            "grid_template_areas": null,
            "object_position": null,
            "object_fit": null,
            "grid_auto_columns": null,
            "margin": null,
            "display": null,
            "left": null
          }
        },
        "58f998bb06674f94a07a15b98aa8ad62": {
          "model_module": "@jupyter-widgets/controls",
          "model_name": "HBoxModel",
          "state": {
            "_view_name": "HBoxView",
            "_dom_classes": [],
            "_model_name": "HBoxModel",
            "_view_module": "@jupyter-widgets/controls",
            "_model_module_version": "1.5.0",
            "_view_count": null,
            "_view_module_version": "1.5.0",
            "box_style": "",
            "layout": "IPY_MODEL_c11792367fe743a586159bb800ae33ad",
            "_model_module": "@jupyter-widgets/controls",
            "children": [
              "IPY_MODEL_785aeda63b774a24b37c6a346d25ae5e",
              "IPY_MODEL_7c395d1de6bd409c881e70c4499ea359"
            ]
          }
        },
        "c11792367fe743a586159bb800ae33ad": {
          "model_module": "@jupyter-widgets/base",
          "model_name": "LayoutModel",
          "state": {
            "_view_name": "LayoutView",
            "grid_template_rows": null,
            "right": null,
            "justify_content": null,
            "_view_module": "@jupyter-widgets/base",
            "overflow": null,
            "_model_module_version": "1.2.0",
            "_view_count": null,
            "flex_flow": null,
            "width": null,
            "min_width": null,
            "border": null,
            "align_items": null,
            "bottom": null,
            "_model_module": "@jupyter-widgets/base",
            "top": null,
            "grid_column": null,
            "overflow_y": null,
            "overflow_x": null,
            "grid_auto_flow": null,
            "grid_area": null,
            "grid_template_columns": null,
            "flex": null,
            "_model_name": "LayoutModel",
            "justify_items": null,
            "grid_row": null,
            "max_height": null,
            "align_content": null,
            "visibility": null,
            "align_self": null,
            "height": null,
            "min_height": null,
            "padding": null,
            "grid_auto_rows": null,
            "grid_gap": null,
            "max_width": null,
            "order": null,
            "_view_module_version": "1.2.0",
            "grid_template_areas": null,
            "object_position": null,
            "object_fit": null,
            "grid_auto_columns": null,
            "margin": null,
            "display": null,
            "left": null
          }
        },
        "785aeda63b774a24b37c6a346d25ae5e": {
          "model_module": "@jupyter-widgets/controls",
          "model_name": "FloatProgressModel",
          "state": {
            "_view_name": "ProgressView",
            "style": "IPY_MODEL_27004cce00b74802b7e4f55920dde473",
            "_dom_classes": [],
            "description": "",
            "_model_name": "FloatProgressModel",
            "bar_style": "success",
            "max": 1,
            "_view_module": "@jupyter-widgets/controls",
            "_model_module_version": "1.5.0",
            "value": 1,
            "_view_count": null,
            "_view_module_version": "1.5.0",
            "orientation": "horizontal",
            "min": 0,
            "description_tooltip": null,
            "_model_module": "@jupyter-widgets/controls",
            "layout": "IPY_MODEL_f5e56e8093624681aba56cb1bcf22fbc"
          }
        },
        "7c395d1de6bd409c881e70c4499ea359": {
          "model_module": "@jupyter-widgets/controls",
          "model_name": "HTMLModel",
          "state": {
            "_view_name": "HTMLView",
            "style": "IPY_MODEL_f71c2d46b290409ba5dee45bf2aa6515",
            "_dom_classes": [],
            "description": "",
            "_model_name": "HTMLModel",
            "placeholder": "​",
            "_view_module": "@jupyter-widgets/controls",
            "_model_module_version": "1.5.0",
            "value": " 32768/? [00:01&lt;00:00, 18578.03it/s]",
            "_view_count": null,
            "_view_module_version": "1.5.0",
            "description_tooltip": null,
            "_model_module": "@jupyter-widgets/controls",
            "layout": "IPY_MODEL_e6862155640b464589430b6204d2e9b0"
          }
        },
        "27004cce00b74802b7e4f55920dde473": {
          "model_module": "@jupyter-widgets/controls",
          "model_name": "ProgressStyleModel",
          "state": {
            "_view_name": "StyleView",
            "_model_name": "ProgressStyleModel",
            "description_width": "initial",
            "_view_module": "@jupyter-widgets/base",
            "_model_module_version": "1.5.0",
            "_view_count": null,
            "_view_module_version": "1.2.0",
            "bar_color": null,
            "_model_module": "@jupyter-widgets/controls"
          }
        },
        "f5e56e8093624681aba56cb1bcf22fbc": {
          "model_module": "@jupyter-widgets/base",
          "model_name": "LayoutModel",
          "state": {
            "_view_name": "LayoutView",
            "grid_template_rows": null,
            "right": null,
            "justify_content": null,
            "_view_module": "@jupyter-widgets/base",
            "overflow": null,
            "_model_module_version": "1.2.0",
            "_view_count": null,
            "flex_flow": null,
            "width": null,
            "min_width": null,
            "border": null,
            "align_items": null,
            "bottom": null,
            "_model_module": "@jupyter-widgets/base",
            "top": null,
            "grid_column": null,
            "overflow_y": null,
            "overflow_x": null,
            "grid_auto_flow": null,
            "grid_area": null,
            "grid_template_columns": null,
            "flex": null,
            "_model_name": "LayoutModel",
            "justify_items": null,
            "grid_row": null,
            "max_height": null,
            "align_content": null,
            "visibility": null,
            "align_self": null,
            "height": null,
            "min_height": null,
            "padding": null,
            "grid_auto_rows": null,
            "grid_gap": null,
            "max_width": null,
            "order": null,
            "_view_module_version": "1.2.0",
            "grid_template_areas": null,
            "object_position": null,
            "object_fit": null,
            "grid_auto_columns": null,
            "margin": null,
            "display": null,
            "left": null
          }
        },
        "f71c2d46b290409ba5dee45bf2aa6515": {
          "model_module": "@jupyter-widgets/controls",
          "model_name": "DescriptionStyleModel",
          "state": {
            "_view_name": "StyleView",
            "_model_name": "DescriptionStyleModel",
            "description_width": "",
            "_view_module": "@jupyter-widgets/base",
            "_model_module_version": "1.5.0",
            "_view_count": null,
            "_view_module_version": "1.2.0",
            "_model_module": "@jupyter-widgets/controls"
          }
        },
        "e6862155640b464589430b6204d2e9b0": {
          "model_module": "@jupyter-widgets/base",
          "model_name": "LayoutModel",
          "state": {
            "_view_name": "LayoutView",
            "grid_template_rows": null,
            "right": null,
            "justify_content": null,
            "_view_module": "@jupyter-widgets/base",
            "overflow": null,
            "_model_module_version": "1.2.0",
            "_view_count": null,
            "flex_flow": null,
            "width": null,
            "min_width": null,
            "border": null,
            "align_items": null,
            "bottom": null,
            "_model_module": "@jupyter-widgets/base",
            "top": null,
            "grid_column": null,
            "overflow_y": null,
            "overflow_x": null,
            "grid_auto_flow": null,
            "grid_area": null,
            "grid_template_columns": null,
            "flex": null,
            "_model_name": "LayoutModel",
            "justify_items": null,
            "grid_row": null,
            "max_height": null,
            "align_content": null,
            "visibility": null,
            "align_self": null,
            "height": null,
            "min_height": null,
            "padding": null,
            "grid_auto_rows": null,
            "grid_gap": null,
            "max_width": null,
            "order": null,
            "_view_module_version": "1.2.0",
            "grid_template_areas": null,
            "object_position": null,
            "object_fit": null,
            "grid_auto_columns": null,
            "margin": null,
            "display": null,
            "left": null
          }
        },
        "e84dab36fd2249d9ac1af57aa6b0d43f": {
          "model_module": "@jupyter-widgets/controls",
          "model_name": "HBoxModel",
          "state": {
            "_view_name": "HBoxView",
            "_dom_classes": [],
            "_model_name": "HBoxModel",
            "_view_module": "@jupyter-widgets/controls",
            "_model_module_version": "1.5.0",
            "_view_count": null,
            "_view_module_version": "1.5.0",
            "box_style": "",
            "layout": "IPY_MODEL_c3daebf4b5a6409192b4fc2c85636508",
            "_model_module": "@jupyter-widgets/controls",
            "children": [
              "IPY_MODEL_f3f52d6d8e66457eae79b1cb12dd4a60",
              "IPY_MODEL_92a314d5b81a451d835f3915f499c3f9"
            ]
          }
        },
        "c3daebf4b5a6409192b4fc2c85636508": {
          "model_module": "@jupyter-widgets/base",
          "model_name": "LayoutModel",
          "state": {
            "_view_name": "LayoutView",
            "grid_template_rows": null,
            "right": null,
            "justify_content": null,
            "_view_module": "@jupyter-widgets/base",
            "overflow": null,
            "_model_module_version": "1.2.0",
            "_view_count": null,
            "flex_flow": null,
            "width": null,
            "min_width": null,
            "border": null,
            "align_items": null,
            "bottom": null,
            "_model_module": "@jupyter-widgets/base",
            "top": null,
            "grid_column": null,
            "overflow_y": null,
            "overflow_x": null,
            "grid_auto_flow": null,
            "grid_area": null,
            "grid_template_columns": null,
            "flex": null,
            "_model_name": "LayoutModel",
            "justify_items": null,
            "grid_row": null,
            "max_height": null,
            "align_content": null,
            "visibility": null,
            "align_self": null,
            "height": null,
            "min_height": null,
            "padding": null,
            "grid_auto_rows": null,
            "grid_gap": null,
            "max_width": null,
            "order": null,
            "_view_module_version": "1.2.0",
            "grid_template_areas": null,
            "object_position": null,
            "object_fit": null,
            "grid_auto_columns": null,
            "margin": null,
            "display": null,
            "left": null
          }
        },
        "f3f52d6d8e66457eae79b1cb12dd4a60": {
          "model_module": "@jupyter-widgets/controls",
          "model_name": "FloatProgressModel",
          "state": {
            "_view_name": "ProgressView",
            "style": "IPY_MODEL_68092e6163f048b398a0b692e0e7f212",
            "_dom_classes": [],
            "description": "",
            "_model_name": "FloatProgressModel",
            "bar_style": "success",
            "max": 1,
            "_view_module": "@jupyter-widgets/controls",
            "_model_module_version": "1.5.0",
            "value": 1,
            "_view_count": null,
            "_view_module_version": "1.5.0",
            "orientation": "horizontal",
            "min": 0,
            "description_tooltip": null,
            "_model_module": "@jupyter-widgets/controls",
            "layout": "IPY_MODEL_9590c81f5a1047bca3ce54f4838e7a4b"
          }
        },
        "92a314d5b81a451d835f3915f499c3f9": {
          "model_module": "@jupyter-widgets/controls",
          "model_name": "HTMLModel",
          "state": {
            "_view_name": "HTMLView",
            "style": "IPY_MODEL_d393033f22ad469b8bd5552a12e9b1bf",
            "_dom_classes": [],
            "description": "",
            "_model_name": "HTMLModel",
            "placeholder": "​",
            "_view_module": "@jupyter-widgets/controls",
            "_model_module_version": "1.5.0",
            "value": " 4423680/? [00:01&lt;00:00, 3043060.61it/s]",
            "_view_count": null,
            "_view_module_version": "1.5.0",
            "description_tooltip": null,
            "_model_module": "@jupyter-widgets/controls",
            "layout": "IPY_MODEL_0bf8f8c95240493381178715b041dc0c"
          }
        },
        "68092e6163f048b398a0b692e0e7f212": {
          "model_module": "@jupyter-widgets/controls",
          "model_name": "ProgressStyleModel",
          "state": {
            "_view_name": "StyleView",
            "_model_name": "ProgressStyleModel",
            "description_width": "initial",
            "_view_module": "@jupyter-widgets/base",
            "_model_module_version": "1.5.0",
            "_view_count": null,
            "_view_module_version": "1.2.0",
            "bar_color": null,
            "_model_module": "@jupyter-widgets/controls"
          }
        },
        "9590c81f5a1047bca3ce54f4838e7a4b": {
          "model_module": "@jupyter-widgets/base",
          "model_name": "LayoutModel",
          "state": {
            "_view_name": "LayoutView",
            "grid_template_rows": null,
            "right": null,
            "justify_content": null,
            "_view_module": "@jupyter-widgets/base",
            "overflow": null,
            "_model_module_version": "1.2.0",
            "_view_count": null,
            "flex_flow": null,
            "width": null,
            "min_width": null,
            "border": null,
            "align_items": null,
            "bottom": null,
            "_model_module": "@jupyter-widgets/base",
            "top": null,
            "grid_column": null,
            "overflow_y": null,
            "overflow_x": null,
            "grid_auto_flow": null,
            "grid_area": null,
            "grid_template_columns": null,
            "flex": null,
            "_model_name": "LayoutModel",
            "justify_items": null,
            "grid_row": null,
            "max_height": null,
            "align_content": null,
            "visibility": null,
            "align_self": null,
            "height": null,
            "min_height": null,
            "padding": null,
            "grid_auto_rows": null,
            "grid_gap": null,
            "max_width": null,
            "order": null,
            "_view_module_version": "1.2.0",
            "grid_template_areas": null,
            "object_position": null,
            "object_fit": null,
            "grid_auto_columns": null,
            "margin": null,
            "display": null,
            "left": null
          }
        },
        "d393033f22ad469b8bd5552a12e9b1bf": {
          "model_module": "@jupyter-widgets/controls",
          "model_name": "DescriptionStyleModel",
          "state": {
            "_view_name": "StyleView",
            "_model_name": "DescriptionStyleModel",
            "description_width": "",
            "_view_module": "@jupyter-widgets/base",
            "_model_module_version": "1.5.0",
            "_view_count": null,
            "_view_module_version": "1.2.0",
            "_model_module": "@jupyter-widgets/controls"
          }
        },
        "0bf8f8c95240493381178715b041dc0c": {
          "model_module": "@jupyter-widgets/base",
          "model_name": "LayoutModel",
          "state": {
            "_view_name": "LayoutView",
            "grid_template_rows": null,
            "right": null,
            "justify_content": null,
            "_view_module": "@jupyter-widgets/base",
            "overflow": null,
            "_model_module_version": "1.2.0",
            "_view_count": null,
            "flex_flow": null,
            "width": null,
            "min_width": null,
            "border": null,
            "align_items": null,
            "bottom": null,
            "_model_module": "@jupyter-widgets/base",
            "top": null,
            "grid_column": null,
            "overflow_y": null,
            "overflow_x": null,
            "grid_auto_flow": null,
            "grid_area": null,
            "grid_template_columns": null,
            "flex": null,
            "_model_name": "LayoutModel",
            "justify_items": null,
            "grid_row": null,
            "max_height": null,
            "align_content": null,
            "visibility": null,
            "align_self": null,
            "height": null,
            "min_height": null,
            "padding": null,
            "grid_auto_rows": null,
            "grid_gap": null,
            "max_width": null,
            "order": null,
            "_view_module_version": "1.2.0",
            "grid_template_areas": null,
            "object_position": null,
            "object_fit": null,
            "grid_auto_columns": null,
            "margin": null,
            "display": null,
            "left": null
          }
        },
        "449aa91726ac4714a4c3c7107b94656a": {
          "model_module": "@jupyter-widgets/controls",
          "model_name": "HBoxModel",
          "state": {
            "_view_name": "HBoxView",
            "_dom_classes": [],
            "_model_name": "HBoxModel",
            "_view_module": "@jupyter-widgets/controls",
            "_model_module_version": "1.5.0",
            "_view_count": null,
            "_view_module_version": "1.5.0",
            "box_style": "",
            "layout": "IPY_MODEL_d124f9c9f5214773969d4ef424fd70cf",
            "_model_module": "@jupyter-widgets/controls",
            "children": [
              "IPY_MODEL_e3a945bc194645af9d0a6757f04a6564",
              "IPY_MODEL_67db2c2c3ef34c32a8516dc4d1b3e708"
            ]
          }
        },
        "d124f9c9f5214773969d4ef424fd70cf": {
          "model_module": "@jupyter-widgets/base",
          "model_name": "LayoutModel",
          "state": {
            "_view_name": "LayoutView",
            "grid_template_rows": null,
            "right": null,
            "justify_content": null,
            "_view_module": "@jupyter-widgets/base",
            "overflow": null,
            "_model_module_version": "1.2.0",
            "_view_count": null,
            "flex_flow": null,
            "width": null,
            "min_width": null,
            "border": null,
            "align_items": null,
            "bottom": null,
            "_model_module": "@jupyter-widgets/base",
            "top": null,
            "grid_column": null,
            "overflow_y": null,
            "overflow_x": null,
            "grid_auto_flow": null,
            "grid_area": null,
            "grid_template_columns": null,
            "flex": null,
            "_model_name": "LayoutModel",
            "justify_items": null,
            "grid_row": null,
            "max_height": null,
            "align_content": null,
            "visibility": null,
            "align_self": null,
            "height": null,
            "min_height": null,
            "padding": null,
            "grid_auto_rows": null,
            "grid_gap": null,
            "max_width": null,
            "order": null,
            "_view_module_version": "1.2.0",
            "grid_template_areas": null,
            "object_position": null,
            "object_fit": null,
            "grid_auto_columns": null,
            "margin": null,
            "display": null,
            "left": null
          }
        },
        "e3a945bc194645af9d0a6757f04a6564": {
          "model_module": "@jupyter-widgets/controls",
          "model_name": "FloatProgressModel",
          "state": {
            "_view_name": "ProgressView",
            "style": "IPY_MODEL_db8be767595e4ca596758952c067108e",
            "_dom_classes": [],
            "description": "",
            "_model_name": "FloatProgressModel",
            "bar_style": "success",
            "max": 1,
            "_view_module": "@jupyter-widgets/controls",
            "_model_module_version": "1.5.0",
            "value": 1,
            "_view_count": null,
            "_view_module_version": "1.5.0",
            "orientation": "horizontal",
            "min": 0,
            "description_tooltip": null,
            "_model_module": "@jupyter-widgets/controls",
            "layout": "IPY_MODEL_9ea533d8ab2f4ef29dc333b160384a00"
          }
        },
        "67db2c2c3ef34c32a8516dc4d1b3e708": {
          "model_module": "@jupyter-widgets/controls",
          "model_name": "HTMLModel",
          "state": {
            "_view_name": "HTMLView",
            "style": "IPY_MODEL_c6891ee6b4e544bb97435c524456bcdf",
            "_dom_classes": [],
            "description": "",
            "_model_name": "HTMLModel",
            "placeholder": "​",
            "_view_module": "@jupyter-widgets/controls",
            "_model_module_version": "1.5.0",
            "value": " 8192/? [00:00&lt;00:00, 18822.88it/s]",
            "_view_count": null,
            "_view_module_version": "1.5.0",
            "description_tooltip": null,
            "_model_module": "@jupyter-widgets/controls",
            "layout": "IPY_MODEL_7ee060fb58a2477488f0863d15ecd646"
          }
        },
        "db8be767595e4ca596758952c067108e": {
          "model_module": "@jupyter-widgets/controls",
          "model_name": "ProgressStyleModel",
          "state": {
            "_view_name": "StyleView",
            "_model_name": "ProgressStyleModel",
            "description_width": "initial",
            "_view_module": "@jupyter-widgets/base",
            "_model_module_version": "1.5.0",
            "_view_count": null,
            "_view_module_version": "1.2.0",
            "bar_color": null,
            "_model_module": "@jupyter-widgets/controls"
          }
        },
        "9ea533d8ab2f4ef29dc333b160384a00": {
          "model_module": "@jupyter-widgets/base",
          "model_name": "LayoutModel",
          "state": {
            "_view_name": "LayoutView",
            "grid_template_rows": null,
            "right": null,
            "justify_content": null,
            "_view_module": "@jupyter-widgets/base",
            "overflow": null,
            "_model_module_version": "1.2.0",
            "_view_count": null,
            "flex_flow": null,
            "width": null,
            "min_width": null,
            "border": null,
            "align_items": null,
            "bottom": null,
            "_model_module": "@jupyter-widgets/base",
            "top": null,
            "grid_column": null,
            "overflow_y": null,
            "overflow_x": null,
            "grid_auto_flow": null,
            "grid_area": null,
            "grid_template_columns": null,
            "flex": null,
            "_model_name": "LayoutModel",
            "justify_items": null,
            "grid_row": null,
            "max_height": null,
            "align_content": null,
            "visibility": null,
            "align_self": null,
            "height": null,
            "min_height": null,
            "padding": null,
            "grid_auto_rows": null,
            "grid_gap": null,
            "max_width": null,
            "order": null,
            "_view_module_version": "1.2.0",
            "grid_template_areas": null,
            "object_position": null,
            "object_fit": null,
            "grid_auto_columns": null,
            "margin": null,
            "display": null,
            "left": null
          }
        },
        "c6891ee6b4e544bb97435c524456bcdf": {
          "model_module": "@jupyter-widgets/controls",
          "model_name": "DescriptionStyleModel",
          "state": {
            "_view_name": "StyleView",
            "_model_name": "DescriptionStyleModel",
            "description_width": "",
            "_view_module": "@jupyter-widgets/base",
            "_model_module_version": "1.5.0",
            "_view_count": null,
            "_view_module_version": "1.2.0",
            "_model_module": "@jupyter-widgets/controls"
          }
        },
        "7ee060fb58a2477488f0863d15ecd646": {
          "model_module": "@jupyter-widgets/base",
          "model_name": "LayoutModel",
          "state": {
            "_view_name": "LayoutView",
            "grid_template_rows": null,
            "right": null,
            "justify_content": null,
            "_view_module": "@jupyter-widgets/base",
            "overflow": null,
            "_model_module_version": "1.2.0",
            "_view_count": null,
            "flex_flow": null,
            "width": null,
            "min_width": null,
            "border": null,
            "align_items": null,
            "bottom": null,
            "_model_module": "@jupyter-widgets/base",
            "top": null,
            "grid_column": null,
            "overflow_y": null,
            "overflow_x": null,
            "grid_auto_flow": null,
            "grid_area": null,
            "grid_template_columns": null,
            "flex": null,
            "_model_name": "LayoutModel",
            "justify_items": null,
            "grid_row": null,
            "max_height": null,
            "align_content": null,
            "visibility": null,
            "align_self": null,
            "height": null,
            "min_height": null,
            "padding": null,
            "grid_auto_rows": null,
            "grid_gap": null,
            "max_width": null,
            "order": null,
            "_view_module_version": "1.2.0",
            "grid_template_areas": null,
            "object_position": null,
            "object_fit": null,
            "grid_auto_columns": null,
            "margin": null,
            "display": null,
            "left": null
          }
        }
      }
    },
    "accelerator": "GPU"
  },
  "cells": [
    {
      "cell_type": "markdown",
      "metadata": {
        "id": "view-in-github",
        "colab_type": "text"
      },
      "source": [
        "<a href=\"https://colab.research.google.com/github/smlra-kjsce/PyTorch-101/blob/main/Tensorboard%20Tutorial.ipynb\" target=\"_parent\"><img src=\"https://colab.research.google.com/assets/colab-badge.svg\" alt=\"Open In Colab\"/></a>"
      ]
    },
    {
      "cell_type": "markdown",
      "metadata": {
        "id": "_0BaPWE7k1Kl"
      },
      "source": [
        "# **Tensorboard**\r\n",
        "\r\n",
        "---\r\n",
        "\r\n",
        "\r\n",
        "\r\n",
        "TensorBoard provides the visualization and tooling needed for machine learning experimentation:\r\n",
        "\r\n",
        "\r\n",
        "\r\n",
        "*   Tracking and visualizing metrics such as loss and accuracy\r\n",
        "*   Visualizing the model graph (ops and layers)\r\n",
        "*   Viewing histograms of weights, biases, or other tensors as they change over time \r\n",
        "*   Projecting embeddings to a lower dimensional space\r\n",
        "*   Displaying images, text, and audio data\r\n",
        "\r\n",
        "## Imports\r\n",
        "\r\n"
      ]
    },
    {
      "cell_type": "code",
      "metadata": {
        "colab": {
          "base_uri": "https://localhost:8080/",
          "height": 437,
          "referenced_widgets": [
            "3cad51b1b7464c93a5c9ccb71e75616f",
            "887d7f90943c4bdfaf90b7956e563cee",
            "c2819eaa681b49369e81a4aa901a6090",
            "a104fe78542e4a75a3ed4bd0f89be130",
            "e94277c1bfab4f32aa62b7564c798fe8",
            "b9b5cd0c596d4e1a9be7c2372064ed81",
            "be719c6ff9054614b5f9a69487eb0648",
            "75e20763699a4845afeea5b64f7b9231",
            "58f998bb06674f94a07a15b98aa8ad62",
            "c11792367fe743a586159bb800ae33ad",
            "785aeda63b774a24b37c6a346d25ae5e",
            "7c395d1de6bd409c881e70c4499ea359",
            "27004cce00b74802b7e4f55920dde473",
            "f5e56e8093624681aba56cb1bcf22fbc",
            "f71c2d46b290409ba5dee45bf2aa6515",
            "e6862155640b464589430b6204d2e9b0",
            "e84dab36fd2249d9ac1af57aa6b0d43f",
            "c3daebf4b5a6409192b4fc2c85636508",
            "f3f52d6d8e66457eae79b1cb12dd4a60",
            "92a314d5b81a451d835f3915f499c3f9",
            "68092e6163f048b398a0b692e0e7f212",
            "9590c81f5a1047bca3ce54f4838e7a4b",
            "d393033f22ad469b8bd5552a12e9b1bf",
            "0bf8f8c95240493381178715b041dc0c",
            "449aa91726ac4714a4c3c7107b94656a",
            "d124f9c9f5214773969d4ef424fd70cf",
            "e3a945bc194645af9d0a6757f04a6564",
            "67db2c2c3ef34c32a8516dc4d1b3e708",
            "db8be767595e4ca596758952c067108e",
            "9ea533d8ab2f4ef29dc333b160384a00",
            "c6891ee6b4e544bb97435c524456bcdf",
            "7ee060fb58a2477488f0863d15ecd646"
          ]
        },
        "id": "LYGJ6HnMkslI",
        "outputId": "e18ef84c-4933-4e22-f417-153528ab2bd0"
      },
      "source": [
        "import matplotlib.pyplot as plt\r\n",
        "import numpy as np\r\n",
        "\r\n",
        "import torch\r\n",
        "import torchvision\r\n",
        "import torchvision.transforms as transforms\r\n",
        "\r\n",
        "import torch.nn as nn\r\n",
        "import torch.nn.functional as F\r\n",
        "import torch.optim as optim\r\n",
        "\r\n",
        "# transforms\r\n",
        "transform = transforms.Compose(\r\n",
        "    [transforms.ToTensor(),\r\n",
        "    transforms.Normalize((0.5,), (0.5,))])\r\n",
        "\r\n",
        "# datasets\r\n",
        "trainset = torchvision.datasets.FashionMNIST('./data',\r\n",
        "    download=True,\r\n",
        "    train=True,\r\n",
        "    transform=transform)\r\n",
        "testset = torchvision.datasets.FashionMNIST('./data',\r\n",
        "    download=True,\r\n",
        "    train=False,\r\n",
        "    transform=transform)\r\n",
        "\r\n",
        "# dataloaders\r\n",
        "trainloader = torch.utils.data.DataLoader(trainset, batch_size=4,\r\n",
        "                                        shuffle=True, num_workers=2)\r\n",
        "\r\n",
        "\r\n",
        "testloader = torch.utils.data.DataLoader(testset, batch_size=4,\r\n",
        "                                        shuffle=False, num_workers=2)\r\n",
        "\r\n",
        "# constant for classes\r\n",
        "classes = ('T-shirt/top', 'Trouser', 'Pullover', 'Dress', 'Coat',\r\n",
        "        'Sandal', 'Shirt', 'Sneaker', 'Bag', 'Ankle Boot')\r\n"
      ],
      "execution_count": 1,
      "outputs": [
        {
          "output_type": "stream",
          "text": [
            "Downloading http://fashion-mnist.s3-website.eu-central-1.amazonaws.com/train-images-idx3-ubyte.gz to ./data/FashionMNIST/raw/train-images-idx3-ubyte.gz\n"
          ],
          "name": "stdout"
        },
        {
          "output_type": "display_data",
          "data": {
            "application/vnd.jupyter.widget-view+json": {
              "model_id": "3cad51b1b7464c93a5c9ccb71e75616f",
              "version_minor": 0,
              "version_major": 2
            },
            "text/plain": [
              "HBox(children=(FloatProgress(value=1.0, bar_style='info', max=1.0), HTML(value='')))"
            ]
          },
          "metadata": {
            "tags": []
          }
        },
        {
          "output_type": "stream",
          "text": [
            "Extracting ./data/FashionMNIST/raw/train-images-idx3-ubyte.gz to ./data/FashionMNIST/raw\n",
            "Downloading http://fashion-mnist.s3-website.eu-central-1.amazonaws.com/train-labels-idx1-ubyte.gz to ./data/FashionMNIST/raw/train-labels-idx1-ubyte.gz\n"
          ],
          "name": "stdout"
        },
        {
          "output_type": "display_data",
          "data": {
            "application/vnd.jupyter.widget-view+json": {
              "model_id": "58f998bb06674f94a07a15b98aa8ad62",
              "version_minor": 0,
              "version_major": 2
            },
            "text/plain": [
              "HBox(children=(FloatProgress(value=1.0, bar_style='info', max=1.0), HTML(value='')))"
            ]
          },
          "metadata": {
            "tags": []
          }
        },
        {
          "output_type": "stream",
          "text": [
            "Extracting ./data/FashionMNIST/raw/train-labels-idx1-ubyte.gz to ./data/FashionMNIST/raw\n",
            "Downloading http://fashion-mnist.s3-website.eu-central-1.amazonaws.com/t10k-images-idx3-ubyte.gz to ./data/FashionMNIST/raw/t10k-images-idx3-ubyte.gz\n"
          ],
          "name": "stdout"
        },
        {
          "output_type": "display_data",
          "data": {
            "application/vnd.jupyter.widget-view+json": {
              "model_id": "e84dab36fd2249d9ac1af57aa6b0d43f",
              "version_minor": 0,
              "version_major": 2
            },
            "text/plain": [
              "HBox(children=(FloatProgress(value=1.0, bar_style='info', max=1.0), HTML(value='')))"
            ]
          },
          "metadata": {
            "tags": []
          }
        },
        {
          "output_type": "stream",
          "text": [
            "Extracting ./data/FashionMNIST/raw/t10k-images-idx3-ubyte.gz to ./data/FashionMNIST/raw\n",
            "Downloading http://fashion-mnist.s3-website.eu-central-1.amazonaws.com/t10k-labels-idx1-ubyte.gz to ./data/FashionMNIST/raw/t10k-labels-idx1-ubyte.gz\n"
          ],
          "name": "stdout"
        },
        {
          "output_type": "display_data",
          "data": {
            "application/vnd.jupyter.widget-view+json": {
              "model_id": "449aa91726ac4714a4c3c7107b94656a",
              "version_minor": 0,
              "version_major": 2
            },
            "text/plain": [
              "HBox(children=(FloatProgress(value=1.0, bar_style='info', max=1.0), HTML(value='')))"
            ]
          },
          "metadata": {
            "tags": []
          }
        },
        {
          "output_type": "stream",
          "text": [
            "Extracting ./data/FashionMNIST/raw/t10k-labels-idx1-ubyte.gz to ./data/FashionMNIST/raw\n",
            "Processing...\n",
            "Done!\n",
            "\n",
            "\n",
            "\n",
            "\n"
          ],
          "name": "stdout"
        },
        {
          "output_type": "stream",
          "text": [
            "/usr/local/lib/python3.7/dist-packages/torchvision/datasets/mnist.py:480: UserWarning: The given NumPy array is not writeable, and PyTorch does not support non-writeable tensors. This means you can write to the underlying (supposedly non-writeable) NumPy array using the tensor. You may want to copy the array to protect its data or make it writeable before converting it to a tensor. This type of warning will be suppressed for the rest of this program. (Triggered internally at  /pytorch/torch/csrc/utils/tensor_numpy.cpp:141.)\n",
            "  return torch.from_numpy(parsed.astype(m[2], copy=False)).view(*s)\n"
          ],
          "name": "stderr"
        }
      ]
    },
    {
      "cell_type": "markdown",
      "metadata": {
        "id": "TIesQboLDny5"
      },
      "source": [
        "## **CNN Architecture**\r\n",
        "\r\n",
        "![1.PNG](data:image/png;base64,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)"
      ]
    },
    {
      "cell_type": "code",
      "metadata": {
        "id": "e2dFiQYCkzuG"
      },
      "source": [
        "class Net(nn.Module):\r\n",
        "    def __init__(self):\r\n",
        "        super(Net, self).__init__()\r\n",
        "        self.conv1 = nn.Conv2d(1, 6, 5)\r\n",
        "        self.pool = nn.MaxPool2d(2, 2)\r\n",
        "        self.conv2 = nn.Conv2d(6, 16, 5)\r\n",
        "        self.fc1 = nn.Linear(16 * 4 * 4, 120)\r\n",
        "        self.fc2 = nn.Linear(120, 84)\r\n",
        "        self.fc3 = nn.Linear(84, 10)\r\n",
        "\r\n",
        "    def forward(self, x):\r\n",
        "        x = self.pool(F.relu(self.conv1(x)))\r\n",
        "        x = self.pool(F.relu(self.conv2(x)))\r\n",
        "        x = x.view(-1, 16 * 4 * 4)\r\n",
        "        x = F.relu(self.fc1(x))\r\n",
        "        x = F.relu(self.fc2(x))\r\n",
        "        x = self.fc3(x)\r\n",
        "        return x\r\n",
        "\r\n",
        "net = Net()"
      ],
      "execution_count": 2,
      "outputs": []
    },
    {
      "cell_type": "code",
      "metadata": {
        "id": "f17SeUo9lCRT"
      },
      "source": [
        "criterion = nn.CrossEntropyLoss()\r\n",
        "optimizer = optim.SGD(net.parameters(), lr=0.001, momentum=0.9)"
      ],
      "execution_count": 3,
      "outputs": []
    },
    {
      "cell_type": "markdown",
      "metadata": {
        "id": "6O0bJvQEN-je"
      },
      "source": [
        "## PyTorch Tensorboard Support"
      ]
    },
    {
      "cell_type": "code",
      "metadata": {
        "id": "blAsn5UWlEwt"
      },
      "source": [
        "from torch.utils.tensorboard import SummaryWriter\r\n",
        "writer = SummaryWriter('runs/fashion_mnist_experiment_1')"
      ],
      "execution_count": 4,
      "outputs": []
    },
    {
      "cell_type": "markdown",
      "metadata": {
        "id": "hACcxg1TOt8X"
      },
      "source": [
        "## Images"
      ]
    },
    {
      "cell_type": "code",
      "metadata": {
        "colab": {
          "base_uri": "https://localhost:8080/",
          "height": 138
        },
        "id": "hDqFWU3BlF8N",
        "outputId": "dee7482f-b34f-4393-8825-e6bccc03661b"
      },
      "source": [
        "dataiter = iter(trainloader)\r\n",
        "images, labels = dataiter.next()\r\n",
        "def matplotlib_imshow(img, one_channel=False):\r\n",
        "    if one_channel:\r\n",
        "        img = img.mean(dim=0)\r\n",
        "    img = img / 2 + 0.5 \r\n",
        "    npimg = img.numpy()\r\n",
        "    if one_channel:\r\n",
        "        plt.imshow(npimg, cmap=\"Greys\")\r\n",
        "    else:\r\n",
        "        plt.imshow(np.transpose(npimg, (1, 2, 0)))\r\n",
        "\r\n",
        "img_grid = torchvision.utils.make_grid(images)\r\n",
        "matplotlib_imshow(img_grid, one_channel=True)\r\n",
        "\r\n",
        "writer.add_image('four_fashion_mnist_images', img_grid)"
      ],
      "execution_count": 6,
      "outputs": [
        {
          "output_type": "display_data",
          "data": {
            "image/png": "[encoded data removed]",
            "text/plain": [
              "<Figure size 432x288 with 1 Axes>"
            ]
          },
          "metadata": {
            "tags": [],
            "needs_background": "light"
          }
        }
      ]
    },
    {
      "cell_type": "code",
      "metadata": {
        "id": "ZGCYeTb9lIZ8"
      },
      "source": [
        "%load_ext tensorboard\r\n",
        "%tensorboard --logdir=runs"
      ],
      "execution_count": null,
      "outputs": []
    },
    {
      "cell_type": "markdown",
      "metadata": {
        "id": "mYI-T-e2KcZX"
      },
      "source": [
        "## Model Graphs"
      ]
    },
    {
      "cell_type": "code",
      "metadata": {
        "id": "dsN_PEPFlNpF"
      },
      "source": [
        "writer.add_graph(net, images)\r\n",
        "writer.close()"
      ],
      "execution_count": 8,
      "outputs": []
    },
    {
      "cell_type": "code",
      "metadata": {
        "id": "Fug-VrVImXlj"
      },
      "source": [
        "%reload_ext tensorboard"
      ],
      "execution_count": 9,
      "outputs": []
    },
    {
      "cell_type": "markdown",
      "metadata": {
        "id": "p2XKQ86jKf53"
      },
      "source": [
        "## Training Loss Graph"
      ]
    },
    {
      "cell_type": "code",
      "metadata": {
        "id": "hoZ5EdSImpMd"
      },
      "source": [
        "def images_to_probs(net, images):\r\n",
        "    '''\r\n",
        "    Generates predictions and corresponding probabilities from a trained\r\n",
        "    network and a list of images\r\n",
        "    '''\r\n",
        "    output = net(images)\r\n",
        "    # convert output probabilities to predicted class\r\n",
        "    _, preds_tensor = torch.max(output, 1)\r\n",
        "    preds = np.squeeze(preds_tensor.numpy())\r\n",
        "    return preds, [F.softmax(el, dim=0)[i].item() for i, el in zip(preds, output)]\r\n",
        "\r\n",
        "\r\n",
        "def plot_classes_preds(net, images, labels):\r\n",
        "    '''\r\n",
        "    Generates matplotlib Figure using a trained network, along with images\r\n",
        "    and labels from a batch, that shows the network's top prediction along\r\n",
        "    with its probability, alongside the actual label, coloring this\r\n",
        "    information based on whether the prediction was correct or not.\r\n",
        "    Uses the \"images_to_probs\" function.\r\n",
        "    '''\r\n",
        "    preds, probs = images_to_probs(net, images)\r\n",
        "    # plot the images in the batch, along with predicted and true labels\r\n",
        "    fig = plt.figure(figsize=(12, 48))\r\n",
        "    for idx in np.arange(4):\r\n",
        "        ax = fig.add_subplot(1, 4, idx+1, xticks=[], yticks=[])\r\n",
        "        matplotlib_imshow(images[idx], one_channel=True)\r\n",
        "        ax.set_title(\"{0}, {1:.1f}%\\n(label: {2})\".format(\r\n",
        "            classes[preds[idx]],\r\n",
        "            probs[idx] * 100.0,\r\n",
        "            classes[labels[idx]]),\r\n",
        "                    color=(\"green\" if preds[idx]==labels[idx].item() else \"red\"))\r\n",
        "    return fig"
      ],
      "execution_count": 10,
      "outputs": []
    },
    {
      "cell_type": "code",
      "metadata": {
        "colab": {
          "base_uri": "https://localhost:8080/"
        },
        "id": "IAfXjO1Mnw8m",
        "outputId": "f844fb53-bb88-48de-d219-6860d14ca6ed"
      },
      "source": [
        "running_loss = 0.0\r\n",
        "for epoch in range(1):  # loop over the dataset multiple times\r\n",
        "\r\n",
        "    for i, data in enumerate(trainloader, 0):\r\n",
        "\r\n",
        "        # get the inputs; data is a list of [inputs, labels]\r\n",
        "        inputs, labels = data\r\n",
        "\r\n",
        "        # zero the parameter gradients\r\n",
        "        optimizer.zero_grad()\r\n",
        "\r\n",
        "        # forward + backward + optimize\r\n",
        "        outputs = net(inputs)\r\n",
        "        loss = criterion(outputs, labels)\r\n",
        "        loss.backward()\r\n",
        "        optimizer.step()\r\n",
        "\r\n",
        "        running_loss += loss.item()\r\n",
        "        if i % 1000 == 999: \r\n",
        "            writer.add_scalar('training loss',\r\n",
        "                            running_loss / 1000,\r\n",
        "                            epoch * len(trainloader) + i)\r\n",
        "\r\n",
        "            writer.add_figure('predictions vs. actuals',\r\n",
        "                            plot_classes_preds(net, inputs, labels),\r\n",
        "                            global_step=epoch * len(trainloader) + i)\r\n",
        "            running_loss = 0.0\r\n",
        "print('Finished Training')"
      ],
      "execution_count": 11,
      "outputs": [
        {
          "output_type": "stream",
          "text": [
            "Finished Training\n"
          ],
          "name": "stdout"
        }
      ]
    },
    {
      "cell_type": "code",
      "metadata": {
        "id": "NERZfPKfnz5C"
      },
      "source": [
        "%reload_ext tensorboard"
      ],
      "execution_count": 12,
      "outputs": []
    },
    {
      "cell_type": "markdown",
      "metadata": {
        "id": "AB4UfbpmKm-i"
      },
      "source": [
        "## PR Curves"
      ]
    },
    {
      "cell_type": "code",
      "metadata": {
        "id": "_AijrQeYp27z"
      },
      "source": [
        "class_probs = []\r\n",
        "class_preds = []\r\n",
        "with torch.no_grad():\r\n",
        "    for data in testloader:\r\n",
        "        images, labels = data\r\n",
        "        output = net(images)\r\n",
        "        class_probs_batch = [F.softmax(el, dim=0) for el in output]\r\n",
        "        _, class_preds_batch = torch.max(output, 1)\r\n",
        "\r\n",
        "        class_probs.append(class_probs_batch)\r\n",
        "        class_preds.append(class_preds_batch)\r\n",
        "\r\n",
        "test_probs = torch.cat([torch.stack(batch) for batch in class_probs])\r\n",
        "test_preds = torch.cat(class_preds)\r\n",
        "\r\n",
        "# helper function\r\n",
        "def add_pr_curve_tensorboard(class_index, test_probs, test_preds, global_step=0):\r\n",
        "    '''\r\n",
        "    Takes in a \"class_index\" from 0 to 9 and plots the corresponding\r\n",
        "    precision-recall curve\r\n",
        "    '''\r\n",
        "    tensorboard_preds = test_preds == class_index\r\n",
        "    tensorboard_probs = test_probs[:, class_index]\r\n",
        "\r\n",
        "    writer.add_pr_curve(classes[class_index],\r\n",
        "                        tensorboard_preds,\r\n",
        "                        tensorboard_probs,\r\n",
        "                        global_step=global_step)\r\n",
        "    writer.close()\r\n",
        "\r\n",
        "# plot all the pr curves\r\n",
        "for i in range(len(classes)):\r\n",
        "    add_pr_curve_tensorboard(i, test_probs, test_preds)"
      ],
      "execution_count": 13,
      "outputs": []
    },
    {
      "cell_type": "code",
      "metadata": {
        "id": "LrlITIDTWhQs"
      },
      "source": [
        "%reload_ext tensorboard"
      ],
      "execution_count": 14,
      "outputs": []
    },
    {
      "cell_type": "markdown",
      "metadata": {
        "id": "aQVw5e8gKpKI"
      },
      "source": [
        "## Projection\r\n",
        "\r\n",
        "(TensorFlow bug on Colab cause PyTorch TensorBoard to fail for Projection, ignore this slide till bug is fixed)"
      ]
    },
    {
      "cell_type": "code",
      "metadata": {
        "id": "i9XzHvDnW7rt",
        "colab": {
          "base_uri": "https://localhost:8080/"
        },
        "outputId": "8e48b8aa-0cd9-465d-d304-1ff976b594a2"
      },
      "source": [
        "import tensorflow as tf\r\n",
        "import tensorboard as tb\r\n",
        "tf.io.gfile = tb.compat.tensorflow_stub.io.gfile\r\n",
        "\r\n",
        "def select_n_random(data, labels, n=100):\r\n",
        "    '''\r\n",
        "    Selects n random datapoints and their corresponding labels from a dataset\r\n",
        "    '''\r\n",
        "    assert len(data) == len(labels)\r\n",
        "\r\n",
        "    perm = torch.randperm(len(data))\r\n",
        "    return data[perm][:n], labels[perm][:n]\r\n",
        "\r\n",
        "# select random images and their target indices\r\n",
        "images, labels = select_n_random(trainset.data, trainset.targets)\r\n",
        "print(images.shape)\r\n",
        "# get the class labels for each image\r\n",
        "class_labels = [classes[lab] for lab in labels]\r\n",
        "\r\n",
        "# log embeddings\r\n",
        "features = images.view(-1, 28 * 28)\r\n",
        "writer.add_embedding(features,\r\n",
        "                    metadata=class_labels,\r\n",
        "                    label_img=images.unsqueeze(1))\r\n",
        "writer.close()"
      ],
      "execution_count": 24,
      "outputs": [
        {
          "output_type": "stream",
          "text": [
            "torch.Size([100, 28, 28])\n"
          ],
          "name": "stdout"
        }
      ]
    }
  ]
}